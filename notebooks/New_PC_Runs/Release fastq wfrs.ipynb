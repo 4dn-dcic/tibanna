{
 "cells": [
  {
   "cell_type": "code",
   "execution_count": 3,
   "metadata": {
    "collapsed": true
   },
   "outputs": [],
   "source": [
    "### This script looks at all files\n",
    "### 1) Checks deleted files for md5 related fields and clears them\n",
    "###                         for qc metric and changes status of qc metric object to deleted\n",
    "###                         clears the qc metric field\n",
    "###                         for workflows and deletes all of them\n",
    "### 2) Checks other files for workflows and deleted old workflows\n",
    "###                                     and deleted problematic ones (status or rev)\n",
    "### takes around 20 min\n",
    "\n",
    "from core.utils import Tibanna\n",
    "from core import ff_utils\n",
    "from datetime import datetime\n",
    "\n",
    "# set enviroment and key/connection\n",
    "env = 'fourfront-webprod'\n",
    "tibanna = Tibanna(env=env)\n",
    "\n",
    "tibanna.ff_keys['default']['server'] = 'https://data.4dnucleome.org'\n",
    "ff = ff_utils.fdn_connection(key=tibanna.ff_keys)\n",
    "tibanna.ff_keys['default']['server'] = 'https://data.4dnucleome.org'\n"
   ]
  },
  {
   "cell_type": "code",
   "execution_count": 11,
   "metadata": {
    "scrolled": true
   },
   "outputs": [
    {
     "name": "stdout",
     "output_type": "stream",
     "text": [
      "started at 2018-05-14 21:17:26.356771\n",
      "2943 files in the system\n",
      "100 0 0\n",
      "200 0 28\n",
      "300 150 67\n",
      "400 150 267\n",
      "500 150 467\n",
      "600 174 684\n",
      "700 188 879\n",
      "800 445 879\n",
      "900 556 1009\n",
      "1000 571 1199\n",
      "1100 571 1399\n",
      "1200 571 1599\n",
      "1300 571 1799\n",
      "1400 649 2003\n",
      "1500 879 2003\n",
      "1600 1039 2003\n",
      "1700 1291 2003\n",
      "1800 1561 2003\n",
      "1900 1861 2003\n",
      "2000 2161 2003\n",
      "2100 2461 2003\n",
      "2200 2761 2003\n",
      "2300 2980 2003\n",
      "2400 3180 2003\n",
      "2500 3332 2003\n",
      "2600 3519 2003\n"
     ]
    },
    {
     "name": "stderr",
     "output_type": "stream",
     "text": [
      "WARNING:root:\n"
     ]
    },
    {
     "name": "stdout",
     "output_type": "stream",
     "text": [
      "2700 3849 2003\n",
      "2800 4009 2003\n",
      "2900 4041 2003\n",
      "('rel', 4061)\n",
      "('rel_p', 2003)\n",
      "finished at 2018-05-14 22:07:14.582784\n"
     ]
    }
   ],
   "source": [
    "print 'started at', datetime.utcnow()\n",
    "\n",
    "# what kind of files should be searched for worflow run inputs, use url compatible naming\n",
    "\n",
    "# accepted workflows\n",
    "# workflow name, accepted revision numbers (0 if none), accetable run time (hours)\n",
    "workflow_details = [\n",
    "                    ['md5', ['0'], 12],\n",
    "                    ['fastqc-0-11-4-1', ['0', '1'], 12],\n",
    "#                     ['hi-c-processing-parta-juicer', ['25','26'], 150],\n",
    "#                     ['hi-c-processing-partb', ['31', '34', '38'],150],\n",
    "#                     ['hi-c-processing-partc', ['3', '8'], 150],\n",
    "#                     ['add-hic-normvector-to-mcool', ['3'], 150],\n",
    "#                     ['extract-mcool-normvector-for-juicebox', ['100'], 150],\n",
    "#                     ['extract-mcool-normvector-for-juicebox-1', ['1'], 150],\n",
    "#                     ['bwa-mem', ['0'], 150],\n",
    "#                     ['pairsam-parse-sort',['0'],150],\n",
    "#                     ['pairsam-merge',['0'],150],\n",
    "#                     ['pairsam-markasdup',['0'],150],\n",
    "#                     ['pairsam-filter',['0'],150],\n",
    "#                     ['addfragtopairs',['0'],150],\n",
    "#                     ['pairs-patch',['0'],150],\n",
    "#                     ['hi-c-processing-partb set',['0'],150],\n",
    "#                     ['hi-c-processing-partb exp',['0'],150],\n",
    "#                     ['hi-c-processing-partc set',['0'],150],\n",
    "#                     ['hi-c-processing-partc exp',['0'],150],\n",
    "    \n",
    "                    ['bwa-mem 0.2.5', ['0'],50],\n",
    "                    ['pairsqc-single 0.2.5', ['0'],50],\n",
    "                    ['hi-c-processing-bam 0.2.5', ['0'],50],  \n",
    "                    ['hi-c-processing-pairs 0.2.5', ['0'],50],\n",
    "                    ['hi-c-processing-pairs-nore 0.2.5', ['0'],50],\n",
    "                    ['hi-c-processing-pairs-nonorm 0.2.5', ['0'],50],\n",
    "                    ['hi-c-processing-pairs 0.2.5', ['0'],50],\n",
    "                   ]\n",
    "workflow_names = [i[0] for i in workflow_details]\n",
    "\n",
    "deleted_wfr_no = 0\n",
    "files_with_deleted_wfr = 0\n",
    "\n",
    "\n",
    "file_url = '/search/?status=released&status=released%20to%20project&type=FileFastq'\n",
    "files = ff_utils.get_metadata(file_url , connection=ff)['@graph']\n",
    "\n",
    "rel_p = 0\n",
    "rel = 0\n",
    "\n",
    "print len(files), 'files in the system'\n",
    "\n",
    "counter = 0\n",
    "for a_file in files:\n",
    "    counter += 1\n",
    "    if counter % 100 == 0:\n",
    "        print counter, rel, rel_p\n",
    "    wfr_report = []\n",
    "    f_status = a_file['status']\n",
    "    wfrs = a_file.get('workflow_run_inputs')\n",
    "    if not wfrs:\n",
    "        continue\n",
    "    for i in wfrs:\n",
    "        wfr_meta = ff_utils.get_metadata(i , connection=ff)\n",
    "        if wfr_meta['run_status'] != 'complete':\n",
    "            print('problem', a_file['accession'], wfr_meta['uuid'])\n",
    "        wfr_status = wfr_meta['status']\n",
    "        \n",
    "        if f_status != wfr_status:\n",
    "            \n",
    "            if f_status == 'released':\n",
    "                rel += 1\n",
    "            elif f_status == 'released to project':\n",
    "                rel_p += 1\n",
    "            patch_data = {'status': f_status} \n",
    "            ff_utils.patch_metadata(patch_data, obj_id=i ,connection=ff)\n",
    "\n",
    "print('rel', rel)\n",
    "print('rel_p', rel_p)\n",
    "          \n",
    "print 'finished at', datetime.utcnow()"
   ]
  },
  {
   "cell_type": "code",
   "execution_count": null,
   "metadata": {
    "collapsed": true
   },
   "outputs": [],
   "source": []
  }
 ],
 "metadata": {
  "kernelspec": {
   "display_name": "Python 2",
   "language": "python",
   "name": "python2"
  },
  "language_info": {
   "codemirror_mode": {
    "name": "ipython",
    "version": 2
   },
   "file_extension": ".py",
   "mimetype": "text/x-python",
   "name": "python",
   "nbconvert_exporter": "python",
   "pygments_lexer": "ipython2",
   "version": "2.7.10"
  }
 },
 "nbformat": 4,
 "nbformat_minor": 2
}
