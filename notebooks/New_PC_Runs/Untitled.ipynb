{
 "cells": [
  {
   "cell_type": "code",
   "execution_count": 3,
   "metadata": {},
   "outputs": [
    {
     "name": "stdout",
     "output_type": "stream",
     "text": [
      "/search/?experiments_in_set.experiment_type=in%20situ%20Hi-C&experiments_in_set.experiment_type=dilution%20Hi-C&type=ExperimentSetReplicate\n",
      "/search/?experiments_in_set.experiment_type=in%20situ%20Hi-C&experiments_in_set.experiment_type=dilution%20Hi-C&experiments_in_set.experiment_type=capture%20Hi-C&experiments_in_set.experiment_type=DNase%20Hi-C&experiments_in_set.experiment_type=micro-C&type=ExperimentSetReplicate\n"
     ]
    }
   ],
   "source": [
    "exp_types = ['in%20situ%20Hi-C', 'dilution%20Hi-C']\n",
    "set_url1 = '/search/?'+'&'.join(['experiments_in_set.experiment_type='+i for i in exp_types])+'&type=ExperimentSetReplicate'\n",
    "set_url2 = '/search/?experiments_in_set.experiment_type=in%20situ%20Hi-C&experiments_in_set.experiment_type=dilution%20Hi-C&experiments_in_set.experiment_type=capture%20Hi-C&experiments_in_set.experiment_type=DNase%20Hi-C&experiments_in_set.experiment_type=micro-C&type=ExperimentSetReplicate'\n",
    "print set_url1\n",
    "print set_url2"
   ]
  },
  {
   "cell_type": "code",
   "execution_count": null,
   "metadata": {
    "collapsed": true
   },
   "outputs": [],
   "source": []
  }
 ],
 "metadata": {
  "kernelspec": {
   "display_name": "Python 2",
   "language": "python",
   "name": "python2"
  },
  "language_info": {
   "codemirror_mode": {
    "name": "ipython",
    "version": 2
   },
   "file_extension": ".py",
   "mimetype": "text/x-python",
   "name": "python",
   "nbconvert_exporter": "python",
   "pygments_lexer": "ipython2",
   "version": "2.7.10"
  }
 },
 "nbformat": 4,
 "nbformat_minor": 2
}
