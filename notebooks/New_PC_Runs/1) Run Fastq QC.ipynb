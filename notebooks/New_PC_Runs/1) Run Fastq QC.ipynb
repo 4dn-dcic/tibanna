{
 "cells": [
  {
   "cell_type": "code",
   "execution_count": 4,
   "metadata": {
    "collapsed": true
   },
   "outputs": [],
   "source": [
    "from core.utils import Tibanna\n",
    "from core import ff_utils\n",
    "from core.utils import run_workflow\n",
    "from datetime import datetime\n",
    "from core.wfr import *\n",
    "\n",
    "env = 'fourfront-webprod'\n",
    "tibanna = Tibanna(env=env)\n",
    "tibanna.ff_keys['default']['server'] = 'https://data.4dnucleome.org'\n",
    "ff = ff_utils.fdn_connection(key=tibanna.ff_keys)\n",
    "tibanna.ff_keys['default']['server'] = 'https://data.4dnucleome.org'\n",
    "    "
   ]
  },
  {
   "cell_type": "code",
   "execution_count": 3,
   "metadata": {},
   "outputs": [
    {
     "name": "stdout",
     "output_type": "stream",
     "text": [
      "13\n",
      "fastqc running for 4DNFIZX777TN\n",
      "about to start run fastqc-0-11-4-1_4DNFIZX777TN.fastq.gz\n",
      "response from aws was: \n",
      " {u'startDate': datetime.datetime(2018, 5, 14, 14, 15, 11, 776000, tzinfo=tzlocal()), 'ResponseMetadata': {'RetryAttempts': 0, 'HTTPStatusCode': 200, 'RequestId': 'bded6468-57a2-11e8-b534-ab21897cab1e', 'HTTPHeaders': {'x-amzn-requestid': 'bded6468-57a2-11e8-b534-ab21897cab1e', 'content-length': '146', 'content-type': 'application/x-amz-json-1.0'}}, u'executionArn': u'arn:aws:states:us-east-1:643366669028:execution:tibanna_pony:fastqc-0-11-4-1_4DNFIZX777TN.fastq.gz'}\n",
      "url to view status:\n",
      "https://console.aws.amazon.com/states/home?region=us-east-1#/executions/details/arn:aws:states:us-east-1:643366669028:execution:tibanna_pony:fastqc-0-11-4-1_4DNFIZX777TN.fastq.gz\n",
      "fastqc running for 4DNFIEGUZAHT\n",
      "about to start run fastqc-0-11-4-1_4DNFIEGUZAHT.fastq.gz\n",
      "response from aws was: \n",
      " {u'startDate': datetime.datetime(2018, 5, 14, 14, 15, 13, 588000, tzinfo=tzlocal()), 'ResponseMetadata': {'RetryAttempts': 0, 'HTTPStatusCode': 200, 'RequestId': 'bf01e188-57a2-11e8-8509-b5ddee978dba', 'HTTPHeaders': {'x-amzn-requestid': 'bf01e188-57a2-11e8-8509-b5ddee978dba', 'content-length': '146', 'content-type': 'application/x-amz-json-1.0'}}, u'executionArn': u'arn:aws:states:us-east-1:643366669028:execution:tibanna_pony:fastqc-0-11-4-1_4DNFIEGUZAHT.fastq.gz'}\n",
      "url to view status:\n",
      "https://console.aws.amazon.com/states/home?region=us-east-1#/executions/details/arn:aws:states:us-east-1:643366669028:execution:tibanna_pony:fastqc-0-11-4-1_4DNFIEGUZAHT.fastq.gz\n",
      "fastqc running for 4DNFIPURET1J\n",
      "about to start run fastqc-0-11-4-1_4DNFIPURET1J.fastq.gz\n",
      "response from aws was: \n",
      " {u'startDate': datetime.datetime(2018, 5, 14, 14, 15, 15, 369000, tzinfo=tzlocal()), 'ResponseMetadata': {'RetryAttempts': 0, 'HTTPStatusCode': 200, 'RequestId': 'c00ff5d8-57a2-11e8-91ae-99d8b9bc5e36', 'HTTPHeaders': {'x-amzn-requestid': 'c00ff5d8-57a2-11e8-91ae-99d8b9bc5e36', 'content-length': '146', 'content-type': 'application/x-amz-json-1.0'}}, u'executionArn': u'arn:aws:states:us-east-1:643366669028:execution:tibanna_pony:fastqc-0-11-4-1_4DNFIPURET1J.fastq.gz'}\n",
      "url to view status:\n",
      "https://console.aws.amazon.com/states/home?region=us-east-1#/executions/details/arn:aws:states:us-east-1:643366669028:execution:tibanna_pony:fastqc-0-11-4-1_4DNFIPURET1J.fastq.gz\n",
      "fastqc running for 4DNFIFGKPCMC\n",
      "about to start run fastqc-0-11-4-1_4DNFIFGKPCMC.fastq.gz\n",
      "response from aws was: \n",
      " {u'startDate': datetime.datetime(2018, 5, 14, 14, 15, 17, 113000, tzinfo=tzlocal()), 'ResponseMetadata': {'RetryAttempts': 0, 'HTTPStatusCode': 200, 'RequestId': 'c11cab17-57a2-11e8-8889-a1e1fc7935a9', 'HTTPHeaders': {'x-amzn-requestid': 'c11cab17-57a2-11e8-8889-a1e1fc7935a9', 'content-length': '146', 'content-type': 'application/x-amz-json-1.0'}}, u'executionArn': u'arn:aws:states:us-east-1:643366669028:execution:tibanna_pony:fastqc-0-11-4-1_4DNFIFGKPCMC.fastq.gz'}\n",
      "url to view status:\n",
      "https://console.aws.amazon.com/states/home?region=us-east-1#/executions/details/arn:aws:states:us-east-1:643366669028:execution:tibanna_pony:fastqc-0-11-4-1_4DNFIFGKPCMC.fastq.gz\n",
      "fastqc running for 4DNFIIOZ5RTP\n",
      "about to start run fastqc-0-11-4-1_4DNFIIOZ5RTP.fastq.gz\n",
      "response from aws was: \n",
      " {u'startDate': datetime.datetime(2018, 5, 14, 14, 15, 18, 938000, tzinfo=tzlocal()), 'ResponseMetadata': {'RetryAttempts': 0, 'HTTPStatusCode': 200, 'RequestId': 'c231770f-57a2-11e8-9bbe-bf89b3d53336', 'HTTPHeaders': {'x-amzn-requestid': 'c231770f-57a2-11e8-9bbe-bf89b3d53336', 'content-length': '146', 'content-type': 'application/x-amz-json-1.0'}}, u'executionArn': u'arn:aws:states:us-east-1:643366669028:execution:tibanna_pony:fastqc-0-11-4-1_4DNFIIOZ5RTP.fastq.gz'}\n",
      "url to view status:\n",
      "https://console.aws.amazon.com/states/home?region=us-east-1#/executions/details/arn:aws:states:us-east-1:643366669028:execution:tibanna_pony:fastqc-0-11-4-1_4DNFIIOZ5RTP.fastq.gz\n",
      "fastqc running for 4DNFIOKO765A\n",
      "about to start run fastqc-0-11-4-1_4DNFIOKO765A.fastq.gz\n",
      "response from aws was: \n",
      " {u'startDate': datetime.datetime(2018, 5, 14, 14, 15, 20, 698000, tzinfo=tzlocal()), 'ResponseMetadata': {'RetryAttempts': 0, 'HTTPStatusCode': 200, 'RequestId': 'c33d419f-57a2-11e8-b523-bd9e61be6f85', 'HTTPHeaders': {'x-amzn-requestid': 'c33d419f-57a2-11e8-b523-bd9e61be6f85', 'content-length': '146', 'content-type': 'application/x-amz-json-1.0'}}, u'executionArn': u'arn:aws:states:us-east-1:643366669028:execution:tibanna_pony:fastqc-0-11-4-1_4DNFIOKO765A.fastq.gz'}\n",
      "url to view status:\n",
      "https://console.aws.amazon.com/states/home?region=us-east-1#/executions/details/arn:aws:states:us-east-1:643366669028:execution:tibanna_pony:fastqc-0-11-4-1_4DNFIOKO765A.fastq.gz\n",
      "fastqc running for 4DNFIDMUW56Q\n",
      "about to start run fastqc-0-11-4-1_4DNFIDMUW56Q.fastq.gz\n",
      "response from aws was: \n",
      " {u'startDate': datetime.datetime(2018, 5, 14, 14, 15, 22, 496000, tzinfo=tzlocal()), 'ResponseMetadata': {'RetryAttempts': 0, 'HTTPStatusCode': 200, 'RequestId': 'c4525aa5-57a2-11e8-9014-a1803e981f82', 'HTTPHeaders': {'x-amzn-requestid': 'c4525aa5-57a2-11e8-9014-a1803e981f82', 'content-length': '146', 'content-type': 'application/x-amz-json-1.0'}}, u'executionArn': u'arn:aws:states:us-east-1:643366669028:execution:tibanna_pony:fastqc-0-11-4-1_4DNFIDMUW56Q.fastq.gz'}\n",
      "url to view status:\n",
      "https://console.aws.amazon.com/states/home?region=us-east-1#/executions/details/arn:aws:states:us-east-1:643366669028:execution:tibanna_pony:fastqc-0-11-4-1_4DNFIDMUW56Q.fastq.gz\n",
      "fastqc running for 4DNFIBR5TPHV\n",
      "about to start run fastqc-0-11-4-1_4DNFIBR5TPHV.fastq.gz\n",
      "response from aws was: \n",
      " {u'startDate': datetime.datetime(2018, 5, 14, 14, 15, 24, 443000, tzinfo=tzlocal()), 'ResponseMetadata': {'RetryAttempts': 0, 'HTTPStatusCode': 200, 'RequestId': 'c57779b9-57a2-11e8-91e4-1d22145fd415', 'HTTPHeaders': {'x-amzn-requestid': 'c57779b9-57a2-11e8-91e4-1d22145fd415', 'content-length': '146', 'content-type': 'application/x-amz-json-1.0'}}, u'executionArn': u'arn:aws:states:us-east-1:643366669028:execution:tibanna_pony:fastqc-0-11-4-1_4DNFIBR5TPHV.fastq.gz'}\n",
      "url to view status:\n",
      "https://console.aws.amazon.com/states/home?region=us-east-1#/executions/details/arn:aws:states:us-east-1:643366669028:execution:tibanna_pony:fastqc-0-11-4-1_4DNFIBR5TPHV.fastq.gz\n",
      "fastqc running for 4DNFIVZPF9M9\n",
      "about to start run fastqc-0-11-4-1_4DNFIVZPF9M9.fastq.gz\n",
      "response from aws was: \n",
      " {u'startDate': datetime.datetime(2018, 5, 14, 14, 15, 26, 246000, tzinfo=tzlocal()), 'ResponseMetadata': {'RetryAttempts': 0, 'HTTPStatusCode': 200, 'RequestId': 'c68b342b-57a2-11e8-8509-b5ddee978dba', 'HTTPHeaders': {'x-amzn-requestid': 'c68b342b-57a2-11e8-8509-b5ddee978dba', 'content-length': '146', 'content-type': 'application/x-amz-json-1.0'}}, u'executionArn': u'arn:aws:states:us-east-1:643366669028:execution:tibanna_pony:fastqc-0-11-4-1_4DNFIVZPF9M9.fastq.gz'}\n",
      "url to view status:\n",
      "https://console.aws.amazon.com/states/home?region=us-east-1#/executions/details/arn:aws:states:us-east-1:643366669028:execution:tibanna_pony:fastqc-0-11-4-1_4DNFIVZPF9M9.fastq.gz\n",
      "fastqc running for 4DNFINBXXW77\n",
      "about to start run fastqc-0-11-4-1_4DNFINBXXW77.fastq.gz\n",
      "response from aws was: \n",
      " {u'startDate': datetime.datetime(2018, 5, 14, 14, 15, 27, 966000, tzinfo=tzlocal()), 'ResponseMetadata': {'RetryAttempts': 0, 'HTTPStatusCode': 200, 'RequestId': 'c7948d2d-57a2-11e8-97cf-933c451f5c83', 'HTTPHeaders': {'x-amzn-requestid': 'c7948d2d-57a2-11e8-97cf-933c451f5c83', 'content-length': '146', 'content-type': 'application/x-amz-json-1.0'}}, u'executionArn': u'arn:aws:states:us-east-1:643366669028:execution:tibanna_pony:fastqc-0-11-4-1_4DNFINBXXW77.fastq.gz'}\n",
      "url to view status:\n",
      "https://console.aws.amazon.com/states/home?region=us-east-1#/executions/details/arn:aws:states:us-east-1:643366669028:execution:tibanna_pony:fastqc-0-11-4-1_4DNFINBXXW77.fastq.gz\n",
      "fastqc running for 4DNFIY13CD93\n",
      "about to start run fastqc-0-11-4-1_4DNFIY13CD93.fastq.gz\n",
      "response from aws was: \n",
      " {u'startDate': datetime.datetime(2018, 5, 14, 14, 15, 29, 839000, tzinfo=tzlocal()), 'ResponseMetadata': {'RetryAttempts': 0, 'HTTPStatusCode': 200, 'RequestId': 'c8b2ce9b-57a2-11e8-8066-23378be98ac4', 'HTTPHeaders': {'x-amzn-requestid': 'c8b2ce9b-57a2-11e8-8066-23378be98ac4', 'content-length': '146', 'content-type': 'application/x-amz-json-1.0'}}, u'executionArn': u'arn:aws:states:us-east-1:643366669028:execution:tibanna_pony:fastqc-0-11-4-1_4DNFIY13CD93.fastq.gz'}\n",
      "url to view status:\n",
      "https://console.aws.amazon.com/states/home?region=us-east-1#/executions/details/arn:aws:states:us-east-1:643366669028:execution:tibanna_pony:fastqc-0-11-4-1_4DNFIY13CD93.fastq.gz\n"
     ]
    },
    {
     "name": "stdout",
     "output_type": "stream",
     "text": [
      "fastqc running for 4DNFI43RP96B\n",
      "about to start run fastqc-0-11-4-1_4DNFI43RP96B.fastq.gz\n",
      "response from aws was: \n",
      " {u'startDate': datetime.datetime(2018, 5, 14, 14, 15, 31, 603000, tzinfo=tzlocal()), 'ResponseMetadata': {'RetryAttempts': 0, 'HTTPStatusCode': 200, 'RequestId': 'c9bc287d-57a2-11e8-9416-e145cf2585cb', 'HTTPHeaders': {'x-amzn-requestid': 'c9bc287d-57a2-11e8-9416-e145cf2585cb', 'content-length': '146', 'content-type': 'application/x-amz-json-1.0'}}, u'executionArn': u'arn:aws:states:us-east-1:643366669028:execution:tibanna_pony:fastqc-0-11-4-1_4DNFI43RP96B.fastq.gz'}\n",
      "url to view status:\n",
      "https://console.aws.amazon.com/states/home?region=us-east-1#/executions/details/arn:aws:states:us-east-1:643366669028:execution:tibanna_pony:fastqc-0-11-4-1_4DNFI43RP96B.fastq.gz\n",
      "fastqc running for 4DNFI8KTY3QD\n",
      "about to start run fastqc-0-11-4-1_4DNFI8KTY3QD.fastq.gz\n",
      "response from aws was: \n",
      " {u'startDate': datetime.datetime(2018, 5, 14, 14, 15, 33, 554000, tzinfo=tzlocal()), 'ResponseMetadata': {'RetryAttempts': 0, 'HTTPStatusCode': 200, 'RequestId': 'caea6ed3-57a2-11e8-afe4-132810aed5ae', 'HTTPHeaders': {'x-amzn-requestid': 'caea6ed3-57a2-11e8-afe4-132810aed5ae', 'content-length': '146', 'content-type': 'application/x-amz-json-1.0'}}, u'executionArn': u'arn:aws:states:us-east-1:643366669028:execution:tibanna_pony:fastqc-0-11-4-1_4DNFI8KTY3QD.fastq.gz'}\n",
      "url to view status:\n",
      "https://console.aws.amazon.com/states/home?region=us-east-1#/executions/details/arn:aws:states:us-east-1:643366669028:execution:tibanna_pony:fastqc-0-11-4-1_4DNFI8KTY3QD.fastq.gz\n",
      "okay, not okay, running\n",
      "(0, 13, 0)\n"
     ]
    }
   ],
   "source": [
    "import time\n",
    "from tasks import run_fastqc\n",
    "from invoke import run\n",
    "\n",
    "# for a given experiment set and some parameters like instrument\n",
    "# print set of files and their partA hic workflow status\n",
    "# if there are one that are running report the number of running cases\n",
    "# if there are file pairs that don't have a corresponding part A, report them separately\n",
    "\n",
    "add_wfr = True\n",
    "\n",
    "# url for hic exps\n",
    "fastq_url = \"search/?type=FileFastq&quality_metric.uuid=No+value\" + \\\n",
    "            \"&status=released&status=released%20to%20project&status=uploaded\" + \\\n",
    "            \"&limit=all\" + \\\n",
    "            \"&q=date_created%3A%3E%3D2016-09-01\"\n",
    "\n",
    "fastq_files = ff_utils.get_metadata(fastq_url , connection=ff)['@graph']\n",
    "\n",
    "\n",
    "\n",
    "counter = 0\n",
    "completed = 0\n",
    "print len(fastq_files)\n",
    "\n",
    "okay = 0\n",
    "non = 0\n",
    "running = 0\n",
    "for a_fastq in fastq_files:\n",
    "    report = get_wfr_out(a_fastq['accession'], 'fastqc-0-11-4-1/1', None, ff)\n",
    "    if report.startswith('no') or not report:\n",
    "        non += 1\n",
    "        if add_wfr:\n",
    "            print 'fastqc running for', a_fastq['accession']\n",
    "            code_qc= \"invoke run_fastqc \" + env + \" \" + a_fastq['display_title'] + \" \" + a_fastq['uuid']\n",
    "            run(code_qc)\n",
    "        else:\n",
    "            print 'fastqc run missing for', a_fastq['accession']   \n",
    "    elif report == 'running':\n",
    "        running += 1\n",
    "        print(a_fastq['accession'], 'still running')\n",
    "    else:\n",
    "        okay += 1\n",
    "        \n",
    "print(\"okay, not okay, running\")    \n",
    "print(okay, non, running)\n"
   ]
  },
  {
   "cell_type": "code",
   "execution_count": 5,
   "metadata": {},
   "outputs": [
    {
     "name": "stdout",
     "output_type": "stream",
     "text": [
      "2947\n",
      "('unmatched status', u'4DNFIGZKCSBB')\n",
      "1\n",
      "('unmatched status', u'4DNFIYIREE8L')\n",
      "2\n",
      "('unmatched status', u'4DNFI6PJCX1Z')\n",
      "3\n",
      "('unmatched status', u'4DNFIBS2562B')\n",
      "4\n"
     ]
    },
    {
     "name": "stderr",
     "output_type": "stream",
     "text": [
      "WARNING:root:\n"
     ]
    },
    {
     "name": "stdout",
     "output_type": "stream",
     "text": [
      "4\n",
      "0\n"
     ]
    }
   ],
   "source": [
    "# Release fastq qc\n",
    "\n",
    "fastq_url = '/search/?status=released&status=released%20to%20project&status=archived&type=FileFastq'\n",
    "fastq_files = ff_utils.get_metadata(fastq_url , connection=ff)['@graph']\n",
    "fastq_files = [i for i in fastq_files if i.get('quality_metric')]\n",
    "print len(fastq_files)\n",
    "success = 0\n",
    "patch_problem = 0\n",
    "\n",
    "patch_trigger = True\n",
    "\n",
    "for fastq in fastq_files:\n",
    "    fastq_status = fastq['status']\n",
    "    if fastq_status in ['released', 'released to project', 'archived']:\n",
    "        qc_status = ff_utils.get_metadata(fastq['quality_metric'],connection=ff)['status']\n",
    "        if qc_status != fastq_status:\n",
    "            print('unmatched status', fastq['accession'])\n",
    "            patch_data = {\"status\": fastq_status}\n",
    "            \n",
    "            if patch_trigger:\n",
    "                try:\n",
    "                    ff_utils.patch_metadata(patch_data, obj_id=fastq['quality_metric'] ,connection=ff)\n",
    "                    success += 1\n",
    "                    print success\n",
    "                except Exception as e:\n",
    "                    print e\n",
    "                    print\n",
    "                    patch_problem += 1\n",
    "print success\n",
    "print patch_problem\n",
    "\n"
   ]
  },
  {
   "cell_type": "code",
   "execution_count": null,
   "metadata": {
    "collapsed": true
   },
   "outputs": [],
   "source": []
  }
 ],
 "metadata": {
  "anaconda-cloud": {},
  "kernelspec": {
   "display_name": "Python 2",
   "language": "python",
   "name": "python2"
  },
  "language_info": {
   "codemirror_mode": {
    "name": "ipython",
    "version": 2
   },
   "file_extension": ".py",
   "mimetype": "text/x-python",
   "name": "python",
   "nbconvert_exporter": "python",
   "pygments_lexer": "ipython2",
   "version": "2.7.10"
  }
 },
 "nbformat": 4,
 "nbformat_minor": 2
}
