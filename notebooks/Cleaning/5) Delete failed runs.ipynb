{
 "cells": [
  {
   "cell_type": "code",
   "execution_count": 10,
   "metadata": {},
   "outputs": [
    {
     "name": "stdout",
     "output_type": "stream",
     "text": [
      "3055 wfrs\n",
      "1775 wfrs active\n",
      "0 wfrs deleted\n"
     ]
    }
   ],
   "source": [
    "from core.utils import Tibanna\n",
    "from core import ff_utils\n",
    "from tasks import run_md5\n",
    "from tasks import run_fastqc\n",
    "from invoke import run\n",
    "import time\n",
    "from datetime import datetime\n",
    "\n",
    "exclude_miseq = True\n",
    "wf_md5 = \"md5\"\n",
    "wf_fastqc = \"fastqc-0-11-4-1/1\"\n",
    "wf_partA = \"hi-c-processing-parta-juicer/\"\n",
    "\n",
    "env = 'fourfront-webdev'\n",
    "tibanna = Tibanna(env=env)\n",
    "\n",
    "# status for completion\n",
    "# there are two flavors of complete signals, before it was output_file_transfer_finished, not it is complete.\n",
    "# old completed wf runs have former one.\n",
    "\n",
    "ff = ff_utils.fdn_connection(key=tibanna.ff_keys)\n",
    "wfrs_resp = ff_utils.get_metadata('workflow-runs-sbg', connection=ff)['@graph']\n",
    "print len(wfrs_resp), \"wfrs\"\n",
    "\n",
    "deleted_wfrs = 0\n",
    "non_deleted = 0 \n",
    "\n",
    "for wfr_resp in wfrs_resp:\n",
    "    if wfr_resp['status'] != 'deleted':\n",
    "        non_deleted += 1\n",
    "        if wfr_resp['run_status'] in  ['started', 'error']:\n",
    "                deleted_wfrs += 1\n",
    "                patch_data = {'description': \"This workflow run is deleted since it failed\",\n",
    "                              'status': \"deleted\"}\n",
    "                print 'deleteing', wfr_resp['uuid']\n",
    "                # ff_utils.patch_metadata(patch_data, obj_id=wfr_resp['uuid'] ,connection=ff)\n",
    "\n",
    "print non_deleted, \"wfrs active\"\n",
    "print deleted_wfrs, \"wfrs deleted\"\n"
   ]
  },
  {
   "cell_type": "code",
   "execution_count": null,
   "metadata": {
    "collapsed": true
   },
   "outputs": [],
   "source": []
  }
 ],
 "metadata": {
  "anaconda-cloud": {},
  "kernelspec": {
   "display_name": "Python 2",
   "language": "python",
   "name": "python2"
  },
  "language_info": {
   "codemirror_mode": {
    "name": "ipython",
    "version": 2
   },
   "file_extension": ".py",
   "mimetype": "text/x-python",
   "name": "python",
   "nbconvert_exporter": "python",
   "pygments_lexer": "ipython2",
   "version": "2.7.10"
  }
 },
 "nbformat": 4,
 "nbformat_minor": 2
}
