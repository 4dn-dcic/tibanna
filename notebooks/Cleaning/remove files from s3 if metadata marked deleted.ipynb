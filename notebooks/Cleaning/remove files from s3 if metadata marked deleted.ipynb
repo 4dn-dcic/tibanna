{
 "cells": [
  {
   "cell_type": "code",
   "execution_count": null,
   "metadata": {},
   "outputs": [],
   "source": [
    "### Check deleted files and removes them from s3\n",
    "\n",
    "from core.utils import Tibanna\n",
    "from core import ff_utils\n",
    "from datetime import datetime\n",
    "from tqdm import tqdm_notebook\n",
    "\n",
    "# set enviroment and key/connection\n",
    "env = 'fourfront-webdev'\n",
    "tibanna = Tibanna(env=env)\n",
    "s3 = tibanna.s3\n",
    "ff = ff_utils.fdn_connection(key=tibanna.ff_keys)\n",
    "\n",
    "files = ff_utils.get_metadata('/search/?type=File&status=deleted', connection=ff)\n",
    "len_files = len(files['@graph'])\n",
    "print(\"Files to be deleted %s\" % len(files['@graph']))\n",
    "\n",
    "num_on_s3_raw = s3.size(s3.raw_file_bucket)\n",
    "num_on_s3_processed = s3.size(s3.outfile_bucket)\n",
    "print(\"Starting off with Raw count %d and Processed count %d on s3\" %\n",
    "       (num_on_s3_raw, num_on_s3_processed))\n",
    "\n",
    "\n",
    "num_deleted_raw = 0\n",
    "num_deleted_processed = 0\n",
    "raw_files = 'FileFastq'\n",
    "file_types_not_found = []\n",
    "\n",
    "\n",
    "for i in tqdm_notebook(range(len_files)):\n",
    "    the_file = files['@graph'][i]\n",
    "    # double check cause I'm paranoid\n",
    "    if the_file['status'].lower() == 'deleted':\n",
    "        upload_key = the_file['upload_key']\n",
    "        file_type = the_file['@type']\n",
    "        try:\n",
    "            if raw_files in file_type:\n",
    "                s3.delete_key(upload_key, s3.raw_file_bucket)\n",
    "                num_deleted_raw += 1\n",
    "            else:\n",
    "                s3.delete_key(upload_key, s3.outfile_bucket)\n",
    "                num_deleted_processed += 1\n",
    "                file_types_not_found.extend(file_type)\n",
    "        \n",
    "        except:\n",
    "            print(\"failed to delete obj \" + the_file['uuid'] + \" with type \" + file_type)\n",
    "\n",
    "            \n",
    "num_after_s3_raw = s3.size(s3.raw_file_bucket)\n",
    "num_after_s3_processed = s3.size(s3.outfile_bucket)\n",
    "\n",
    "print(\"raw deleted: %s\" % num_deleted_raw)\n",
    "print(\"processed deleted: %s\" % num_deleted_processed)\n",
    "\n",
    "print(\"s3 raw count: %s\" % num_after_s3_raw)\n",
    "print(\"s3 processed count: %s\" % num_after_s3_processed)\n",
    "\n",
    "s3_raw_var = num_on_s3_raw - num_after_s3_raw\n",
    "s3_proc_var = num_on_s3_processed - num_after_s3_processed\n",
    "\n",
    "raw_var = s3_raw_var - num_deleted_raw\n",
    "proc_var = s3_proc_var - num_deleted_processed\n",
    "\n",
    "print(\"raw variance (positive value mean more objects in s3): %d\" % raw_var)\n",
    "print(\"processed variance (positive value mean more objects in s3): %d\" % proc_var)\n",
    "\n",
    "unique_file_types = set(file_types_not_found)\n",
    "print(\"Catch all file types %s\" % unique_file_types)\n"
   ]
  },
  {
   "cell_type": "code",
   "execution_count": null,
   "metadata": {
    "collapsed": true
   },
   "outputs": [],
   "source": []
  },
  {
   "cell_type": "code",
   "execution_count": null,
   "metadata": {
    "collapsed": true
   },
   "outputs": [],
   "source": []
  }
 ],
 "metadata": {
  "kernelspec": {
   "display_name": "Python 2",
   "language": "python",
   "name": "python2"
  },
  "language_info": {
   "codemirror_mode": {
    "name": "ipython",
    "version": 2
   },
   "file_extension": ".py",
   "mimetype": "text/x-python",
   "name": "python",
   "nbconvert_exporter": "python",
   "pygments_lexer": "ipython2",
   "version": "2.7.13"
  }
 },
 "nbformat": 4,
 "nbformat_minor": 2
}
