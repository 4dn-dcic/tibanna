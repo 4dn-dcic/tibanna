{
 "cells": [
  {
   "cell_type": "code",
   "execution_count": null,
   "metadata": {
    "collapsed": true,
    "scrolled": true
   },
   "outputs": [],
   "source": [
    "### Check deleted workflow runs for output files and delete them\n",
    "\n",
    "from core.utils import Tibanna\n",
    "from core import ff_utils\n",
    "from datetime import datetime\n",
    "\n",
    "# set enviroment and key/connection\n",
    "env = 'fourfront-webdev'\n",
    "tibanna = Tibanna(env=env)\n",
    "ff = ff_utils.fdn_connection(key=tibanna.ff_keys)\n",
    "\n",
    "wfrs = ff_utils.get_metadata('workflow-runs-sbg' , connection=ff)['@graph']\n",
    "print len(wfrs), 'workflowruns in the system'\n",
    "counter = 0\n",
    "deleted_output = 0\n",
    "for a_wfr in wfrs:\n",
    "    counter += 1\n",
    "    if counter % 100 == 0:\n",
    "        print counter, deleted_output\n",
    "\n",
    "    if a_wfr['status'] == 'deleted':\n",
    "        outputs = [i.get('value') for i in a_wfr['output_files'] if i.get('value')]\n",
    "    else:\n",
    "        continue  \n",
    "    if outputs:\n",
    "        for out_file in outputs:\n",
    "            file_status = ff_utils.get_metadata(out_file, connection=ff, frame='raw')['status']\n",
    "            print file_status\n",
    "            if file_status != 'deleted':\n",
    "                deleted_output += 1\n",
    "                ff_utils.patch_metadata({'status': \"deleted\"}, obj_id=out_file ,connection=ff)\n",
    "print deleted_output, 'output files deleted'\n",
    "                           "
   ]
  },
  {
   "cell_type": "code",
   "execution_count": null,
   "metadata": {
    "collapsed": true
   },
   "outputs": [],
   "source": []
  }
 ],
 "metadata": {
  "kernelspec": {
   "display_name": "Python 2",
   "language": "python",
   "name": "python2"
  },
  "language_info": {
   "codemirror_mode": {
    "name": "ipython",
    "version": 2
   },
   "file_extension": ".py",
   "mimetype": "text/x-python",
   "name": "python",
   "nbconvert_exporter": "python",
   "pygments_lexer": "ipython2",
   "version": "2.7.10"
  }
 },
 "nbformat": 4,
 "nbformat_minor": 2
}
