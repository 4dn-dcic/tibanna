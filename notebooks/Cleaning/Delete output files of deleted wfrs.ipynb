{
 "cells": [
  {
   "cell_type": "code",
   "execution_count": 7,
   "metadata": {
    "scrolled": true
   },
   "outputs": [],
   "source": [
    "### Check deleted workflow runs for output files and delete them\n",
    "\n",
    "from core.utils import Tibanna\n",
    "from core import ff_utils\n",
    "from datetime import datetime\n",
    "\n",
    "# set enviroment and key/connection\n",
    "env = 'fourfront-webprod'\n",
    "tibanna = Tibanna(env=env)\n",
    "ff = ff_utils.fdn_connection(key=tibanna.ff_keys)\n",
    "\n",
    "wfrs = ff_utils.get_metadata('/search/?status=deleted&type=WorkflowRun' , connection=ff)['@graph']\n",
    "                       "
   ]
  },
  {
   "cell_type": "code",
   "execution_count": 13,
   "metadata": {},
   "outputs": [
    {
     "name": "stdout",
     "output_type": "stream",
     "text": [
      "5263 workflowruns in the system\n",
      "100 10\n",
      "200 10\n",
      "300 10\n",
      "400 100\n",
      "500 184\n",
      "600 184\n",
      "700 184\n",
      "800 184\n",
      "900 184\n",
      "1000 184\n",
      "1100 184\n",
      "1200 184\n",
      "1300 184\n",
      "1400 184\n",
      "1500 224\n",
      "1600 424\n",
      "1700 622\n",
      "1800 822\n",
      "1900 908\n",
      "2000 914\n",
      "2100 925\n",
      "2200 935\n",
      "2300 936\n",
      "2400 936\n",
      "2500 936\n",
      "2600 936\n",
      "2700 940\n",
      "2800 940\n",
      "2900 940\n",
      "3000 940\n",
      "3100 940\n",
      "3200 940\n",
      "3300 940\n",
      "3400 940\n",
      "3500 940\n",
      "3600 940\n",
      "3700 940\n",
      "3800 940\n",
      "3900 940\n",
      "4000 940\n",
      "4100 940\n",
      "4200 940\n",
      "4300 940\n",
      "4400 940\n",
      "4500 940\n",
      "4600 940\n",
      "4700 940\n",
      "4800 940\n",
      "4900 940\n",
      "5000 940\n",
      "5100 940\n",
      "5200 940\n",
      "940 output files deleted\n"
     ]
    }
   ],
   "source": [
    "print len(wfrs), 'workflowruns in the system'\n",
    "counter = 0\n",
    "deleted_output = 0\n",
    "\n",
    "for a_wfr in wfrs:\n",
    "    counter += 1\n",
    "    if counter % 100 == 0:\n",
    "        print counter, deleted_output\n",
    "\n",
    "    if a_wfr.get('output_files'):\n",
    "        outputs = [i.get('value') for i in a_wfr['output_files'] if i.get('value')]\n",
    "    else:\n",
    "        continue\n",
    "\n",
    "    if outputs:\n",
    "        for out_file in outputs:\n",
    "            file_status = ff_utils.get_metadata(out_file, connection=ff, frame='raw')['status']\n",
    "            if file_status != 'deleted':\n",
    "                deleted_output += 1\n",
    "                ff_utils.patch_metadata({'status': \"deleted\"}, obj_id=out_file ,connection=ff)\n",
    "print deleted_output, 'output files deleted'"
   ]
  },
  {
   "cell_type": "code",
   "execution_count": null,
   "metadata": {},
   "outputs": [],
   "source": []
  },
  {
   "cell_type": "code",
   "execution_count": null,
   "metadata": {
    "collapsed": true
   },
   "outputs": [],
   "source": []
  }
 ],
 "metadata": {
  "kernelspec": {
   "display_name": "Python 2",
   "language": "python",
   "name": "python2"
  },
  "language_info": {
   "codemirror_mode": {
    "name": "ipython",
    "version": 2
   },
   "file_extension": ".py",
   "mimetype": "text/x-python",
   "name": "python",
   "nbconvert_exporter": "python",
   "pygments_lexer": "ipython2",
   "version": "2.7.10"
  }
 },
 "nbformat": 4,
 "nbformat_minor": 2
}
