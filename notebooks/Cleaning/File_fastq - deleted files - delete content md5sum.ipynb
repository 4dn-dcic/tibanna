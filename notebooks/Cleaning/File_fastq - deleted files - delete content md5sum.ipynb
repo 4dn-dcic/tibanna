{
 "cells": [
  {
   "cell_type": "code",
   "execution_count": null,
   "metadata": {},
   "outputs": [],
   "source": [
    "from core.utils import Tibanna\n",
    "from core import ff_utils\n",
    "from datetime import datetime\n",
    "\n",
    "# set enviroment and key/connection\n",
    "env = 'fourfront-webdev'\n",
    "tibanna = Tibanna(env=env)\n",
    "ff = ff_utils.fdn_connection(key=tibanna.ff_keys)\n",
    "\n",
    "\n",
    "# what kind of files should be searched for worflow run inputs, use url compatible naming\n",
    "raw_file_types = ['files-fastq']\n",
    "clean = 0\n",
    "for raw_file_type in raw_file_types:\n",
    "    # get all files for the given file type\n",
    "    files = ff_utils.get_metadata(raw_file_type , connection=ff)['@graph']\n",
    "    for raw_file in files:\n",
    "        if raw_file['status'] == 'deleted':\n",
    "            processed = False\n",
    "            if raw_file.get('content_md5sum'):\n",
    "                e2 = ff_utils.delete_field(raw_file, 'content_md5sum', connection=ff)\n",
    "                if e2.get('status') != 'success':\n",
    "                    print 'problem with deleteting content md5sum of', file_data['uuid']\n",
    "                    print e2\n",
    "                else:\n",
    "                    processed = True\n",
    "            if raw_file.get('md5sum'):\n",
    "                e3 = ff_utils.delete_field(raw_file, 'md5sum', connection=ff)\n",
    "                if e3.get('status') != 'success':\n",
    "                    print 'problem with deleteting content md5sum of', file_data['uuid']\n",
    "                    print e3\n",
    "                else:\n",
    "                    processed = True\n",
    "            if processed:\n",
    "                clean += 1\n",
    "\n",
    "print clean, 'files cleaned'   "
   ]
  }
 ],
 "metadata": {
  "kernelspec": {
   "display_name": "Python 2",
   "language": "python",
   "name": "python2"
  },
  "language_info": {
   "codemirror_mode": {
    "name": "ipython",
    "version": 2
   },
   "file_extension": ".py",
   "mimetype": "text/x-python",
   "name": "python",
   "nbconvert_exporter": "python",
   "pygments_lexer": "ipython2",
   "version": "2.7.10"
  }
 },
 "nbformat": 4,
 "nbformat_minor": 2
}
