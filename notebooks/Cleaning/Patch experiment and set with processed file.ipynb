{
 "cells": [
  {
   "cell_type": "code",
   "execution_count": 2,
   "metadata": {
    "scrolled": true
   },
   "outputs": [
    {
     "name": "stdout",
     "output_type": "stream",
     "text": [
      "started at 2017-07-28 14:38:20.437426\n",
      "4441 total wfrs\n",
      "1915 non-deleted wfrs\n",
      "97 partA wfrs\n",
      "4 partB wfrs\n",
      "4 partC wfrs\n",
      "1 partD wfrs\n",
      "3 partE wfrs\n"
     ]
    }
   ],
   "source": [
    "from core.utils import Tibanna\n",
    "from core import ff_utils\n",
    "from datetime import datetime\n",
    "\n",
    "# set enviroment and key/connection\n",
    "env = 'fourfront-webdev'\n",
    "tibanna = Tibanna(env=env)\n",
    "ff = ff_utils.fdn_connection(key=tibanna.ff_keys)\n",
    "\n",
    "print 'started at', datetime.utcnow()\n",
    "# set enviroment and key/connection\n",
    "env = 'fourfront-webdev'\n",
    "tibanna = Tibanna(env=env)\n",
    "ff = ff_utils.fdn_connection(key=tibanna.ff_keys)\n",
    "\n",
    "wfrs = ff_utils.get_metadata('workflow-runs-sbg' , connection=ff)['@graph']\n",
    "print len(wfrs), 'total wfrs'\n",
    "wfrs = [i for i in wfrs if i['status']!= 'deleted']\n",
    "print len(wfrs), 'non-deleted wfrs'\n",
    "\n",
    "partA_wfrs = [i for i in wfrs if i['title'].split(' run ')[0].split('/')[0] == 'hi-c-processing-parta-juicer']\n",
    "print len(partA_wfrs), 'partA wfrs'\n",
    "\n",
    "partB_wfrs = [i for i in wfrs if i['title'].split(' run ')[0].split('/')[0] == 'hi-c-processing-partb']\n",
    "print len(partB_wfrs), 'partB wfrs'\n",
    "\n",
    "partC_wfrs = [i for i in wfrs if i['title'].split(' run ')[0].split('/')[0] == 'hi-c-processing-partc']\n",
    "print len(partC_wfrs), 'partC wfrs'\n",
    "\n",
    "partD_wfrs = [i for i in wfrs if i['title'].split(' run ')[0].split('/')[0] == 'add-hic-normvector-to-mcool']\n",
    "print len(partD_wfrs), 'partD wfrs'\n",
    "\n",
    "partE_wfrs = [i for i in wfrs if i['title'].split(' run ')[0].split('/')[0] == 'extract-mcool-normvector-for-juicebox']\n",
    "print len(partE_wfrs), 'partE wfrs'\n",
    "\n"
   ]
  },
  {
   "cell_type": "code",
   "execution_count": 4,
   "metadata": {},
   "outputs": [
    {
     "name": "stdout",
     "output_type": "stream",
     "text": [
      "{'processed_files': [u'c151ea1c-c175-4927-89c8-b1fda1f0d2c5']}\n",
      "4DNEXNEX9DN1\n",
      "{'processed_files': [u'b6e22896-9339-4e82-a6d9-a1da84917794']}\n",
      "4DNEX3UQJRK9\n",
      "{'processed_files': [u'fbb6c88f-09b7-47ea-9523-e0238d49d0ea']}\n",
      "4DNEXLQ26QO3\n"
     ]
    }
   ],
   "source": [
    "counter = 0\n",
    "\n",
    "for pA in partA_wfrs:\n",
    "    counter += 1\n",
    "    # grab an input fastq file\n",
    "    inp_fastq = [i['value'] for i in pA['input_files'] if i['workflow_argument_name'] == 'fastq1']\n",
    "    my_exp = ff_utils.get_metadata(inp_fastq[0] , connection=ff, frame = 'embedded')['experiments'][0]\n",
    "    my_exp_id = my_exp['accession']\n",
    "    #my_exp_pf = my_exp['processed_file']\n",
    "    \n",
    "    #output_files = list(set([i['value'] for i in pA['output_files']] + my_exp_pf))\n",
    "    output_files = [i['value'] for i in pA['output_files']]\n",
    "    my_uuid = ff_utils.get_metadata(output_files[0] , connection=ff)['uuid']\n",
    "    test = [my_uuid]\n",
    "    patch_data = {'processed_files':test}\n",
    "    #ff_utils.patch_metadata(patch_data, obj_id=my_exp ,connection=ff)\n",
    "    if counter < 4:\n",
    "        print patch_data\n",
    "        print my_exp_id\n",
    "        #ff_utils.patch_metadata(patch_data, obj_id=my_exp_id ,connection=ff)\n",
    "\n",
    "    \n",
    "# print len(wfrs), 'workflowruns in the system"
   ]
  },
  {
   "cell_type": "code",
   "execution_count": null,
   "metadata": {
    "collapsed": true
   },
   "outputs": [],
   "source": []
  }
 ],
 "metadata": {
  "kernelspec": {
   "display_name": "Python 2",
   "language": "python",
   "name": "python2"
  },
  "language_info": {
   "codemirror_mode": {
    "name": "ipython",
    "version": 2
   },
   "file_extension": ".py",
   "mimetype": "text/x-python",
   "name": "python",
   "nbconvert_exporter": "python",
   "pygments_lexer": "ipython2",
   "version": "2.7.10"
  }
 },
 "nbformat": 4,
 "nbformat_minor": 2
}
