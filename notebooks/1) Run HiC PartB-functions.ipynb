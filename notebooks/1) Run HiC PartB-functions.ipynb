{
 "cells": [
  {
   "cell_type": "code",
   "execution_count": 2,
   "metadata": {
    "collapsed": true
   },
   "outputs": [],
   "source": [
    "def make_hicb_json(input_files, env, output_bucket, accession, ncores):\n",
    "    input_json = {'input_files': input_files,\n",
    "                  'output_bucket': output_bucket,\n",
    "                  'workflow_uuid': \"b9829418-49e5-4c33-afab-9ec90d65faf3\",\n",
    "                  \"app_name\": \"hi-c-processing-partb/15\",\n",
    "                  \"parameters\": {\n",
    "                      \"ncores\" :  ncores,\n",
    "                      \"binsize\": 5000,\n",
    "                      \"min_res\": 5000,\n",
    "                      \"normalization_type\": \"KR\"\n",
    "                  },\n",
    "                  \"_tibanna\": {\"env\": env, \"run_type\": \"hic-partb\", \"run_id\": accession}\n",
    "                  }\n",
    "    return input_json\n",
    "\n",
    "\n",
    "def make_input_file_json(obj_ids, arg_name, tibanna):\n",
    "    '''\n",
    "    obj_ids can be either a string or a list.\n",
    "    {\n",
    "      \"bucket_name\": \"%s\",\n",
    "      \"object_key\": \"%s\",\n",
    "      \"uuid\" : \"%s\",\n",
    "      \"workflow_argument_name\": \"%s\"\n",
    "    }\n",
    "    '''\n",
    "    ff = ff_utils.fdn_connection(key=tibanna.ff_keys)\n",
    "    \n",
    "    if not isinstance(obj_ids, list):\n",
    "        obj_ids = [ obj_ids ]\n",
    "        \n",
    "    for obj_id in obj_ids:\n",
    "        metadata = ff_utils.get_metadata(obj_id, connection=ff)\n",
    "     \n",
    "        # just make sure the file is on s3, otherwise bail\n",
    "        print(\"looking for upload key %s, on bucket %s\" % \n",
    "              (metadata['upload_key'],\n",
    "               tibanna.s3.outfile_bucket))\n",
    "        if tibanna.s3.does_key_exist(metadata['upload_key']):\n",
    "            append(object_key_list, metadata['upload_key'].split('/')[1])\n",
    "            append(uuid_list, metadata['uuid'])\n",
    "\n",
    "    data = {'bucket_name' : tibanna.s3.outfile_bucket,\n",
    "                    'object_key' :  object_key_list,\n",
    "                    'uuid' : uuid_list,\n",
    "                    'workflow_argument_name': arg_name\n",
    "            }\n",
    "    return data\n",
    "    "
   ]
  },
  {
   "cell_type": "code",
   "execution_count": null,
   "metadata": {
    "collapsed": true
   },
   "outputs": [],
   "source": []
  }
 ],
 "metadata": {
  "kernelspec": {
   "display_name": "Python [conda env:jupyter]",
   "language": "python",
   "name": "conda-env-jupyter-py"
  },
  "language_info": {
   "codemirror_mode": {
    "name": "ipython",
    "version": 3
   },
   "file_extension": ".py",
   "mimetype": "text/x-python",
   "name": "python",
   "nbconvert_exporter": "python",
   "pygments_lexer": "ipython3",
   "version": "3.5.2"
  }
 },
 "nbformat": 4,
 "nbformat_minor": 1
}
