{
 "cells": [
  {
   "cell_type": "code",
   "execution_count": 2,
   "metadata": {},
   "outputs": [
    {
     "data": {
      "text/plain": [
       "'elasticbeanstalk-fourfront-webdev-files'"
      ]
     },
     "execution_count": 2,
     "metadata": {},
     "output_type": "execute_result"
    }
   ],
   "source": [
    "# This script will look for file_fastq items and check if they have quality metric, but lack the related workflow_run\n",
    "# It will delete the quality_metric object and also clear the quality_metric field in the file-fastq\n",
    "\n",
    "from core.utils import Tibanna\n",
    "from core import ff_utils\n",
    "from datetime import datetime\n",
    "import time\n",
    "\n",
    "\n",
    "# set enviroment and key/connection\n",
    "env = 'fourfront-webprod'\n",
    "tibanna = Tibanna(env=env)\n",
    "ff = ff_utils.fdn_connection(key=tibanna.ff_keys)\n",
    "\n",
    "\"elasticbeanstalk-fourfront-webdev-files\"\n",
    "\n",
    "\n",
    "# files = [i for i in ff_utils.get_metadata('files' , connection=ff)['@graph']]\n",
    "# print(len(files))\n",
    "# prob_files = [ i for i in files if \"0\" in i['accession']]\n",
    "# print(len(prob_files))\n",
    "# prob_al_files = [i for i in prob_files if i['status'] != 'deleted']\n",
    "# print(len(prob_al_files))\n",
    "\n",
    "\n",
    "\n",
    "\n",
    "# file = ff_utils.get_metadata('4DNFI44JD4EE' , connection=ff)\n",
    "# print file['status']\n",
    "\n",
    "# a = False\n",
    "# while a is False:\n",
    "#     file = ff_utils.get_metadata('4DNFI44JD4EE' , connection=ff)\n",
    "#     if file['status'] == 'uploaded':\n",
    "#         a = True\n",
    "#         print 'DONE, was started 2:11 pm, and finished now at ', datetime.now()\n",
    "#     else:\n",
    "#         print 'not yet', datetime.now()\n",
    "#     time.sleep(60)\n",
    "    \n",
    "    \n",
    "    \n",
    "\n"
   ]
  },
  {
   "cell_type": "code",
   "execution_count": null,
   "metadata": {
    "collapsed": true
   },
   "outputs": [],
   "source": [
    "for a_file in prob_al_files:\n",
    "    print(a_file['@id'],a_file['status'], a_file['date_created'])"
   ]
  },
  {
   "cell_type": "code",
   "execution_count": null,
   "metadata": {
    "collapsed": true
   },
   "outputs": [],
   "source": [
    "proc_files = [i for i in ff_utils.get_metadata('files-processed' , connection=ff)['@graph']]\n",
    "print(len(proc_files))"
   ]
  },
  {
   "cell_type": "code",
   "execution_count": null,
   "metadata": {
    "collapsed": true
   },
   "outputs": [],
   "source": [
    "\n",
    "wfrs = [i for i in ff_utils.get_metadata('workflow-runs-sbg' , connection=ff)['@graph']]\n",
    "print(len(wfrs))\n",
    "rel_wfrs = [i for i in wfrs if i['status'] == 'released']\n",
    "print(len(rel_wfrs))\n"
   ]
  },
  {
   "cell_type": "code",
   "execution_count": null,
   "metadata": {
    "collapsed": true
   },
   "outputs": [],
   "source": [
    "for i in rel_wfrs:\n",
    "    if i['status'] == 'released':\n",
    "        #ff_utils.patch_metadata({'status': \"in review by lab\"}, obj_id=i['uuid'] ,connection=ff)"
   ]
  },
  {
   "cell_type": "code",
   "execution_count": 3,
   "metadata": {},
   "outputs": [
    {
     "name": "stdout",
     "output_type": "stream",
     "text": [
      "9f86422b-08a3-4926-9ff8-22f8a0be1c48\n",
      "9135be43-33c6-463d-87c7-9e2b1d56adbd\n",
      "10d1c941-87af-44d9-ac29-8bdcb15d4ca7\n",
      "e58e2141-9253-4c91-85c3-d67ce06db28f\n",
      "aa6f0d82-16c9-4109-a1f8-3fa0636a3560\n",
      "e6ce55ac-a39f-4064-a578-5329c5454205\n"
     ]
    }
   ],
   "source": [
    "sets = [\n",
    "\"dciclab:rao_rep12\",\n",
    "\"dciclab:rao_rep13\",\n",
    "\"dcic:Selvaraj_gm12878_hic\",\n",
    "\"dcic:Jin_imr90_hic\",\n",
    "\"dciclab:rao_rep02\",\n",
    "\"dciclab:rao_rep07\"]\n",
    "\n",
    "for i in sets:\n",
    "    req = ff_utils.get_metadata(i , connection=ff)\n",
    "    print(req[\"uuid\"])\n",
    "    "
   ]
  },
  {
   "cell_type": "code",
   "execution_count": null,
   "metadata": {
    "collapsed": true
   },
   "outputs": [],
   "source": []
  }
 ],
 "metadata": {
  "kernelspec": {
   "display_name": "Python 2",
   "language": "python",
   "name": "python2"
  },
  "language_info": {
   "codemirror_mode": {
    "name": "ipython",
    "version": 2
   },
   "file_extension": ".py",
   "mimetype": "text/x-python",
   "name": "python",
   "nbconvert_exporter": "python",
   "pygments_lexer": "ipython2",
   "version": "2.7.10"
  }
 },
 "nbformat": 4,
 "nbformat_minor": 2
}
