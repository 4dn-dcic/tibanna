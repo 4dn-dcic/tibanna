{
 "cells": [
  {
   "cell_type": "code",
   "execution_count": null,
   "metadata": {},
   "outputs": [],
   "source": [
    "# This script will look for file_fastq items and check if they have quality metric, but lack the related workflow_run\n",
    "# It will delete the quality_metric object and also clear the quality_metric field in the file-fastq\n",
    "\n",
    "from core.utils import Tibanna\n",
    "from core import ff_utils\n",
    "from datetime import datetime\n",
    "import time\n",
    "\n",
    "\n",
    "# set enviroment and key/connection\n",
    "env = 'fourfront-webdev'\n",
    "tibanna = Tibanna(env=env)\n",
    "ff = ff_utils.fdn_connection(key=tibanna.ff_keys)\n",
    "\n",
    "\"elasticbeanstalk-fourfront-webdev-files\"\n",
    "\n",
    "\n",
    "\n",
    "print datetime.now()\n",
    "\n",
    "\n",
    "file = ff_utils.get_metadata('4DNFI44JD4EE' , connection=ff)\n",
    "print file['status']\n",
    "\n",
    "a = False\n",
    "while a is False:\n",
    "    file = ff_utils.get_metadata('4DNFI44JD4EE' , connection=ff)\n",
    "    if file['status'] == 'uploaded':\n",
    "        a = True\n",
    "        print 'DONE, was started 2:11 pm, and finished now at ', datetime.now()\n",
    "    else:\n",
    "        print 'not yet', datetime.now()\n",
    "    time.sleep(60)\n",
    "    \n",
    "    \n",
    "    \n",
    "\n"
   ]
  },
  {
   "cell_type": "code",
   "execution_count": null,
   "metadata": {
    "collapsed": true
   },
   "outputs": [],
   "source": []
  }
 ],
 "metadata": {
  "kernelspec": {
   "display_name": "Python 2",
   "language": "python",
   "name": "python2"
  },
  "language_info": {
   "codemirror_mode": {
    "name": "ipython",
    "version": 2
   },
   "file_extension": ".py",
   "mimetype": "text/x-python",
   "name": "python",
   "nbconvert_exporter": "python",
   "pygments_lexer": "ipython2",
   "version": "2.7.10"
  }
 },
 "nbformat": 4,
 "nbformat_minor": 2
}
