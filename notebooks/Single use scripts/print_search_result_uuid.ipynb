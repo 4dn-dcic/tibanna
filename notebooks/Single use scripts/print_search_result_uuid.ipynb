{
 "cells": [
  {
   "cell_type": "code",
   "execution_count": 6,
   "metadata": {},
   "outputs": [
    {
     "name": "stdout",
     "output_type": "stream",
     "text": [
      "2\n",
      "9b1063f5-c891-44a8-b44a-3b4879257366 4DNESQBZ6L8Z TrAC-loop on H1 Tier1 cells- 4 biological replicates\n",
      "c5db8085-92bd-4d06-a22c-7958e4a78e19 4DNES5BDII8F TrAC-loop on GM12878 cells- 4 biological replicates\n",
      "\n",
      "[\n",
      "'9b1063f5-c891-44a8-b44a-3b4879257366',\n",
      "'c5db8085-92bd-4d06-a22c-7958e4a78e19',\n",
      "]\n"
     ]
    }
   ],
   "source": [
    "from core.utils import Tibanna\n",
    "from core import ff_utils\n",
    "\n",
    "env = 'fourfront-webprod'\n",
    "tibanna = Tibanna(env=env)\n",
    "ff = ff_utils.fdn_connection(key=tibanna.ff_keys)\n",
    "\n",
    "item_type = \"ExperimentSetReplicate\"\n",
    "experiment_type='TrAC-loop'\n",
    "lab = \"\"\n",
    "\n",
    "\n",
    "get_object = \"/search/?experiments_in_set.experiment_type={exp_type}&type={obj_type}\".format(\n",
    "    exp_type=experiment_type, obj_type=item_type, lab = lab)\n",
    "resp = ff_utils.get_metadata(get_object, connection=ff)\n",
    "print(len(resp))\n",
    "\n",
    "for i in resp:\n",
    "    print i['uuid'], i['display_title'], i.get('description')\n",
    "print\n",
    "\n",
    "print \"[\"\n",
    "for i in resp:\n",
    "    print \"'\"+i['uuid']+\"',\"\n",
    "print \"]\"\n",
    "\n"
   ]
  },
  {
   "cell_type": "code",
   "execution_count": null,
   "metadata": {
    "collapsed": true
   },
   "outputs": [],
   "source": []
  }
 ],
 "metadata": {
  "kernelspec": {
   "display_name": "Python 2",
   "language": "python",
   "name": "python2"
  },
  "language_info": {
   "codemirror_mode": {
    "name": "ipython",
    "version": 2
   },
   "file_extension": ".py",
   "mimetype": "text/x-python",
   "name": "python",
   "nbconvert_exporter": "python",
   "pygments_lexer": "ipython2",
   "version": "2.7.10"
  }
 },
 "nbformat": 4,
 "nbformat_minor": 2
}
