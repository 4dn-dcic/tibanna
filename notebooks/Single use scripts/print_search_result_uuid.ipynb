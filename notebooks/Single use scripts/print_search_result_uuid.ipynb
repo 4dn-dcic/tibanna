{
 "cells": [
  {
   "cell_type": "code",
   "execution_count": 2,
   "metadata": {},
   "outputs": [
    {
     "name": "stdout",
     "output_type": "stream",
     "text": [
      "5\n",
      "8e9cfe23-aac5-4e66-9514-e880fe34cbc4 4DNESO7WASBW DNA Paint on HFF Htert cells with 3 loci\n",
      "e4510669-23bb-45cb-a6a0-f6bb0cf75dd0 4DNESHGVQ24X DNA Paint on HFF Htert cells with 3 loci\n",
      "1c75ed00-ba21-4484-b510-f0875d814bc7 4DNES9ZVROU7 DNA Paint on HFF Htert cells with 3 loci\n",
      "3ebd99e8-db53-44e9-a831-3e4813d2dd99 4DNESFJW5W9I DNA Paint on HFF Htert cells with 3 loci\n",
      "906bd763-6439-4445-9e4a-5f814b246070 4DNES23HB46I DNA Paint on HFF Htert cells with 3 loci\n",
      "\n",
      "[\n",
      "'8e9cfe23-aac5-4e66-9514-e880fe34cbc4',\n",
      "'e4510669-23bb-45cb-a6a0-f6bb0cf75dd0',\n",
      "'1c75ed00-ba21-4484-b510-f0875d814bc7',\n",
      "'3ebd99e8-db53-44e9-a831-3e4813d2dd99',\n",
      "'906bd763-6439-4445-9e4a-5f814b246070',\n",
      "]\n"
     ]
    }
   ],
   "source": [
    "from core.utils import Tibanna\n",
    "from core import ff_utils\n",
    "\n",
    "env = 'fourfront-webprod'\n",
    "tibanna = Tibanna(env=env)\n",
    "ff = ff_utils.fdn_connection(key=tibanna.ff_keys)\n",
    "\n",
    "item_type = \"ExperimentSetReplicate\"\n",
    "experiment_type='in situ Hi-C'\n",
    "lab = \"\"\n",
    "\n",
    "\n",
    "get_object = \"/search/?experiments_in_set.experiment_type={exp_type}&type={obj_type}\".format(\n",
    "    exp_type=experiment_type, obj_type=item_type, lab = lab)\n",
    "\n",
    "\n",
    "get_object = \"/browse/?type=ExperimentSetReplicate&experimentset_type=replicate&experiments_in_set.experiment_type=DNA-FiSH&award.project=4DN\"\n",
    "resp = ff_utils.get_metadata(get_object, connection=ff)\n",
    "print(len(resp))\n",
    "\n",
    "for i in resp:\n",
    "    print i['uuid'], i['display_title'], i.get('description')\n",
    "print\n",
    "\n",
    "print \"[\"\n",
    "for i in resp:\n",
    "    print \"'\"+i['uuid']+\"',\"\n",
    "print \"]\"\n",
    "\n"
   ]
  },
  {
   "cell_type": "code",
   "execution_count": null,
   "metadata": {
    "collapsed": true
   },
   "outputs": [],
   "source": []
  }
 ],
 "metadata": {
  "kernelspec": {
   "display_name": "Python 2",
   "language": "python",
   "name": "python2"
  },
  "language_info": {
   "codemirror_mode": {
    "name": "ipython",
    "version": 2
   },
   "file_extension": ".py",
   "mimetype": "text/x-python",
   "name": "python",
   "nbconvert_exporter": "python",
   "pygments_lexer": "ipython2",
   "version": "2.7.10"
  }
 },
 "nbformat": 4,
 "nbformat_minor": 2
}
