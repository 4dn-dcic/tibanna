{
 "cells": [
  {
   "cell_type": "code",
   "execution_count": 34,
   "metadata": {},
   "outputs": [
    {
     "name": "stdout",
     "output_type": "stream",
     "text": [
      "8\n",
      "c85de504-96cf-4856-b7f3-398e6bf1e37b 4DNESVA79ZRN DNAseq of nucleolar-associated DNA from crosslinked HFFc6 cells\n",
      "c50006d4-a98d-4366-bd5b-650fee1696ee 4DNESV4F9PFH DNAseq of nucleolar-associated DNA from crosslinked H1 cells\n",
      "43586c61-a527-43d3-b95a-1bc063fa1fb7 4DNESFN9RH2P WGS seq of total genomic DNA from crosslinked HFFc6 cells\n",
      "e2b336fb-dda9-4eff-9125-0603cc99916e 4DNESV9Q2PMB WGS seq of total genomic DNA from crosslinked H1 cells\n",
      "f41f9b4b-9f13-4e25-abed-13fcf99b5a73 4DNES4U7AY3P WGS seq of total genomic DNA from crosslinked MEF cells\n",
      "1ed849f5-cf49-4190-84a9-161f13906c21 4DNES7SVJXAI WGS seq of total genomic DNA from non-crosslinked MEF cells\n",
      "c33e4a8d-cd5e-4bf2-8973-88a46efd2173 4DNESNEBF9W4 DNAseq of nucleolar-associated DNA from non-crosslinked MEF cells\n",
      "d5fd5f93-8ffc-4bdc-8db9-1457d119248b 4DNESR3K7VRN DNAseq of nucleolar-associated DNA from crosslinked MEF cells\n",
      "\n",
      "[\n",
      "'c85de504-96cf-4856-b7f3-398e6bf1e37b',\n",
      "'c50006d4-a98d-4366-bd5b-650fee1696ee',\n",
      "'43586c61-a527-43d3-b95a-1bc063fa1fb7',\n",
      "'e2b336fb-dda9-4eff-9125-0603cc99916e',\n",
      "'f41f9b4b-9f13-4e25-abed-13fcf99b5a73',\n",
      "'1ed849f5-cf49-4190-84a9-161f13906c21',\n",
      "'c33e4a8d-cd5e-4bf2-8973-88a46efd2173',\n",
      "'d5fd5f93-8ffc-4bdc-8db9-1457d119248b',\n",
      "]\n",
      "[u'c85de504-96cf-4856-b7f3-398e6bf1e37b', u'c50006d4-a98d-4366-bd5b-650fee1696ee', u'43586c61-a527-43d3-b95a-1bc063fa1fb7', u'e2b336fb-dda9-4eff-9125-0603cc99916e', u'f41f9b4b-9f13-4e25-abed-13fcf99b5a73', u'1ed849f5-cf49-4190-84a9-161f13906c21', u'c33e4a8d-cd5e-4bf2-8973-88a46efd2173', u'd5fd5f93-8ffc-4bdc-8db9-1457d119248b']\n"
     ]
    }
   ],
   "source": [
    "from core.utils import Tibanna\n",
    "from core import ff_utils\n",
    "\n",
    "env = 'fourfront-webprod'\n",
    "tibanna = Tibanna(env=env)\n",
    "ff = ff_utils.fdn_connection(key=tibanna.ff_keys)\n",
    "\n",
    "item_type = \"ExperimentSetReplicate\"\n",
    "experiment_type='NAD-seq'\n",
    "lab = \"Paul%20Kaufman%2C%20UMMS\"\n",
    "\n",
    "\n",
    "get_object = \"/search/?experiments_in_set.experiment_type={exp_type}&lab.display_title={lab}&type={obj_type}\".format(\n",
    "    exp_type=experiment_type, obj_type=item_type, lab = lab)\n",
    "resp = ff_utils.get_metadata(get_object, connection=ff)['@graph']\n",
    "print(len(resp))\n",
    "\n",
    "for i in resp:\n",
    "    print i['uuid'], i['display_title'], i.get('description')\n",
    "print\n",
    "\n",
    "print \"[\"\n",
    "for i in resp:\n",
    "    print \"'\"+i['uuid']+\"',\"\n",
    "print \"]\"\n",
    "\n",
    "print([i['uuid'] for i in resp])\n",
    "\n",
    "    \n",
    "# for uuid_m in check_uuids:\n",
    "#     raw_json = ff_utils.get_metadata(uuid_m, connection=ff, frame = 'raw' )\n",
    "#     if raw_json.get('public_release'):\n",
    "#         print uuid_m , raw_json.get('description')\n",
    "#         ff_utils.delete_field(raw_json, \"public_release\", connection=ff)\n",
    "#     patch_data = {'status': 'in review by lab'}\n",
    "#     e = ff_utils.patch_metadata(patch_data, obj_id=raw_json['uuid'] ,connection=ff)\n",
    "\n",
    "\n",
    "        \n",
    "        \n"
   ]
  },
  {
   "cell_type": "code",
   "execution_count": null,
   "metadata": {
    "collapsed": true
   },
   "outputs": [],
   "source": []
  }
 ],
 "metadata": {
  "kernelspec": {
   "display_name": "Python 2",
   "language": "python",
   "name": "python2"
  },
  "language_info": {
   "codemirror_mode": {
    "name": "ipython",
    "version": 2
   },
   "file_extension": ".py",
   "mimetype": "text/x-python",
   "name": "python",
   "nbconvert_exporter": "python",
   "pygments_lexer": "ipython2",
   "version": "2.7.10"
  }
 },
 "nbformat": 4,
 "nbformat_minor": 2
}
