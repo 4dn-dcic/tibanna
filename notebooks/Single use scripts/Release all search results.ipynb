{
 "cells": [
  {
   "cell_type": "code",
   "execution_count": null,
   "metadata": {},
   "outputs": [],
   "source": [
    "from core.utils import Tibanna\n",
    "from core import ff_utils\n",
    "from uuid import UUID\n",
    "import ast\n",
    "\n",
    "env = 'fourfront-webdev'\n",
    "tibanna = Tibanna(env=env)\n",
    "ff = ff_utils.fdn_connection(key=tibanna.ff_keys)\n",
    "counter = 0\n",
    "success = 0\n",
    "patch_problem = 0\n",
    "dekker_items = ff_utils.get_metadata('/search/?q=erez-liebermanaiden-lab&type=Item', connection=ff)['@graph']\n",
    "print len(dekker_items)\n",
    "for i in dekker_items:\n",
    "    counter += 1\n",
    "    if counter % 10 == 0:\n",
    "        print counter, success, patch_problem\n",
    "    if i['status'] not in ['deleted', 'released', 'current']:\n",
    "        print i['status']\n",
    "        my_id = i['uuid']\n",
    "        patch_data = {'status': 'released'}\n",
    "        try:\n",
    "            #ff_utils.patch_metadata(patch_data, obj_id=my_id ,connection=ff)\n",
    "            success += 1\n",
    "        except Exception as e:\n",
    "            print e\n",
    "            patch_problem += 1\n",
    "            \n",
    "print success\n",
    "print patch_problem"
   ]
  },
  {
   "cell_type": "code",
   "execution_count": null,
   "metadata": {
    "collapsed": true
   },
   "outputs": [],
   "source": []
  }
 ],
 "metadata": {
  "kernelspec": {
   "display_name": "Python 2",
   "language": "python",
   "name": "python2"
  },
  "language_info": {
   "codemirror_mode": {
    "name": "ipython",
    "version": 2
   },
   "file_extension": ".py",
   "mimetype": "text/x-python",
   "name": "python",
   "nbconvert_exporter": "python",
   "pygments_lexer": "ipython2",
   "version": "2.7.10"
  }
 },
 "nbformat": 4,
 "nbformat_minor": 2
}
