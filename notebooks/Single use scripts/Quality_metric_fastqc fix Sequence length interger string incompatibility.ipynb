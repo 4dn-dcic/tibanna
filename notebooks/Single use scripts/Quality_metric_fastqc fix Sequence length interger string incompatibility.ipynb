{
 "cells": [
  {
   "cell_type": "code",
   "execution_count": null,
   "metadata": {},
   "outputs": [],
   "source": [
    "# Some old quality_metric_fastqc objects had the sequence length field as integer, whereas it is string now.\n",
    "# converts the integers to string\n",
    "\n",
    "from core.utils import Tibanna\n",
    "from core import ff_utils\n",
    "\n",
    "# set enviroment and key/connection\n",
    "env = 'fourfront-webdev'\n",
    "tibanna = Tibanna(env=env)\n",
    "ff = ff_utils.fdn_connection(key=tibanna.ff_keys)\n",
    "\n",
    "\n",
    "# get all files for fastqc\n",
    "qm_fastqc = ff_utils.get_metadata('quality-metrics-fastqc' , connection=ff)['@graph']\n",
    "problem = 0\n",
    "failed_qc = 0\n",
    "for qm in qm_fastqc:\n",
    "    if isinstance(qm.get('Sequence length'), int):\n",
    "        problem += 1\n",
    "        patch_data = {'Sequence length': str(qm.get('Sequence length'))}\n",
    "        ff_utils.patch_metadata(patch_data, obj_id=qm['uuid'] ,connection=ff)\n",
    "    if qm['status'] != 'deleted':\n",
    "        if qm.get('overall_quality_status') != 'PASS':\n",
    "            failed_qc += 1\n",
    "\n",
    "print str(problem), 'cases changed from int to string'           \n",
    "print str(failed_qc), 'failed quality metric'"
   ]
  }
 ],
 "metadata": {
  "kernelspec": {
   "display_name": "Python 2",
   "language": "python",
   "name": "python2"
  },
  "language_info": {
   "codemirror_mode": {
    "name": "ipython",
    "version": 2
   },
   "file_extension": ".py",
   "mimetype": "text/x-python",
   "name": "python",
   "nbconvert_exporter": "python",
   "pygments_lexer": "ipython2",
   "version": "2.7.10"
  }
 },
 "nbformat": 4,
 "nbformat_minor": 2
}
