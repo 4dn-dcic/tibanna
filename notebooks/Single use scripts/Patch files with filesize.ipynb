{
 "cells": [
  {
   "cell_type": "code",
   "execution_count": null,
   "metadata": {},
   "outputs": [],
   "source": [
    "from core.utils import Tibanna\n",
    "from core import ff_utils\n",
    "\n",
    "\n",
    "# for a given experiment set and some parameters like instrument\n",
    "# print set of files and their partA hic workflow status\n",
    "# if there are one that are running report the number of running cases\n",
    "# if there are file pairs that don't have a corresponding part A, report them separately\n",
    "\n",
    "env = 'fourfront-webprod'\n",
    "tibanna = Tibanna(env=env)\n",
    "\n",
    "file_not_found = 0\n",
    "deleted = 0\n",
    "uploading = 0\n",
    "success = 0\n",
    "patch_problem = 0\n",
    "ff = ff_utils.fdn_connection(key=tibanna.ff_keys)\n",
    "files_resp = ff_utils.get_metadata('files', connection=ff)['@graph']\n",
    "sp_files_resp = [ff_utils.get_metadata('4DNFIC6AZHM5', connection=ff)]\n",
    "Search1 = '/search/?status=released&status=uploaded&status=released%20to%20project&type=File'\n",
    "Search2 = '/search/?lab.title=4DN%20DCIC%20Lab%2C%20HMS&type=FileFastq'\n",
    "\n",
    "#add_size = ff_utils.get_metadata(Search1, connection=ff)['@graph']\n",
    "#print len(add_size), 'files'\n",
    "\n",
    "no_size = 0\n",
    "counter = 0\n",
    "for a_file in files_resp:\n",
    "    if a_file['status'] == 'deleted':\n",
    "        deleted += 1\n",
    "        continue\n",
    "    counter += 1\n",
    "    if counter % 100 == 0:\n",
    "        print counter,\"+\" ,deleted\n",
    "    if a_file['status'] in ['uploading', 'to be uploaded by workflow']:\n",
    "        uploading += 1\n",
    "        continue\n",
    "    # check if there is  no filesize\n",
    "    if not a_file.get('file_size'):\n",
    "        # decide on the bucket\n",
    "        if 'FileProcessed' in a_file['@type']:\n",
    "            bucket = tibanna.s3.outfile_bucket\n",
    "        else:\n",
    "            bucket = tibanna.s3.raw_file_bucket\n",
    "            \n",
    "        # check if file is in s3\n",
    "        head_info = tibanna.s3.does_key_exist(a_file['upload_key'], bucket)\n",
    "        if not head_info:\n",
    "            print a_file['@id'], a_file['status']\n",
    "            file_not_found += 1\n",
    "            continue\n",
    "        file_size = head_info['ContentLength']\n",
    "\n",
    "        patch_data = {'file_size': file_size}\n",
    "        try:\n",
    "            ff_utils.patch_metadata(patch_data, obj_id=a_file['uuid'] ,connection=ff)\n",
    "            success += 1\n",
    "        except Exception as e:\n",
    "            print e\n",
    "            print\n",
    "            patch_problem += 1\n",
    "\n",
    "print file_not_found, 'files missing from s3'\n",
    "print patch_problem, 'files had patch problems'\n",
    "print deleted, 'deleted files skipped'\n",
    "print uploading, 'uploading files skipped'\n",
    "print success, 'total files patched'"
   ]
  },
  {
   "cell_type": "code",
   "execution_count": null,
   "metadata": {
    "collapsed": true
   },
   "outputs": [],
   "source": []
  },
  {
   "cell_type": "code",
   "execution_count": null,
   "metadata": {
    "collapsed": true
   },
   "outputs": [],
   "source": []
  }
 ],
 "metadata": {
  "anaconda-cloud": {},
  "kernelspec": {
   "display_name": "Python 2",
   "language": "python",
   "name": "python2"
  },
  "language_info": {
   "codemirror_mode": {
    "name": "ipython",
    "version": 2
   },
   "file_extension": ".py",
   "mimetype": "text/x-python",
   "name": "python",
   "nbconvert_exporter": "python",
   "pygments_lexer": "ipython2",
   "version": "2.7.10"
  }
 },
 "nbformat": 4,
 "nbformat_minor": 2
}
