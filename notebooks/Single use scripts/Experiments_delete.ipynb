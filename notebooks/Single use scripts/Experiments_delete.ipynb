{
 "cells": [
  {
   "cell_type": "code",
   "execution_count": 2,
   "metadata": {
    "collapsed": true
   },
   "outputs": [],
   "source": [
    "from core.utils import Tibanna\n",
    "from core import ff_utils\n",
    "from uuid import UUID\n",
    "import ast\n",
    "\n",
    "env = 'fourfront-webprod'\n",
    "tibanna = Tibanna(env=env)\n",
    "ff = ff_utils.fdn_connection(key=tibanna.ff_keys)\n",
    "\n",
    "schema_name = {}\n",
    "profiles = ff_utils.get_metadata('/profiles/', connection=ff, frame = 'raw')\n",
    "for key, value in profiles.iteritems():\n",
    "    schema_name[key] = value['id'].split('/')[-1][:-5]\n",
    "\n",
    "def is_uuid(value):\n",
    "    #md5 qualifies as uuid\n",
    "    if '-' not in value:\n",
    "        return False\n",
    "    try:\n",
    "        UUID(value, version=4)\n",
    "        return True\n",
    "    except:\n",
    "        return False\n",
    "\n",
    "def find_uuids(val):\n",
    "    vals = []\n",
    "    if not val:\n",
    "        return []\n",
    "    elif isinstance(val, basestring):\n",
    "        if is_uuid(val):\n",
    "            vals = [val]\n",
    "        else:\n",
    "            return []\n",
    "    else:\n",
    "        text =str(val)\n",
    "        text_list = [i for i in text. split(\"'\") if len(i) == 36]\n",
    "        vals = [i for i in text_list if is_uuid(i)]\n",
    "    return vals\n",
    "    "
   ]
  },
  {
   "cell_type": "code",
   "execution_count": 18,
   "metadata": {},
   "outputs": [
    {
     "name": "stdout",
     "output_type": "stream",
     "text": [
      "1311c73f-82e4-4b21-8ded-358c4a301195\n",
      "experiment_set_replicate 1311c73f-82e4-4b21-8ded-358c4a301195 planned\n",
      "experiment_hi_c 49aa3b78-2e3e-47dd-ac42-ba6a723e4ea8 planned\n",
      "sop_map 39373842-12e9-4bbb-8f70-270ec1a859ea deleted\n",
      "biosample 30dc8f07-91ae-491e-add5-c7011b2590be deleted\n",
      "biosample_cell_culture ef9b83e9-0e3c-40e9-90ea-714308d7495a deleted\n",
      "32\n",
      "32\n"
     ]
    }
   ],
   "source": [
    "import json\n",
    "import copy\n",
    "def record_object(uuid, store, item_uuids):\n",
    "    #keep list of fields that only exist in frame embedded (revlinks) that you want connected\n",
    "    \n",
    "#     add_from_embedded = {'file_fastq':['workflow_run_inputs', 'workflow_run_outputs'],\n",
    "#                          'file_processed':['workflow_run_inputs', 'workflow_run_outputs']\n",
    "#                         }\n",
    "    add_from_embedded = {}\n",
    "   \n",
    "    #find schema name, store as obj_key, create empty list if missing in store\n",
    "\n",
    "    obj_type = ff_utils.get_metadata(uuid, connection=ff)['@type'][0]\n",
    "\n",
    "    try:\n",
    "        obj_key = schema_name[obj_type]\n",
    "    except:\n",
    "        #print 'CAN NOT FIND', obj_type, uuid\n",
    "        return store, item_uuids\n",
    "    if obj_key not in store:\n",
    "        store[obj_key] = []\n",
    "\n",
    "    add_uuids = []\n",
    "    resp = ff_utils.get_metadata(uuid, connection=ff, frame = 'raw')\n",
    "    \n",
    "    if resp['status'] not in ['submission in progress', 'current', 'released', 'in review by lab', 'uploaded']:\n",
    "        print obj_key, uuid, resp['status']\n",
    "        \n",
    "    # add raw frame to store and uuid to list\n",
    "    if uuid not in item_uuids:\n",
    "        store[obj_key].append(resp)\n",
    "        item_uuids.append(uuid)\n",
    "    # this case should not happen actually\n",
    "    else:\n",
    "        return store, item_uuids\n",
    "    \n",
    "    fields_to_check = copy.deepcopy(resp)\n",
    "  \n",
    "    # check if any field from the embedded frame is required\n",
    "    add_fields = add_from_embedded.get(obj_key)\n",
    "    if add_fields:\n",
    "        emb_resp = ff_utils.get_metadata(uuid, connection=ff, frame = 'embedded')\n",
    "        for a_field in add_fields:\n",
    "            field_val = emb_resp.get(a_field)\n",
    "            if field_val:\n",
    "                fields_to_check[a_field] = field_val\n",
    "        \n",
    "    for key, value in fields_to_check.iteritems():\n",
    "        # uuid formatted fields to skip\n",
    "        if key == 'uuid':\n",
    "            continue\n",
    "        uuid_in_val = find_uuids(value)\n",
    "        \n",
    "        for a_uuid in uuid_in_val:\n",
    "            if a_uuid not in item_uuids:\n",
    "                store, item_uuids = record_object(a_uuid, store, item_uuids)   \n",
    "    return store, item_uuids\n",
    "            \n",
    "\n",
    "dekker_planned = [\n",
    "'694d56b6-a590-47a5-a1c4-7fe879a23ed9',\n",
    "'521b16b4-6bfc-4098-8d7d-08062384cef2',\n",
    "'4a2c06d5-0b55-4dec-b117-45fb97f91173',\n",
    "'5797093d-7d8d-4f25-a42d-b49f8114c4cc',\n",
    "'1311c73f-82e4-4b21-8ded-358c4a301195',\n",
    "]\n",
    "\n",
    "my_exp = dekker_planned[4]\n",
    "\n",
    "print my_exp\n",
    "store_dict = {} \n",
    "item_uuids = []\n",
    "store, uuids = record_object(my_exp, store_dict, item_uuids)\n",
    "print(len(uuids))\n",
    "print(len(list(set(uuids))))\n",
    "    \n",
    "\n",
    "\n",
    "# for a_type in store:\n",
    "#     filename = 'Jsons/' + a_type + '.json'\n",
    "#     with open(filename, 'w') as outfile:\n",
    "#         json.dump(store[a_type], outfile, indent=4)\n",
    "\n",
    "\n"
   ]
  },
  {
   "cell_type": "code",
   "execution_count": 19,
   "metadata": {
    "scrolled": true
   },
   "outputs": [
    {
     "name": "stdout",
     "output_type": "stream",
     "text": [
      "experiment_set_replicate planned 1311c73f-82e4-4b21-8ded-358c4a301195\n",
      "    DELETED DATA biosample_cell_culture ef9b83e9-0e3c-40e9-90ea-714308d7495a\n",
      "experiment_hi_c planned 49aa3b78-2e3e-47dd-ac42-ba6a723e4ea8\n",
      "    DELETED DATA sop_map 39373842-12e9-4bbb-8f70-270ec1a859ea\n",
      "    DELETED DATA biosample 30dc8f07-91ae-491e-add5-c7011b2590be\n",
      "2\n"
     ]
    }
   ],
   "source": [
    "## This part is only for making non file objects \"in submission\"\n",
    "counter = 0\n",
    "for a_type in store:\n",
    "\n",
    "    for raw_data in store[a_type]:\n",
    "        if raw_data['status'] in ['deleted']: \n",
    "            print '    DELETED DATA', a_type ,raw_data['uuid']\n",
    "            continue        \n",
    "        if raw_data['status'] not in ['current', 'released', 'released to project']:    \n",
    "            counter +=1\n",
    "            print a_type, raw_data['status'], raw_data['uuid']\n",
    "            patch_data = {'status': \"deleted\"}\n",
    "            #ff_utils.patch_metadata(patch_data, obj_id=raw_data['uuid'] ,connection=ff)\n",
    "\n",
    "print counter"
   ]
  },
  {
   "cell_type": "code",
   "execution_count": 20,
   "metadata": {},
   "outputs": [
    {
     "name": "stdout",
     "output_type": "stream",
     "text": [
      "experiment_set_replicate planned 1311c73f-82e4-4b21-8ded-358c4a301195\n",
      "    DELETED DATA biosample_cell_culture ef9b83e9-0e3c-40e9-90ea-714308d7495a\n",
      "experiment_hi_c planned 49aa3b78-2e3e-47dd-ac42-ba6a723e4ea8\n",
      "    DELETED DATA sop_map 39373842-12e9-4bbb-8f70-270ec1a859ea\n",
      "    DELETED DATA biosample 30dc8f07-91ae-491e-add5-c7011b2590be\n",
      "2\n"
     ]
    }
   ],
   "source": [
    "## This part is only for making non file objects \"in submission\"\n",
    "counter = 0\n",
    "for a_type in store:\n",
    "\n",
    "    for raw_data in store[a_type]:\n",
    "        if raw_data['status'] in ['deleted']: \n",
    "            print '    DELETED DATA', a_type ,raw_data['uuid']\n",
    "            continue        \n",
    "        if raw_data['status'] not in ['current', 'released', 'released to project']:    \n",
    "            counter +=1\n",
    "            print a_type, raw_data['status'], raw_data['uuid']\n",
    "            patch_data = {'status': \"deleted\"}\n",
    "            ff_utils.patch_metadata(patch_data, obj_id=raw_data['uuid'] ,connection=ff)\n",
    "\n",
    "print counter"
   ]
  },
  {
   "cell_type": "code",
   "execution_count": null,
   "metadata": {
    "collapsed": true
   },
   "outputs": [],
   "source": []
  }
 ],
 "metadata": {
  "kernelspec": {
   "display_name": "Python 2",
   "language": "python",
   "name": "python2"
  },
  "language_info": {
   "codemirror_mode": {
    "name": "ipython",
    "version": 2
   },
   "file_extension": ".py",
   "mimetype": "text/x-python",
   "name": "python",
   "nbconvert_exporter": "python",
   "pygments_lexer": "ipython2",
   "version": "2.7.10"
  }
 },
 "nbformat": 4,
 "nbformat_minor": 2
}
