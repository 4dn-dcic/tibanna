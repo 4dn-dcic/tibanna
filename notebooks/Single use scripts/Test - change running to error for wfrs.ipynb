{
 "cells": [
  {
   "cell_type": "code",
   "execution_count": 4,
   "metadata": {},
   "outputs": [
    {
     "name": "stdout",
     "output_type": "stream",
     "text": [
      "272\n",
      "skipping running one\n",
      "skipping running one\n",
      "0 files had patch problems\n",
      "270 total files patched\n"
     ]
    }
   ],
   "source": [
    "from core.utils import Tibanna\n",
    "from core import ff_utils\n",
    "\n",
    "\n",
    "# for a given experiment set and some parameters like instrument\n",
    "# print set of files and their partA hic workflow status\n",
    "# if there are one that are running report the number of running cases\n",
    "# if there are file pairs that don't have a corresponding part A, report them separately\n",
    "\n",
    "env = 'fourfront-webprod'\n",
    "tibanna = Tibanna(env=env)\n",
    "tibanna.ff_keys['default']['server'] = 'https://data.4dnucleome.org'\n",
    "ff = ff_utils.fdn_connection(key=tibanna.ff_keys)\n",
    "tibanna.ff_keys['default']['server'] = 'https://data.4dnucleome.org'\n",
    "success = 0\n",
    "patch_problem = 0\n",
    "wfr_url = \"/search/\" + \\\n",
    "          \"?run_status=started\" + \\\n",
    "          \"&type=WorkflowRunAwsem\" + \\\n",
    "          \"&workflow.title=Alignment%20for%20Hi-C%20using%20bwa-mem\" + \\\n",
    "          \"&workflow.title=PairsQC\" + \\\n",
    "          \"&workflow.title=Hi-C%20Post-alignment%20Processing\" + \\\n",
    "          \"&workflow.title=Generation%20of%20multiresolution%20Hi-C%20contact%20matrices%20from%20a%20set%20of%20contact%20lists\" + \\\n",
    "          \"&workflow.title=FastQC\" + \\\n",
    "          \"&workflow.title=md5\"\n",
    "\n",
    "wfr_resp = ff_utils.get_metadata(wfr_url, connection=ff)['@graph']\n",
    "print(len(wfr_resp))\n",
    "uuids = \"\"\n",
    "for a_wfr in wfr_resp:\n",
    "    \n",
    "    # this ones are still running\n",
    "    if a_wfr['uuid'] in ['2b0e7fae-3783-41f6-85da-86160f9073a8','eb4c644b-5fdc-4194-b6c0-571e04332461']:\n",
    "        print('skipping running one')\n",
    "        continue\n",
    "    uuids += '\"{}\"'.format(a_wfr['uuid'])\n",
    "    \n",
    "    \n",
    "    \n",
    "#     patch_data = {'run_status': \"error\"}\n",
    "#     try:\n",
    "#         ff_utils.patch_metadata(patch_data, obj_id=a_wfr['uuid'] ,connection=ff)\n",
    "#         success += 1\n",
    "#     except Exception as e:\n",
    "#         print e\n",
    "#         print\n",
    "#         patch_problem += 1\n",
    "        \n",
    "print patch_problem, 'files had patch problems'\n",
    "print success, 'total files patched'"
   ]
  },
  {
   "cell_type": "code",
   "execution_count": null,
   "metadata": {
    "collapsed": true
   },
   "outputs": [],
   "source": []
  }
 ],
 "metadata": {
  "anaconda-cloud": {},
  "kernelspec": {
   "display_name": "Python 2",
   "language": "python",
   "name": "python2"
  },
  "language_info": {
   "codemirror_mode": {
    "name": "ipython",
    "version": 2
   },
   "file_extension": ".py",
   "mimetype": "text/x-python",
   "name": "python",
   "nbconvert_exporter": "python",
   "pygments_lexer": "ipython2",
   "version": "2.7.10"
  }
 },
 "nbformat": 4,
 "nbformat_minor": 2
}
