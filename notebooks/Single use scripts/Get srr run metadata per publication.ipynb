{
 "cells": [
  {
   "cell_type": "code",
   "execution_count": 4,
   "metadata": {},
   "outputs": [
    {
     "name": "stdout",
     "output_type": "stream",
     "text": [
      "SRR2671226\tSanborn_et_al\tdciclab:sanborn_rep01_h\tin situ Hi-C on HAP-1 cells used to generate-wide wild-type Hi-C map\tHAP-1\tMboI\tNone\tNone\t3\t1\t\n",
      "SRR2671485\tSanborn_et_al\tdciclab:sanborn_rep01\tCapture Hi-C on wild-type HAP-1 cells\tHAP-1\tMboI\tNone\tNone\t1\t1\t\n",
      "SRR2671486\tSanborn_et_al\tdciclab:sanborn_rep01\tCapture Hi-C on wild-type HAP-1 cells\tHAP-1\tMboI\tNone\tNone\t1\t1\t\n",
      "SRR2671487\tSanborn_et_al\tdciclab:sanborn_rep01\tCapture Hi-C on wild-type HAP-1 cells\tHAP-1\tMboI\tNone\tNone\t1\t1\t\n",
      "SRR2671488\tSanborn_et_al\tdciclab:sanborn_rep01\tCapture Hi-C on wild-type HAP-1 cells\tHAP-1\tMboI\tNone\tNone\t1\t1\t\n"
     ]
    }
   ],
   "source": [
    "from core.utils import Tibanna\n",
    "from core import ff_utils\n",
    "\n",
    "env = 'fourfront-webdev'\n",
    "tibanna = Tibanna(env=env)\n",
    "ff = ff_utils.fdn_connection(key=tibanna.ff_keys)\n",
    "\n",
    "publications = [\n",
    "                [\"cf0e49aa-173c-49d1-a7c7-22acbc83c064\",\"Rao_et_al\"],\n",
    "                [\"5427c34d-1ff4-409c-9ce1-97c7a5af2965\",\"Sanborn_et_al\"],\n",
    "                [\"088313f3-b588-4b71-8372-e202ba3baa97\",\"Selvaraj_et_al\"],\n",
    "                [\"da387ade-8822-4009-9269-90e2302c09d2\",\"Jin_et_al\"]\n",
    "            ]\n",
    "\n",
    "# Variables\n",
    "pub_name = ''\n",
    "set_id = ''\n",
    "set_title = ''\n",
    "cell_line = ''\n",
    "mod = ''\n",
    "treat = ''\n",
    "bio = ''\n",
    "tec = ''\n",
    "enzyme = ''\n",
    "file_alias = ''\n",
    "\n",
    "\n",
    "for pub, pub_name in publications:\n",
    "    exp_sets = ff_utils.get_metadata(pub, connection=ff).get('exp_sets_prod_in_pub')\n",
    "    for exp_set in exp_sets:\n",
    "        set_info = ff_utils.get_metadata(exp_set, connection=ff)\n",
    "        # skip custom sets\n",
    "        if set_info['experimentset_type'] == 'custom':\n",
    "            continue\n",
    "        set_id = set_info['aliases'][0]\n",
    "        set_title = set_info.get('description', \"\")\n",
    "        exps = set_info['replicate_exps']\n",
    "        exp_details_recorded = False\n",
    "        \n",
    "        for exp_rep in exps:\n",
    "            exp = exp_rep['replicate_exp']\n",
    "            bio = exp_rep['bio_rep_no']\n",
    "            tec = exp_rep['tec_rep_no'] \n",
    "            # record experiment set wide details from the first experiment\n",
    "            if not exp_details_recorded:\n",
    "                exp_info = ff_utils.get_metadata(exp,connection=ff, frame='embedded')\n",
    "                cell_line = exp_info['biosample']['biosource'][0]['cell_line']\n",
    "                mod = exp_info['biosample']['modifications_summary_short']\n",
    "                treat = exp_info['biosample'][\"treatments_summary\"]\n",
    "                enzyme = exp_info['digestion_enzyme']['name']\n",
    "                exp_details_recorded = True\n",
    "                \n",
    "            # get files\n",
    "            exp_resp = ff_utils.get_metadata(exp,connection=ff)\n",
    "            exp_files = exp_resp['files']\n",
    "            \n",
    "            for fastq_file in exp_files:\n",
    "                file_resp = ff_utils.get_metadata(fastq_file, connection=ff)  \n",
    "                #Some checks before running\n",
    "                #check if status is deleted\n",
    "                if file_resp['status'] == 'deleted':\n",
    "                    print 'deleted file in experiment', file_resp['accession']\n",
    "                    continue\n",
    "                # skip pair no 2\n",
    "                if file_resp.get('paired_end')=='2':\n",
    "                    continue \n",
    "                sequencer = file_resp.get('instrument',\"\")\n",
    "                file_alias = file_resp['aliases'][0]\n",
    "                file_alias = file_alias[file_alias.find('SRR'):]\n",
    "                file_alias = file_alias[:file_alias.find('_')]\n",
    "                \n",
    "\n",
    "                print '\\t'.join([file_alias,pub_name,set_id,set_title,cell_line,enzyme,mod,treat,str(bio),str(tec),sequencer])\n"
   ]
  },
  {
   "cell_type": "code",
   "execution_count": null,
   "metadata": {
    "collapsed": true
   },
   "outputs": [],
   "source": []
  }
 ],
 "metadata": {
  "kernelspec": {
   "display_name": "Python 2",
   "language": "python",
   "name": "python2"
  },
  "language_info": {
   "codemirror_mode": {
    "name": "ipython",
    "version": 2
   },
   "file_extension": ".py",
   "mimetype": "text/x-python",
   "name": "python",
   "nbconvert_exporter": "python",
   "pygments_lexer": "ipython2",
   "version": "2.7.10"
  }
 },
 "nbformat": 4,
 "nbformat_minor": 2
}
