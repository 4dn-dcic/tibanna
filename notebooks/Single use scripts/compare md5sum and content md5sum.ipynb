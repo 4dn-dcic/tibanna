{
 "cells": [
  {
   "cell_type": "code",
   "execution_count": 3,
   "metadata": {},
   "outputs": [
    {
     "name": "stdout",
     "output_type": "stream",
     "text": [
      "800\n",
      "4DNFI4KZIPV7 no md5\n",
      "4DNFIW3788O9 no md5\n"
     ]
    }
   ],
   "source": [
    "from core.utils import Tibanna\n",
    "from core import ff_utils\n",
    "\n",
    "\n",
    "# for a given experiment set and some parameters like instrument\n",
    "# print set of files and their partA hic workflow status\n",
    "# if there are one that are running report the number of running cases\n",
    "# if there are file pairs that don't have a corresponding part A, report them separately\n",
    "\n",
    "env = 'fourfront-webprod'\n",
    "tibanna = Tibanna(env=env)\n",
    "\n",
    "file_not_found = 0\n",
    "deleted = 0\n",
    "uploading = 0\n",
    "success = 0\n",
    "patch_problem = 0\n",
    "tibanna.ff_keys['default']['server'] = 'https://data.4dnucleome.org'\n",
    "ff = ff_utils.fdn_connection(key=tibanna.ff_keys)\n",
    "tibanna.ff_keys['default']['server'] = 'https://data.4dnucleome.org'\n",
    "\n",
    "files_resp = ff_utils.get_metadata('/search/?lab.display_title=Mitchell%20Guttman%2C%20CALTECH&type=FileMicroscopy', connection=ff)['@graph']\n",
    "print len(files_resp)\n",
    "\n",
    "no_size = 0\n",
    "counter = 0\n",
    "for a_file in files_resp:\n",
    "    skip = False\n",
    "    if not a_file.get('md5sum'):\n",
    "        print a_file['accession'], 'no md5'\n",
    "        skip = True\n",
    "    if not a_file.get('content_md5sum'):\n",
    "        print a_file['accession'], 'no md5'\n",
    "        skip = True\n",
    "        \n",
    "    if skip:\n",
    "        continue\n",
    "        \n",
    "    if a_file['md5sum'] != a_file['content_md5sum']:\n",
    "        print a_file['accesssion']\n"
   ]
  },
  {
   "cell_type": "code",
   "execution_count": null,
   "metadata": {
    "collapsed": true
   },
   "outputs": [],
   "source": []
  },
  {
   "cell_type": "code",
   "execution_count": null,
   "metadata": {
    "collapsed": true
   },
   "outputs": [],
   "source": []
  }
 ],
 "metadata": {
  "anaconda-cloud": {},
  "kernelspec": {
   "display_name": "Python 2",
   "language": "python",
   "name": "python2"
  },
  "language_info": {
   "codemirror_mode": {
    "name": "ipython",
    "version": 2
   },
   "file_extension": ".py",
   "mimetype": "text/x-python",
   "name": "python",
   "nbconvert_exporter": "python",
   "pygments_lexer": "ipython2",
   "version": "2.7.10"
  }
 },
 "nbformat": 4,
 "nbformat_minor": 2
}
