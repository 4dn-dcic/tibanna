{
 "cells": [
  {
   "cell_type": "code",
   "execution_count": 1,
   "metadata": {},
   "outputs": [
    {
     "name": "stdout",
     "output_type": "stream",
     "text": [
      "47\n"
     ]
    }
   ],
   "source": [
    "from core.utils import Tibanna\n",
    "from core import ff_utils\n",
    "\n",
    "def printTable(myDict, colList=None):\n",
    "    \"\"\" Pretty print a list of dictionaries Author: Thierry Husson\"\"\"\n",
    "    if not colList: colList = list(myDict[0].keys() if myDict else [])\n",
    "    myList = [colList] # 1st row = header\n",
    "    for item in myDict: myList.append([str(item[col] or '') for col in colList])\n",
    "    colSize = [max(map(len,col)) for col in zip(*myList)]\n",
    "    formatStr = ' | '.join([\"{{:<{}}}\".format(i) for i in colSize])\n",
    "    myList.insert(1, ['-' * i for i in colSize]) # Seperating line\n",
    "    for item in myList: print(formatStr.format(*item))\n",
    "        \n",
    "\n",
    "        \n",
    "env = 'fourfront-webprod'\n",
    "tibanna = Tibanna(env=env)\n",
    "ff = ff_utils.fdn_connection(key=tibanna.ff_keys)\n",
    "\n",
    "\n",
    "get_object = \"/search/?type=Target\"\n",
    "resp = ff_utils.get_metadata(get_object, connection=ff)\n",
    "print(len(resp))"
   ]
  },
  {
   "cell_type": "code",
   "execution_count": 6,
   "metadata": {},
   "outputs": [
    {
     "name": "stdout",
     "output_type": "stream",
     "text": [
      "aliases                              | display_title                                                                                                                          | target_summary_short                                                                                                                   | target_summary                         \n",
      "------------------------------------ | -------------------------------------------------------------------------------------------------------------------------------------- | -------------------------------------------------------------------------------------------------------------------------------------- | ---------------------------------------\n",
      "[u'dcic:npat']                       | Protein:NPAT (Q14207)                                                                                                                  | Protein:NPAT (Q14207)                                                                                                                  | Protein:NPAT (Q14207)                  \n",
      "[u'dcic:h2az']                       | Protein:H2A.Z (P0C0S5)                                                                                                                 | Protein:H2A.Z (P0C0S5)                                                                                                                 | Protein:H2A.Z (P0C0S5)                 \n",
      "[u'dcic:ezh2']                       | Protein:Ezh2 (Q15910)                                                                                                                  | Protein:Ezh2 (Q15910)                                                                                                                  | Protein:Ezh2 (Q15910)                  \n",
      "[u'dcic:mouse_ezh2']                 | Protein:Mouse Ezh2 (Q61188)                                                                                                            | Protein:Mouse Ezh2 (Q61188)                                                                                                            | Protein:Mouse Ezh2 (Q61188)            \n",
      "[u'dcic:suz12']                      | Protein:Suz12 (Q15022)                                                                                                                 | Protein:Suz12 (Q15022)                                                                                                                 | Protein:Suz12 (Q15022)                 \n",
      "[u'dcic:cbx7']                       | Protein:Cbx7 (O95931)                                                                                                                  | Protein:Cbx7 (O95931)                                                                                                                  | Protein:Cbx7 (O95931)                  \n",
      "[u'dcic:ring2_1b']                   | Protein:Ring2 (Q99496)                                                                                                                 | Protein:Ring2 (Q99496)                                                                                                                 | Protein:Ring2 (Q99496)                 \n",
      "[u'dcic:brdu']                       | BrdU - Bromodeoxyuridine                                                                                                               | BrdU - Bromodeoxyuridine                                                                                                               | no target                              \n",
      "[u'4dn-dcic-lab:h3k27m3']            | Protein:H3K27me3                                                                                                                       | Protein:H3K27me3                                                                                                                       | Protein:H3K27me3                       \n",
      "[u'4dn-dcic-lab:h3k4m']              | Protein:H3K4me                                                                                                                         | Protein:H3K4me                                                                                                                         | Protein:H3K4me                         \n",
      "                                     | no target                                                                                                                              | no target                                                                                                                              | no target                              \n",
      "[u'misteli:target_249']              | no target                                                                                                                              | no target                                                                                                                              | GRCh38:1:61560944-61746907             \n",
      "[u'misteli:target_89']               | no target                                                                                                                              | no target                                                                                                                              | GRCh38:1:22000503-22169684             \n",
      "[u'misteli:target_80']               | no target                                                                                                                              | no target                                                                                                                              | GRCh38:1:20012370-20177633             \n",
      "[u'misteli:target_74']               | no target                                                                                                                              | no target                                                                                                                              | GRCh38:1:18566410-18766881             \n",
      "[u'misteli:target_91']               | no target                                                                                                                              | no target                                                                                                                              | GRCh38:1:22223341-22394658             \n",
      "[u'misteli:target_11']               | no target                                                                                                                              | no target                                                                                                                              | GRCh38:1:2370445-2570720               \n",
      "[u'misteli:target_52']               | no target                                                                                                                              | no target                                                                                                                              | GRCh38:1:12708720-12865744             \n",
      "[u'4dn-dcic-lab:mouse_ctcf_protein'] | Protein:Mouse CTCF (Q61164)                                                                                                            | Protein:Mouse CTCF (Q61164)                                                                                                            | Protein:Mouse CTCF (Q61164)            \n",
      "[u'4dn-dcic-lab:h3k27ac']            | Protein:H3K27ac                                                                                                                        | Protein:H3K27ac                                                                                                                        | Protein:H3K27ac                        \n",
      "[u'4dn-dcic-lab:h3k4m3']             | Protein:H3K4me3                                                                                                                        | Protein:H3K4me3                                                                                                                        | Protein:H3K4me3                        \n",
      "[u'4dn-dcic-lab:polIIA_prot']        | Protein:RPB1 (P24928)                                                                                                                  | Protein:RPB1 (P24928)                                                                                                                  | Protein:RPB1 (P24928)                  \n",
      "[u'4dn-dcic-lab:ctcf_prot']          | Protein:CTCF (P49711)                                                                                                                  | Protein:CTCF (P49711)                                                                                                                  | Protein:CTCF (P49711)                  \n",
      "[u'dcic:patski_xi_ds-tr-5p-ctcf']    | 907bp region containing a CTCF-binding site at 5' end of Ds-TR gene on the BL6 allele (Xi) in Patski cells                             | 907bp region containing a CTCF-binding site at 5' end of Ds-TR gene on the BL6 allele (Xi) in Patski cells                             | GRCm38:X:75674046-75674952             \n",
      "[u'dcic:patski_xi_ds-tr']            | 37kb region encompassing Ds-TR minisatellite locus on the BL6 allele (Xi) in Patski cells                                              | 37kb region encompassing Ds-TR minisatellite locus on the BL6 allele (Xi) in Patski cells                                              | GRCm38:X:75637501-75674037             \n",
      "[u'dcic:patski_xi_dxz4']             | 44kb region encompassing the Dxz4 macrosatellite locus on the BL6 allele (Xi) in Patski cells                                          | 44kb region encompassing the Dxz4 macrosatellite locus on the BL6 allele (Xi) in Patski cells                                          | GRCm38:X:75721096-75764754             \n",
      "[u'dcic:patski_xi_hinge']            | 127kb 'hinge' region encompassing both the Dxz4 macrosatellite and Ds-TR minisatellite loci on the BL6 (Xi) chromosome in Patski cells | 127kb 'hinge' region encompassing both the Dxz4 macrosatellite and Ds-TR minisatellite loci on the BL6 (Xi) chromosome in Patski cells | GRCm38:X:75637519-75764753             \n",
      "[u'4dn-dcic-lab:Target1']            | Gene:CRM1                                                                                                                              | Gene:CRM1                                                                                                                              | Gene:CRM1                              \n",
      "[u'ren:target_mll3_4']               | Gene:MLL3, MLL4                                                                                                                        | Gene:MLL3, MLL4                                                                                                                        | Gene:MLL3, MLL4                        \n",
      "[u'dcic:test_targ8']                 | Cell membrane                                                                                                                          | Cell membrane                                                                                                                          | Cell membrane                          \n",
      "[u'dcic:test_targ7']                 | RNA:NM_003529.2 & Endoplasmic reticulum                                                                                                | RNA:NM_003529.2 & Endoplasmic reticulum                                                                                                | RNA:NM_003529.2 & Endoplasmic reticulum\n",
      "[u'dcic:test_targ6']                 | Gene:RSP3, RLP15 & Protein:GFP_HUMAN                                                                                                   | Gene:RSP3, RLP15 & Protein:GFP_HUMAN                                                                                                   | Gene:RSP3, RLP15 & Protein:GFP_HUMAN   \n",
      "[u'dcic:test_targ5']                 | RNA:NM_003529.2                                                                                                                        | RNA:NM_003529.2                                                                                                                        | RNA:NM_003529.2                        \n",
      "[u'dcic:test_targ4']                 | Protein:XPO1_HUMAN                                                                                                                     | Protein:XPO1_HUMAN                                                                                                                     | Protein:XPO1_HUMAN                     \n",
      "[u'dcic:test_targ3']                 | A target of no regard                                                                                                                  | A target of no regard                                                                                                                  | GRCh38:1:1-1000000                     \n",
      "[u'dcic:test_targ2']                 | Gene:PARK2, FMR1                                                                                                                       | Gene:PARK2, FMR1                                                                                                                       | Gene:PARK2, FMR1                       \n",
      "[u'dcic:test_targ1']                 | Gene:PARK2, FMR1                                                                                                                       | Gene:PARK2, FMR1                                                                                                                       | Gene:PARK2, FMR1                       \n",
      "[u'dcic:region_3']                   | Region 3 with CTCF motifs G, H and I for Capture Hi-C                                                                                  | Region 3 with CTCF motifs G, H and I for Capture Hi-C                                                                                  | GRCh37:5:31000000-33000000             \n",
      "[u'dcic:region_2']                   | Region 2 with CTCF motifs D, E and F for Capture Hi-C                                                                                  | Region 2 with CTCF motifs D, E and F for Capture Hi-C                                                                                  | GRCh37:1:179800000-181800000           \n",
      "[u'dcic:region_1']                   | Region 1 with CTCF motifs A, B and C for Capture Hi-C                                                                                  | Region 1 with CTCF motifs A, B and C for Capture Hi-C                                                                                  | GRCh37:8:133000000-135000000           \n",
      "[u'dcic:motifh_f']                   | CTCF motif H forward                                                                                                                   | CTCF motif H forward                                                                                                                   | GRCh37:5:31825779-31825798             \n",
      "[u'dcic:motifg']                     | CTCF motif G                                                                                                                           | CTCF motif G                                                                                                                           | GRCh37:5:31581776-31581795             \n",
      "[u'dcic:motife_r']                   | CTCF motif E reverse                                                                                                                   | CTCF motif E reverse                                                                                                                   | GRCh37:1:180832502-180832521           \n",
      "[u'dcic:motife_f']                   | CTCF motif E forward                                                                                                                   | CTCF motif E forward                                                                                                                   | GRCh37:1:180851233-180851252           \n",
      "[u'dcic:motifb_r']                   | CTCF motif B reverse                                                                                                                   | CTCF motif B reverse                                                                                                                   | GRCh37:8:134215312-134215331           \n",
      "[u'dcic:motifb_f']                   | CTCF motif B forward                                                                                                                   | CTCF motif B forward                                                                                                                   | GRCh37:8:134221674-134221693           \n",
      "[u'dcic:motifa']                     | CTCF motif A                                                                                                                           | CTCF motif A                                                                                                                           | GRCh37:8:133887891-133887910           \n"
     ]
    }
   ],
   "source": [
    "#print resp[0].keys()\n",
    "printTable(resp, colList=['aliases','display_title','target_summary_short','target_summary'])"
   ]
  },
  {
   "cell_type": "code",
   "execution_count": null,
   "metadata": {
    "collapsed": true
   },
   "outputs": [],
   "source": []
  }
 ],
 "metadata": {
  "kernelspec": {
   "display_name": "Python 2",
   "language": "python",
   "name": "python2"
  },
  "language_info": {
   "codemirror_mode": {
    "name": "ipython",
    "version": 2
   },
   "file_extension": ".py",
   "mimetype": "text/x-python",
   "name": "python",
   "nbconvert_exporter": "python",
   "pygments_lexer": "ipython2",
   "version": "2.7.10"
  }
 },
 "nbformat": 4,
 "nbformat_minor": 2
}
