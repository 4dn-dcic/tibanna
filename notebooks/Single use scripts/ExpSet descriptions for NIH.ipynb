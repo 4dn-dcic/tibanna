{
 "cells": [
  {
   "cell_type": "code",
   "execution_count": null,
   "metadata": {},
   "outputs": [],
   "source": [
    "from core.utils import Tibanna\n",
    "from core import ff_utils\n",
    "from tasks import run_md5\n",
    "from tasks import run_fastqc\n",
    "from invoke import run\n",
    "import time\n",
    "from datetime import datetime\n",
    "\n",
    "# for a given experiment set and some parameters like instrument\n",
    "# print set of files and their partA hic workflow status\n",
    "# if there are one that are running report the number of running cases\n",
    "# if there are file pairs that don't have a corresponding part A, report them separately\n",
    "env = 'fourfront-webprod'\n",
    "tibanna = Tibanna(env=env)\n",
    "ff = ff_utils.fdn_connection(key=tibanna.ff_keys)\n",
    "\n",
    "set_resp = ff_utils.get_metadata('experiment-set-replicates', connection=ff, frame='embedded')['@graph']\n",
    "\n",
    "def form_hyp(id):\n",
    "    hyp = '=HYPERLINK(\"https://data.4dnucleome.org/{0}\",\"{0}\")'.format(id)\n",
    "    return hyp"
   ]
  },
  {
   "cell_type": "code",
   "execution_count": null,
   "metadata": {},
   "outputs": [],
   "source": [
    "c_del = 0\n",
    "title_ele = ['ID', 'Status', 'Project', 'Center PI', 'Lab', 'Description', 'Release Date', 'Experiment Type', 'Number of Experiments']\n",
    "print \"\\t\".join(title_ele)\n",
    "\n",
    "for a_set in set_resp:\n",
    "    my_id = form_hyp(a_set['accession'])\n",
    "    my_status = a_set['status']\n",
    "    if my_status == 'deleted':\n",
    "        c_del += 1\n",
    "        continue\n",
    "    #print a_set\n",
    "\n",
    "    my_lab = a_set['lab']['title']\n",
    "    my_desc = a_set['description']\n",
    "    my_rel_date = a_set.get('date_released',\"NA\")\n",
    "    my_group = a_set['award']['project']\n",
    "    my_pi_id = ff_utils.get_metadata(a_set['award']['uuid'], connection=ff).get('pi', \"NA\")\n",
    "    center_pi_name = ff_utils.get_metadata(my_pi_id, connection=ff)['title']\n",
    "    \n",
    "    my_exp_type = a_set['experiments_in_set'][0]['experiment_type']\n",
    "    my_num_exp = a_set['number_of_experiments']\n",
    "    \n",
    "    print_list = [my_id, my_status, my_group, center_pi_name, my_lab, my_desc, my_rel_date,my_exp_type, str(my_num_exp)]\n",
    "    print \"\\t\".join(print_list)\n",
    "\n"
   ]
  },
  {
   "cell_type": "code",
   "execution_count": null,
   "metadata": {
    "collapsed": true
   },
   "outputs": [],
   "source": []
  }
 ],
 "metadata": {
  "anaconda-cloud": {},
  "kernelspec": {
   "display_name": "Python 2",
   "language": "python",
   "name": "python2"
  },
  "language_info": {
   "codemirror_mode": {
    "name": "ipython",
    "version": 2
   },
   "file_extension": ".py",
   "mimetype": "text/x-python",
   "name": "python",
   "nbconvert_exporter": "python",
   "pygments_lexer": "ipython2",
   "version": "2.7.10"
  }
 },
 "nbformat": 4,
 "nbformat_minor": 2
}
