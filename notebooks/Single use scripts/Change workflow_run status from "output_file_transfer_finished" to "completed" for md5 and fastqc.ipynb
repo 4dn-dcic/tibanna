{
 "cells": [
  {
   "cell_type": "code",
   "execution_count": null,
   "metadata": {
    "collapsed": true
   },
   "outputs": [],
   "source": [
    "from core.utils import Tibanna\n",
    "from core import ff_utils\n",
    "from datetime import datetime\n",
    "\n",
    "# set enviroment and key/connection\n",
    "env = 'fourfront-webdev'\n",
    "tibanna = Tibanna(env=env)\n",
    "ff = ff_utils.fdn_connection(key=tibanna.ff_keys)\n",
    "\n",
    "def get_wfr_report(wfr):\n",
    "    \"\"\"For a given workflow_run_sbg item, grabs details, uuid, run_status, wfr name, date, and run time\"\"\"\n",
    "    wfr_data= ff_utils.get_metadata(wfr , connection=ff)\n",
    "    wfr_uuid = wfr_data['uuid']\n",
    "    wfr_status = wfr_data['run_status']\n",
    "    wfr_name = wfr_data['title'].split(' run ')[0]\n",
    "    wfr_time = datetime.strptime(wfr_data['date_created'],'%Y-%m-%dT%H:%M:%S.%f+00:00')\n",
    "    run_hours = (datetime.now()-wfr_time).total_seconds()/3600\n",
    "    wfr_rep = {'wfr_uuid': wfr_data['uuid'],\n",
    "               'wfr_status': wfr_data['run_status'],\n",
    "               'wfr_name': wfr_data['title'].split(' run ')[0],\n",
    "               'wfr_date': wfr_time,\n",
    "               'run_time': run_hours}\n",
    "    return wfr_rep\n",
    "\n",
    "# what kind of files should be searched for worflow run inputs, use url compatible naming\n",
    "raw_file_types = ['files-fastq']\n",
    "\n",
    "# checked workflows\n",
    "workflow_names = ['md5', 'fastqc-0-11-4-1/1']\n",
    "\n",
    "patched_md5 = 0\n",
    "patched_fastqc = 0\n",
    "\n",
    "fastqc_status =[]\n",
    "# get all files for fastqc\n",
    "files = ff_utils.get_metadata('files-fastq' , connection=ff)['@graph']\n",
    "for raw_file in files:\n",
    "    wfr_report = []\n",
    "    wfrs = raw_file.get('workflow_run_inputs')\n",
    "    # get a report on all workflow_runs\n",
    "    if wfrs:\n",
    "        for wfr in wfrs:\n",
    "            wfr_report.append(get_wfr_report(wfr))  \n",
    "    # sort the report by date and name\n",
    "    wfr_report = sorted(wfr_report, key=lambda k: (k['wfr_date'], k['wfr_name']))\n",
    "    for wf_name in workflow_names:\n",
    "        sub_list = [i for i in wfr_report if i['wfr_name'] == wf_name]\n",
    "        if len(sub_list) > 1:\n",
    "            print \"multiple\", wf_name, \"in file\", raw_file['uuid']\n",
    "            print \"please run 'Find old workflow_runs on raw_files and change status to deleted' for clean-up\"\n",
    "        elif sub_list:\n",
    "            run_status = sub_list[0]['wfr_status']\n",
    "            wfr_uuid = sub_list[0]['wfr_uuid']\n",
    "\n",
    "            if wf_name == 'md5':\n",
    "                if raw_file['status']== 'uploaded' and raw_file.get('md5sum') and raw_file['content_md5sum']:\n",
    "                    if run_status == \"output_file_transfer_finished\":\n",
    "                        patch_data = {'run_status': \"complete\"}\n",
    "                        ff_utils.patch_metadata(patch_data, obj_id=wfr_uuid ,connection=ff)\n",
    "                        patched_md5 += 1\n",
    "\n",
    "            if wf_name == 'fastqc-0-11-4-1/1':\n",
    "                fastqc_status.append(run_status)\n",
    "                if raw_file['status']== 'uploaded' and raw_file.get('quality_metric'):\n",
    "                    if run_status == \"output_file_transfer_finished\":\n",
    "                        patch_data = {'run_status': \"complete\"}\n",
    "                        ff_utils.patch_metadata(patch_data, obj_id=wfr_uuid ,connection=ff)\n",
    "                        patched_fastqc += 1\n",
    "\n",
    "print str(patched_md5), 'md5 wfrs patched with complete'\n",
    "print str(patched_fastqc), 'fastqc wfrs patched with complete'            "
   ]
  },
  {
   "cell_type": "code",
   "execution_count": null,
   "metadata": {
    "collapsed": true
   },
   "outputs": [],
   "source": []
  }
 ],
 "metadata": {
  "kernelspec": {
   "display_name": "Python 2",
   "language": "python",
   "name": "python2"
  },
  "language_info": {
   "codemirror_mode": {
    "name": "ipython",
    "version": 2
   },
   "file_extension": ".py",
   "mimetype": "text/x-python",
   "name": "python",
   "nbconvert_exporter": "python",
   "pygments_lexer": "ipython2",
   "version": "2.7.10"
  }
 },
 "nbformat": 4,
 "nbformat_minor": 2
}
