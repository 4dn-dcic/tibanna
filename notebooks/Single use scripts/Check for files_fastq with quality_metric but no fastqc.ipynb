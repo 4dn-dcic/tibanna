{
 "cells": [
  {
   "cell_type": "code",
   "execution_count": null,
   "metadata": {
    "collapsed": true
   },
   "outputs": [],
   "source": [
    "# This script will look for file_fastq items and check if they have quality metric, but lack the related workflow_run\n",
    "# It will delete the quality_metric object and also clear the quality_metric field in the file-fastq\n",
    "\n",
    "from core.utils import Tibanna\n",
    "from core import ff_utils\n",
    "from datetime import datetime\n",
    "\n",
    "# set enviroment and key/connection\n",
    "env = 'fourfront-webdev'\n",
    "tibanna = Tibanna(env=env)\n",
    "ff = ff_utils.fdn_connection(key=tibanna.ff_keys)\n",
    "\n",
    "\"elasticbeanstalk-fourfront-webdev-files\"\n",
    "\n",
    "def get_wfr_report(wfr):\n",
    "    \"\"\"For a given workflow_run_sbg item, grabs details, uuid, run_status, wfr name, date, and run time\"\"\"\n",
    "    wfr_data= ff_utils.get_metadata(wfr , connection=ff)\n",
    "    wfr_uuid = wfr_data['uuid']\n",
    "    wfr_status = wfr_data['run_status']\n",
    "    wfr_name = wfr_data['title'].split(' run ')[0]\n",
    "    wfr_time = datetime.strptime(wfr_data['date_created'],'%Y-%m-%dT%H:%M:%S.%f+00:00')\n",
    "    run_hours = (datetime.now()-wfr_time).total_seconds()/3600\n",
    "    wfr_rep = {'wfr_uuid': wfr_data['uuid'],\n",
    "               'wfr_status': wfr_data['run_status'],\n",
    "               'wfr_name': wfr_data['title'].split(' run ')[0],\n",
    "               'wfr_date': wfr_time,\n",
    "               'run_time': run_hours}\n",
    "    return wfr_rep\n",
    "\n",
    "fastqc_status =[]\n",
    "# get all files for fastqc\n",
    "files = ff_utils.get_metadata('files-fastq' , connection=ff)['@graph']\n",
    "found_any = False\n",
    "for raw_file in files:\n",
    "    if raw_file.get('quality_metric'):\n",
    "        wfr_report = []\n",
    "        wfrs = raw_file.get('workflow_run_inputs')\n",
    "        # get a report on all workflow_runs\n",
    "        if wfrs:\n",
    "            for wfr in wfrs:\n",
    "                wfr_report.append(get_wfr_report(wfr))  \n",
    "        # sort the report by date and name\n",
    "        wfr_report = sorted(wfr_report, key=lambda k: (k['wfr_date'], k['wfr_name']))\n",
    "        sub_list = [i for i in wfr_report if i['wfr_name'] == 'fastqc-0-11-4-1/1']\n",
    "        if not sub_list:\n",
    "            if not found_any:\n",
    "                print \"The following files have a quality metric, but no fastqc, the quality metric is deleted\"\n",
    "                found_any = True\n",
    "            print raw_file['uuid']\n",
    "            # change quality_metric status to deleted\n",
    "            qc_data = ff_utils.get_metadata(raw_file['quality_metric'], connection=ff)\n",
    "            # some old qc items have a string value in int form, correct during patch\n",
    "            if isinstance(qc_data.get('Sequence length'), int):\n",
    "                patch_data = {'status': 'deleted', 'Sequence length': str(qc_data.get('Sequence length'))}\n",
    "            else:    \n",
    "                patch_data = {'status': 'deleted'}\n",
    "            ff_utils.patch_metadata(patch_data, obj_id=raw_file['quality_metric'] ,connection=ff)\n",
    "            ff_utils.delete_field(raw_file, 'quality_metric', connection=ff)\n",
    "\n",
    "if not found_any:\n",
    "    print \"no file_fastq with quality_metric missing wf_run found\"\n",
    "\n",
    "print 'Done'\n",
    "         "
   ]
  }
 ],
 "metadata": {
  "kernelspec": {
   "display_name": "Python 2",
   "language": "python",
   "name": "python2"
  },
  "language_info": {
   "codemirror_mode": {
    "name": "ipython",
    "version": 2
   },
   "file_extension": ".py",
   "mimetype": "text/x-python",
   "name": "python",
   "nbconvert_exporter": "python",
   "pygments_lexer": "ipython2",
   "version": "2.7.10"
  }
 },
 "nbformat": 4,
 "nbformat_minor": 2
}
