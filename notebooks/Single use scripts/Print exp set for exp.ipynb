{
 "cells": [
  {
   "cell_type": "code",
   "execution_count": 13,
   "metadata": {},
   "outputs": [
    {
     "name": "stdout",
     "output_type": "stream",
     "text": [
      "29\n"
     ]
    },
    {
     "name": "stderr",
     "output_type": "stream",
     "text": [
      "WARNING:root:\n"
     ]
    },
    {
     "name": "stdout",
     "output_type": "stream",
     "text": [
      "29\n"
     ]
    }
   ],
   "source": [
    "from core.utils import Tibanna\n",
    "from core import ff_utils\n",
    "from tasks import run_md5\n",
    "from tasks import run_fastqc\n",
    "from invoke import run\n",
    "import time\n",
    "from datetime import datetime\n",
    "\n",
    "# for a given experiment set and some parameters like instrument\n",
    "# print set of files and their partA hic workflow status\n",
    "# if there are one that are running report the number of running cases\n",
    "# if there are file pairs that don't have a corresponding part A, report them separately\n",
    "\n",
    "exps = [\n",
    " '9794e243-3bda-4874-a2c6-9ec98e9bbbe3',\n",
    " '6acae8c0-832b-49c8-8f41-82b9490262fe',\n",
    " '6239c6eb-98ac-42ff-acf0-09f9e0a0cac8',\n",
    " '25d4d5dc-4a32-4ed1-aca5-8a9108aed337',\n",
    " '5cde039b-7d30-4dc1-b136-1e110bf650c6',\n",
    " 'de49a294-5db8-4e29-8461-4fbed38f0038',\n",
    " 'c4080e32-2cb5-4cd1-b4c3-1785544067b2',\n",
    " '6650dc2c-6b40-4664-9933-d5dd10732644',\n",
    " 'fe461b26-8165-4c8b-91d9-f1564618e9c4',\n",
    " 'a8bc1998-2dc9-4d04-8092-cebf2e6c482b',\n",
    " 'f3831978-5ac4-489c-8ea7-342be887f87a',\n",
    " '7d0a5613-bda3-4eb7-86e2-3b553713e3ab',\n",
    " '8efce287-33ab-4b5c-bd0c-5ed35720b989',\n",
    " 'f94af4f8-0208-4e17-9601-129e52f7a502',\n",
    " 'fe461b26-8165-4c8b-91d9-f1564618e9c4',\n",
    " 'c10ef162-a9a2-4e52-84b7-edfc62c7cf5b',\n",
    " '6738a086-6e38-4b9e-8a75-7be326fd7d89',\n",
    " '8d10f11f-95a8-4b8d-8ff2-748ea8631a23',\n",
    " '6d0202fc-3563-484a-89a8-386e5a9ce7fb',\n",
    " '398dc18c-90b4-47eb-a696-deefeb607aed',\n",
    " '418f1a4a-382d-453f-85d7-2d4b52451181',\n",
    " 'bc439c08-f0f6-4d25-a54a-7c5728b4072e',\n",
    " 'b048d475-e408-4f85-a30d-7ed924390db8',\n",
    " '12ae9395-5e12-40cd-90b8-3856d2af6490',\n",
    " '643ceec6-d9f5-44c8-ad2c-37b2ecfbf488',\n",
    " 'de49a294-5db8-4e29-8461-4fbed38f0038',\n",
    " '3179a95e-d245-420b-9b5f-1e538f1e4ee6',\n",
    " '003c0f17-84a0-4103-8a29-eb52cd223504',\n",
    " 'b74947da-c0f4-479c-b5e8-24b44fcf57b1'\n",
    "]\n",
    "\n",
    "\n",
    "env = 'fourfront-webprod'\n",
    "tibanna = Tibanna(env=env)\n",
    "\n",
    "ff = ff_utils.fdn_connection(key=tibanna.ff_keys)\n",
    "\n",
    "\n",
    "Es = []\n",
    "print len(exps)\n",
    "for exp in exps:\n",
    "    rep_resp = ff_utils.get_metadata(exp, connection=ff)\n",
    "    for i in rep_resp['experiment_sets']:\n",
    "        if i.startswith('/experiment-set-replicates'):\n",
    "            uuid_es = ff_utils.get_metadata(i, connection=ff)['uuid']\n",
    "            Es.append(uuid_es)\n",
    "print len(Es)\n",
    "    "
   ]
  },
  {
   "cell_type": "code",
   "execution_count": 17,
   "metadata": {},
   "outputs": [
    {
     "name": "stdout",
     "output_type": "stream",
     "text": [
      "27\n",
      "\"9fff2c05-0f34-435f-b0a4-765bf8a1a5cd\",\n",
      "\"0a017a28-c37a-4b71-8f3a-3904f6b47e42\",\n",
      "\"b6cd8f8d-27d2-4d3e-b5bb-a5ceb4ee5c3c\",\n",
      "\"9135be43-33c6-463d-87c7-9e2b1d56adbd\",\n",
      "\"5f605a56-21f8-4c0b-8c29-ef68b31c3e19\",\n",
      "\"1f25a58f-08c7-45a3-b3a8-75fbadd92365\",\n",
      "\"2156ca45-9773-4bf6-922a-36f573f47136\",\n",
      "\"7ec0a86a-79dc-43c0-8e7f-9b10951c4abe\",\n",
      "\"5dbcb281-9491-40c2-82d7-dd003c2c61b9\",\n",
      "\"090792c3-6f25-4d33-8ca9-7cc259d070bf\",\n",
      "\"65e81c71-1785-42ca-a28e-3da4c27f659c\",\n",
      "\"7b535bf7-cd95-4a76-8134-3b43a1651b11\",\n",
      "\"989e35be-58c8-479d-bb4e-e0cb01705405\",\n",
      "\"0b3c36cf-4e44-43b0-a5c9-2c2e56ac8f0f\",\n",
      "\"17b4aa3e-5c9c-457e-8413-1a6441f89324\",\n",
      "\"32de0079-ec6f-472f-baf5-82af899f23c5\",\n",
      "\"188be50a-72a8-4729-a03a-882e86f7739a\",\n",
      "\"e3813ca1-f333-4943-8d83-d05829acefb2\",\n",
      "\"fdd70fd4-467a-4b69-bf43-b03998980f8e\",\n",
      "\"6072a21e-a96b-4d32-ab52-1c099e71ec7c\",\n",
      "\"06e24460-5585-4c7f-9b07-3dc67cd2ff07\",\n",
      "\"e6e2bd9e-d91d-4296-b227-e3829fa395d6\",\n",
      "\"d2f95ea3-1c24-4884-bd68-6d412e0d0eaf\",\n",
      "\"2ccadfe8-39da-425d-bc17-aa5a83156d8e\",\n",
      "\"9eb40c13-cf85-487c-9819-71ef74a22dcc\",\n",
      "\"6093fe05-edf0-4697-80d8-c61c29ef5b7b\",\n",
      "\"66681d95-b946-4477-8199-fdac7c58fb65\",\n"
     ]
    }
   ],
   "source": [
    "unique_es = list(set(Es))\n",
    "print len(unique_es)\n",
    "for e in unique_es:\n",
    "    print '\"'+e+'\",'"
   ]
  },
  {
   "cell_type": "code",
   "execution_count": null,
   "metadata": {
    "collapsed": true
   },
   "outputs": [],
   "source": []
  }
 ],
 "metadata": {
  "anaconda-cloud": {},
  "kernelspec": {
   "display_name": "Python 2",
   "language": "python",
   "name": "python2"
  },
  "language_info": {
   "codemirror_mode": {
    "name": "ipython",
    "version": 2
   },
   "file_extension": ".py",
   "mimetype": "text/x-python",
   "name": "python",
   "nbconvert_exporter": "python",
   "pygments_lexer": "ipython2",
   "version": "2.7.10"
  }
 },
 "nbformat": 4,
 "nbformat_minor": 2
}
