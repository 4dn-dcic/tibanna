{
 "cells": [
  {
   "cell_type": "code",
   "execution_count": 2,
   "metadata": {
    "collapsed": true
   },
   "outputs": [],
   "source": [
    "from core.utils import Tibanna\n",
    "from core import ff_utils\n",
    "from uuid import UUID\n",
    "import ast\n",
    "\n",
    "env = 'fourfront-webprod'\n",
    "tibanna = Tibanna(env=env)\n",
    "ff = ff_utils.fdn_connection(key=tibanna.ff_keys)\n",
    "\n",
    "schema_name = {}\n",
    "profiles = ff_utils.get_metadata('/profiles/', connection=ff, frame = 'raw')\n",
    "for key, value in profiles.iteritems():\n",
    "    schema_name[key] = value['id'].split('/')[-1][:-5]\n",
    "\n",
    "def is_uuid(value):\n",
    "    #md5 qualifies as uuid\n",
    "    if '-' not in value:\n",
    "        return False\n",
    "    try:\n",
    "        UUID(value, version=4)\n",
    "        return True\n",
    "    except:\n",
    "        return False\n",
    "\n",
    "def find_uuids(val):\n",
    "    vals = []\n",
    "    if not val:\n",
    "        return []\n",
    "    elif isinstance(val, basestring):\n",
    "        if is_uuid(val):\n",
    "            vals = [val]\n",
    "        else:\n",
    "            return []\n",
    "    else:\n",
    "        text =str(val)\n",
    "        text_list = [i for i in text. split(\"'\") if len(i) == 36]\n",
    "        vals = [i for i in text_list if is_uuid(i)]\n",
    "    return vals\n",
    "    "
   ]
  },
  {
   "cell_type": "code",
   "execution_count": 13,
   "metadata": {},
   "outputs": [
    {
     "name": "stdout",
     "output_type": "stream",
     "text": [
      "sop_map 39373842-12e9-4bbb-8f70-270ec1a859ea deleted\n",
      "user 986b362f-4eb6-4a9c-8173-3ab267307e3b deleted\n",
      "lab 828cd4fe-ebb0-4b22-a94a-d2e3a36cc988 deleted\n",
      "award b0b9c607-f8b4-4f02-93f4-9895b461224b deleted\n",
      "file_fastq cd9690fb-7795-4cfe-9e32-7001f3cd105d uploading\n",
      "file_fastq f47c2f81-7fab-4ab1-a42b-e21bfa6b42c3 uploading\n",
      "40\n",
      "40\n"
     ]
    }
   ],
   "source": [
    "import json\n",
    "import copy\n",
    "def record_object(uuid, store, item_uuids):\n",
    "    #keep list of fields that only exist in frame embedded (revlinks) that you want connected\n",
    "    \n",
    "#     add_from_embedded = {'file_fastq':['workflow_run_inputs', 'workflow_run_outputs'],\n",
    "#                          'file_processed':['workflow_run_inputs', 'workflow_run_outputs']\n",
    "#                         }\n",
    "    add_from_embedded = {}\n",
    "   \n",
    "    #find schema name, store as obj_key, create empty list if missing in store\n",
    "\n",
    "    obj_type = ff_utils.get_metadata(uuid, connection=ff)['@type'][0]\n",
    "\n",
    "    try:\n",
    "        obj_key = schema_name[obj_type]\n",
    "    except:\n",
    "        #print 'CAN NOT FIND', obj_type, uuid\n",
    "        return store, item_uuids\n",
    "    if obj_key not in store:\n",
    "        store[obj_key] = []\n",
    "\n",
    "    add_uuids = []\n",
    "    resp = ff_utils.get_metadata(uuid, connection=ff, frame = 'raw')\n",
    "    \n",
    "    if resp['status'] not in ['current', 'released', 'in review by lab', 'uploaded']:\n",
    "        print obj_key, uuid, resp['status']\n",
    "        \n",
    "    # add raw frame to store and uuid to list\n",
    "    if uuid not in item_uuids:\n",
    "        store[obj_key].append(resp)\n",
    "        item_uuids.append(uuid)\n",
    "    # this case should not happen actually\n",
    "    else:\n",
    "        return store, item_uuids\n",
    "    \n",
    "    fields_to_check = copy.deepcopy(resp)\n",
    "  \n",
    "    # check if any field from the embedded frame is required\n",
    "    add_fields = add_from_embedded.get(obj_key)\n",
    "    if add_fields:\n",
    "        emb_resp = ff_utils.get_metadata(uuid, connection=ff, frame = 'embedded')\n",
    "        for a_field in add_fields:\n",
    "            field_val = emb_resp.get(a_field)\n",
    "            if field_val:\n",
    "                fields_to_check[a_field] = field_val\n",
    "        \n",
    "    for key, value in fields_to_check.iteritems():\n",
    "        # uuid formatted fields to skip\n",
    "        if key == 'uuid':\n",
    "            continue\n",
    "        uuid_in_val = find_uuids(value)\n",
    "        \n",
    "        for a_uuid in uuid_in_val:\n",
    "            if a_uuid not in item_uuids:\n",
    "                store, item_uuids = record_object(a_uuid, store, item_uuids)   \n",
    "    return store, item_uuids\n",
    "            \n",
    "sets = ['66681d95-b946-4477-8199-fdac7c58fb65']    \n",
    "my_exp = sets[0]\n",
    "    \n",
    "store_dict = {} \n",
    "item_uuids = []\n",
    "\n",
    "store, uuids = record_object(my_exp, store_dict, item_uuids)\n",
    "\n",
    "print(len(uuids))\n",
    "print(len(list(set(uuids))))\n",
    "    \n",
    "\n",
    "\n",
    "# for a_type in store:\n",
    "#     filename = 'Jsons/' + a_type + '.json'\n",
    "#     with open(filename, 'w') as outfile:\n",
    "#         json.dump(store[a_type], outfile, indent=4)\n",
    "\n",
    "\n"
   ]
  },
  {
   "cell_type": "code",
   "execution_count": 14,
   "metadata": {
    "scrolled": true
   },
   "outputs": [
    {
     "name": "stdout",
     "output_type": "stream",
     "text": [
      "experiment_set_replicate in review by lab 66681d95-b946-4477-8199-fdac7c58fb65\n",
      "biosample_cell_culture in review by lab 977ad4e1-816a-440f-8f6f-d6bce72235ed\n",
      "image in review by lab 64999496-b317-41e1-8724-cb83ddf533fb\n",
      "experiment_hi_c in review by lab 6738a086-6e38-4b9e-8a75-7be326fd7d89\n",
      "deleted data award b0b9c607-f8b4-4f02-93f4-9895b461224b\n",
      "file_fastq uploading cd9690fb-7795-4cfe-9e32-7001f3cd105d\n",
      "file_fastq uploading f47c2f81-7fab-4ab1-a42b-e21bfa6b42c3\n",
      "deleted data user 986b362f-4eb6-4a9c-8173-3ab267307e3b\n",
      "deleted data lab 828cd4fe-ebb0-4b22-a94a-d2e3a36cc988\n",
      "deleted data sop_map 39373842-12e9-4bbb-8f70-270ec1a859ea\n",
      "biosample in review by lab cce49887-45b2-4c5b-917d-591307905f16\n",
      "7\n"
     ]
    }
   ],
   "source": [
    "## This part is only for releasing\n",
    "counter = 0\n",
    "for a_type in store:\n",
    "    for raw_data in store[a_type]:\n",
    "        if raw_data['status'] in ['deleted']: \n",
    "            print 'deleted data', a_type ,raw_data['uuid']\n",
    "            continue        \n",
    "        if raw_data['status'] not in ['current', 'released']:    \n",
    "            counter +=1\n",
    "            print a_type, raw_data['status'], raw_data['uuid']\n",
    "            patch_data = {'status': \"released\"}\n",
    "            ff_utils.patch_metadata(patch_data, obj_id=raw_data['uuid'] ,connection=ff)\n",
    "print counter"
   ]
  },
  {
   "cell_type": "code",
   "execution_count": null,
   "metadata": {
    "collapsed": true
   },
   "outputs": [],
   "source": []
  }
 ],
 "metadata": {
  "kernelspec": {
   "display_name": "Python 2",
   "language": "python",
   "name": "python2"
  },
  "language_info": {
   "codemirror_mode": {
    "name": "ipython",
    "version": 2
   },
   "file_extension": ".py",
   "mimetype": "text/x-python",
   "name": "python",
   "nbconvert_exporter": "python",
   "pygments_lexer": "ipython2",
   "version": "2.7.10"
  }
 },
 "nbformat": 4,
 "nbformat_minor": 2
}
