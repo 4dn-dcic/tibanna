{
 "cells": [
  {
   "cell_type": "code",
   "execution_count": null,
   "metadata": {},
   "outputs": [],
   "source": [
    "from core.utils import Tibanna\n",
    "from core import ff_utils\n",
    "from tasks import run_md5\n",
    "from tasks import run_fastqc\n",
    "from invoke import run\n",
    "import time\n",
    "from datetime import datetime\n",
    "\n",
    "# for a given experiment set and some parameters like instrument\n",
    "# print set of files and their partA hic workflow status\n",
    "# if there are one that are running report the number of running cases\n",
    "# if there are file pairs that don't have a corresponding part A, report them separately\n",
    "\n",
    "all_sets = ['dciclab:rao_rep07',\n",
    "'dciclab:rao_rep02',\n",
    "'dciclab:rao_rep12',\n",
    "'dciclab:rao_rep13',\n",
    "'dcic:Selvaraj_gm12878_hic',\n",
    "'dcic:Jin_imr90_hic']\n",
    "\n",
    "env = 'fourfront-webdev'\n",
    "tibanna = Tibanna(env=env)\n",
    "\n",
    "ff = ff_utils.fdn_connection(key=tibanna.ff_keys)\n",
    "\n",
    "for my_rep_set in all_sets:\n",
    "    rep_resp = ff_utils.get_metadata(my_rep_set, connection=ff)['experiments_in_set']\n",
    "    print my_rep_set\n",
    "    my_aliases = []\n",
    "    my_files = []\n",
    "    for exp in rep_resp:\n",
    "        exp_resp = ff_utils.get_metadata(exp, connection=ff)\n",
    "        exp_files = exp_resp['files']\n",
    "        al = exp_resp['aliases'][0].split(':')[1].upper()\n",
    "         \n",
    "        used_file = False\n",
    "        for fastq_file in exp_files:\n",
    "            file_resp = ff_utils.get_metadata(fastq_file, connection=ff)  \n",
    "            if file_resp.get('instrument', 'Illumina my seq') != 'Illumina MiSeq':\n",
    "                used_file = True\n",
    "                f_al = file_resp['aliases'][0]\n",
    "                if f_al.startswith('dcic:H'):\n",
    "                    my_files.append(f_al.split('_')[1].upper())\n",
    "                else:\n",
    "                    my_files.append(f_al.split('_')[2].upper())\n",
    "       \n",
    "    \n",
    "        if used_file:\n",
    "            my_aliases.append(al)\n",
    "    print ', '.join(my_aliases)\n",
    "    print len(list(sorted(set(my_files))))\n",
    "    print ', '.join(list(sorted(set(my_files))))\n",
    "    print\n"
   ]
  },
  {
   "cell_type": "code",
   "execution_count": null,
   "metadata": {
    "collapsed": true
   },
   "outputs": [],
   "source": []
  }
 ],
 "metadata": {
  "anaconda-cloud": {},
  "kernelspec": {
   "display_name": "Python 2",
   "language": "python",
   "name": "python2"
  },
  "language_info": {
   "codemirror_mode": {
    "name": "ipython",
    "version": 2
   },
   "file_extension": ".py",
   "mimetype": "text/x-python",
   "name": "python",
   "nbconvert_exporter": "python",
   "pygments_lexer": "ipython2",
   "version": "2.7.10"
  }
 },
 "nbformat": 4,
 "nbformat_minor": 2
}
