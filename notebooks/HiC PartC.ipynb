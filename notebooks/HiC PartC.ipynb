{
 "cells": [
  {
   "cell_type": "code",
   "execution_count": null,
   "metadata": {
    "collapsed": true
   },
   "outputs": [],
   "source": [
    "def make_hicc_json(input_files, env, output_bucket, accession, ncores):\n",
    "    input_json = {'input_files': input_files,\n",
    "                  'output_bucket': output_bucket,\n",
    "                  'workflow_uuid': \"1348354f-49e5-4c33-afab-9ec90d65faf3\",\n",
    "                  \"app_name\": \"hi-c-processing-partc/2\",\n",
    "                  \"parameters\": {\n",
    "                      \"ncores\" :  ncores\n",
    "                  },\n",
    "                  \"_tibanna\": {\"env\": env, \"run_type\": \"hic-partb\", \"run_id\": accession}\n",
    "                  }\n",
    "    return input_json"
   ]
  },
  {
   "cell_type": "code",
   "execution_count": null,
   "metadata": {
    "collapsed": true
   },
   "outputs": [],
   "source": [
    "from core.utils import Tibanna\n",
    "from core.utils import run_workflow\n",
    "from core import ff_utils\n",
    "import time\n",
    "\n",
    "# testportal\n",
    "env = 'fourfront-webdev'\n",
    "tibanna = Tibanna(env=env)\n",
    "\n",
    "output_file_bucket = tibanna.s3.outfile_bucket\n",
    "raw_file_bucket = tibanna.s3.raw_file_bucket\n",
    "\n",
    "for pair_list in all_pairs:\n",
    "    pair_file= make_input_file_json('XXXX', 'input_cool', tibanna, output_file_bucket)\n",
    "    ncores = 8\n",
    "\n",
    "    # ncore options 8  cores up to 20gb per .fastq.gz (1tb)\n",
    "    #               36 cores up to 42gb per .fastq.gz (2tb)\n",
    "    #     Not set            up to 90gb per .fastq.gz (4tb)\n",
    "\n",
    "    input_files = [chrsizes, pair_files]\n",
    "    if all(input_files):\n",
    "        name = 'partC_'+ pair_f\n",
    "        input_json = make_hicc_json(input_files, env, output_file_bucket, name, ncores)\n",
    "        # res = run_workflow(input_json)\n",
    "    else:\n",
    "        print(\"some files not found on s3.  Investigate this list %s\" % input_files)\n",
    "    print('Done')"
   ]
  }
 ],
 "metadata": {
  "kernelspec": {
   "display_name": "Python [conda env:jupyter]",
   "language": "python",
   "name": "conda-env-jupyter-py"
  },
  "language_info": {
   "codemirror_mode": {
    "name": "ipython",
    "version": 3
   },
   "file_extension": ".py",
   "mimetype": "text/x-python",
   "name": "python",
   "nbconvert_exporter": "python",
   "pygments_lexer": "ipython3",
   "version": "3.5.2"
  }
 },
 "nbformat": 4,
 "nbformat_minor": 1
}
