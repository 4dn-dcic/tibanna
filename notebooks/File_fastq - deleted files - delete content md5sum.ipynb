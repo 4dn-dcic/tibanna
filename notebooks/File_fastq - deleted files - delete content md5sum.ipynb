{
 "cells": [
  {
   "cell_type": "code",
   "execution_count": 10,
   "metadata": {},
   "outputs": [
    {
     "name": "stdout",
     "output_type": "stream",
     "text": [
      "{u'paired_end': u'2', u'file_type': u'reads', u'display_title': u'4DNFIV6DEKK5', u'accession': u'4DNFIV6DEKK5', u'link_id': u'~files-fastq~4DNFIV6DEKK5~', u'upload_key': u'02384aba-2911-4f4a-ad94-86de05d318c9/4DNFIV6DEKK5.fastq.gz', u'href': u'/files-fastq/4DNFIV6DEKK5/@@download/4DNFIV6DEKK5.fastq.gz', u'alternate_accessions': [], u'aliases': [u'dcic:HIC023_SRR1658597_2_deleted'], u'submitted_by': u'/users/986b362f-4eb6-4a9c-8173-3ab267307e3a/', u'dbxrefs': [u'SRA:SRR1658597'], u'uuid': u'02384aba-2911-4f4a-ad94-86de05d318c9', u'file_format': u'fastq', u'schema_version': u'1', u'filename': u'SRR1658597_2.fastq.gz', u'instrument': u'Illumina HiSeq 2500', u'file_classification': u'raw file', u'flowcell_details': [], u'status': u'deleted', u'external_references': [{u'ref': u'SRA:SRR1658597', u'uri': u'https://www.ncbi.nlm.nih.gov/sra/?term=SRR1658597'}], u'title': u'4DNFIV6DEKK5', u'workflow_run_outputs': [], u'award': u'/awards/OD008540-01/', u'lab': u'/labs/erez-liebermanaiden-lab/', u'related_files': [{u'relationship_type': u'paired with', u'file': u'/files-fastq/4DNFIZRYWYPH/'}], u'@id': u'/files-fastq/4DNFIV6DEKK5/', u'workflow_run_inputs': [u'/workflow-runs-sbg/85b173c2-b26e-4838-801a-43055b4013e3/', u'/workflow-runs-sbg/89d6b9cf-b79f-48fd-bb2b-ae6cef37a783/', u'/workflow-runs-sbg/7591cd78-67d7-4d0f-9126-9b06c376c8cd/'], u'md5sum': u'95c799b8ffd410e5434775b238155ce6', u'experiments': [], u'quality_metric': u'/quality-metrics-fastqc/24d9be8b-7415-494d-9cce-105998be04d0/', u'date_created': u'2017-04-09T17:25:36.977145+00:00', u'@type': [u'FileFastq', u'File', u'Item']}\n",
      "0 files cleaned\n"
     ]
    }
   ],
   "source": [
    "from core.utils import Tibanna\n",
    "from core import ff_utils\n",
    "from datetime import datetime\n",
    "\n",
    "# set enviroment and key/connection\n",
    "env = 'fourfront-webdev'\n",
    "tibanna = Tibanna(env=env)\n",
    "ff = ff_utils.fdn_connection(key=tibanna.ff_keys)\n",
    "\n",
    "\n",
    "# what kind of files should be searched for worflow run inputs, use url compatible naming\n",
    "raw_file_types = ['files-fastq']\n",
    "clean = 0\n",
    "for raw_file_type in raw_file_types:\n",
    "    # get all files for the given file type\n",
    "    files = ff_utils.get_metadata(raw_file_type , connection=ff)['@graph']\n",
    "    for raw_file in files:\n",
    "        if raw_file['status'] == 'deleted':\n",
    "            processed = False\n",
    "            if raw_file.get('content_md5sum'):\n",
    "#                 e2 = ff_utils.delete_field(raw_file, 'content_md5sum', connection=ff)\n",
    "#                 if e2.get('status') != 'success':\n",
    "#                     print 'problem with deleteting content md5sum of', file_data['uuid']\n",
    "#                     print e2\n",
    "#                 else:\n",
    "#                     processed = True\n",
    "            if raw_file.get('md5sum'):\n",
    "#                 e3 = ff_utils.delete_field(raw_file, 'md5sum', connection=ff)\n",
    "#                 if e3.get('status') != 'success':\n",
    "#                     print 'problem with deleteting content md5sum of', file_data['uuid']\n",
    "#                     print e3\n",
    "#                 else:\n",
    "#                     processed = True\n",
    "#             if processed:\n",
    "#                 clean += 1\n",
    "\n",
    "print clean, 'files cleaned'   "
   ]
  },
  {
   "cell_type": "code",
   "execution_count": null,
   "metadata": {
    "collapsed": true
   },
   "outputs": [],
   "source": []
  }
 ],
 "metadata": {
  "kernelspec": {
   "display_name": "Python 2",
   "language": "python",
   "name": "python2"
  },
  "language_info": {
   "codemirror_mode": {
    "name": "ipython",
    "version": 2
   },
   "file_extension": ".py",
   "mimetype": "text/x-python",
   "name": "python",
   "nbconvert_exporter": "python",
   "pygments_lexer": "ipython2",
   "version": "2.7.10"
  }
 },
 "nbformat": 4,
 "nbformat_minor": 2
}
