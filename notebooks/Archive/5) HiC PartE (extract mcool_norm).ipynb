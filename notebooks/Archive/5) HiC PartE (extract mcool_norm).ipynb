{
 "cells": [
  {
   "cell_type": "code",
   "execution_count": null,
   "metadata": {
    "collapsed": true
   },
   "outputs": [],
   "source": [
    "def make_hice_json(input_files, env, output_bucket, accession):\n",
    "    input_json = {'input_files': input_files,\n",
    "                  'output_bucket': output_bucket,\n",
    "                  'workflow_uuid': \"441b46f5-5193-41ee-a90e-c7a74fbb65c1\",\n",
    "                  \"app_name\": \"extract-mcool-normvector-for-juicebox-1/1\",\n",
    "                  \"parameters\": {\n",
    "                  },\n",
    "                  \"_tibanna\": {\"env\": env, \"run_type\": \"hic_part_e_extract-mcool-normvector\", \"run_id\": accession}\n",
    "                  }\n",
    "    return input_json\n",
    "\n",
    "def make_input_file_json(obj_ids, arg_name, tibanna, bucket):\n",
    "    '''\n",
    "    obj_ids can be either a string or a list.\n",
    "    {\n",
    "      \"bucket_name\": \"%s\",\n",
    "      \"object_key\": \"%s\",\n",
    "      \"uuid\" : \"%s\",\n",
    "      \"workflow_argument_name\": \"%s\"\n",
    "    }\n",
    "    '''\n",
    "    ff = ff_utils.fdn_connection(key=tibanna.ff_keys)\n",
    "    \n",
    "    if not isinstance(obj_ids, list):\n",
    "        obj_ids = [ obj_ids ]\n",
    "        \n",
    "    object_key_list = []\n",
    "    uuid_list = []\n",
    "    \n",
    "    for obj_id in obj_ids:\n",
    "        metadata = ff_utils.get_metadata(obj_id, connection=ff)\n",
    "         \n",
    "        # just make sure the file is on s3, otherwise bail\n",
    "        print(\"looking for upload key %s, on bucket %s\" % \n",
    "              (metadata['upload_key'],\n",
    "               bucket))\n",
    "        if tibanna.s3.does_key_exist(metadata['upload_key'], bucket=bucket):\n",
    "            object_key_list.append(metadata['upload_key'].split('/')[1])\n",
    "            uuid_list.append(metadata['uuid'])\n",
    "            \n",
    "    if len(uuid_list)==1:\n",
    "        uuid_list = uuid_list[0]\n",
    "    if len(object_key_list)==1:\n",
    "        object_key_list = object_key_list[0]\n",
    "        \n",
    "    data = {'bucket_name' : bucket,\n",
    "            'object_key' :  object_key_list,\n",
    "            'uuid' : uuid_list,\n",
    "            'workflow_argument_name': arg_name\n",
    "            }\n",
    "    return data"
   ]
  },
  {
   "cell_type": "code",
   "execution_count": null,
   "metadata": {
    "collapsed": true
   },
   "outputs": [],
   "source": [
    "from core.utils import Tibanna\n",
    "from core.utils import run_workflow\n",
    "from core import ff_utils\n",
    "import time\n",
    "\n",
    "# testportal\n",
    "env = 'fourfront-webdev'\n",
    "tibanna = Tibanna(env=env)\n",
    "\n",
    "\n",
    "all_inputs = [\n",
    "[\"rao_rep13_n\", '/files-processed/4DNFINJ3TBC9/'],\n",
    "[\"jin_et_al_n\", '/files-processed/4DNFIBEHN8JT/'],\n",
    "[\"rao_rep12_n\", '/files-processed/4DNFIWHGN3HO/'],\n",
    "[\"selvaraj_et_al_n\", '/files-processed/4DNFITZCROZ9/']\n",
    "]\n",
    "\n",
    "\n",
    "output_file_bucket = tibanna.s3.outfile_bucket\n",
    "raw_file_bucket = tibanna.s3.raw_file_bucket\n",
    "\n",
    "for set_name, mcool_accession in all_inputs:\n",
    "    mcool_file = make_input_file_json(mcool_accession, 'input_mcool', tibanna, output_file_bucket)\n",
    "\n",
    "    input_files = [mcool_file]\n",
    "    if all(input_files):\n",
    "        name = set_name\n",
    "        input_json = make_hice_json(input_files, env, output_file_bucket, name)\n",
    "        print input_json\n",
    "        res = run_workflow(input_json)\n",
    "        time.sleep(10)\n",
    "    else:\n",
    "        print(\"some files not found on s3.  Investigate this list %s\" % input_files)\n",
    "    \n",
    "    print('Done')"
   ]
  },
  {
   "cell_type": "code",
   "execution_count": null,
   "metadata": {
    "collapsed": true
   },
   "outputs": [],
   "source": []
  }
 ],
 "metadata": {
  "kernelspec": {
   "display_name": "Python 2",
   "language": "python",
   "name": "python2"
  },
  "language_info": {
   "codemirror_mode": {
    "name": "ipython",
    "version": 2
   },
   "file_extension": ".py",
   "mimetype": "text/x-python",
   "name": "python",
   "nbconvert_exporter": "python",
   "pygments_lexer": "ipython2",
   "version": "2.7.10"
  }
 },
 "nbformat": 4,
 "nbformat_minor": 1
}
