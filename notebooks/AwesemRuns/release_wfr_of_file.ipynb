{
 "cells": [
  {
   "cell_type": "code",
   "execution_count": 5,
   "metadata": {},
   "outputs": [
    {
     "name": "stdout",
     "output_type": "stream",
     "text": [
      "18\n",
      "0\n"
     ]
    }
   ],
   "source": [
    "from core.utils import Tibanna\n",
    "from core import ff_utils\n",
    "from invoke import run\n",
    "import time\n",
    "from datetime import datetime\n",
    "\n",
    "env = 'fourfront-webprod'\n",
    "tibanna = Tibanna(env=env)\n",
    "ff = ff_utils.fdn_connection(key=tibanna.ff_keys)\n",
    "\n",
    "r_wfr_1 = [\n",
    "        \"4DNFIBDQQU1B\",\n",
    "        \"4DNFICYJ9FOU\",\n",
    "        \"4DNFI86NV3M3\",\n",
    "        \"4DNFII7498B3\",\n",
    "        \"4DNFIDWULZXP\",\n",
    "        \"4DNFIVZL95G8\",\n",
    "        \"4DNFI1ZLO9D7\",\n",
    "        \"4DNFI95Q7FEU\",\n",
    "        \"4DNFIV6HB4VT\",\n",
    "        \"4DNFIQ1PICV9\",\n",
    "        \"4DNFI2ZSVKS3\",\n",
    "        \"4DNFI4OBPEAV\",\n",
    "        \"4DNFI75V1UJB\",\n",
    "        \"4DNFIS58ESR4\",\n",
    "        \"4DNFIQL5L5I3\",\n",
    "        \"4DNFI9NDGTUJ\",\n",
    "        \"4DNFIOM76FMO\",\n",
    "        \"4DNFIYLQMUFZ\"\n",
    "]\n",
    "\n",
    "r_wfr = r_wfr_1\n",
    "success = 0\n",
    "patch_problem = 0\n",
    "for fil in r_wfr:\n",
    "    fil_info = ff_utils.get_metadata(fil, connection=ff, frame='embedded')\n",
    "    my_wfr = fil_info.get('workflow_run_outputs')\n",
    "    if len(my_wfr) != 1:\n",
    "        print 'problem', fil\n",
    "    wfr_uuid = my_wfr[0]['uuid']\n",
    "\n",
    "    patch_data = {\"status\": \"released\"}\n",
    "    try:\n",
    "        ff_utils.patch_metadata(patch_data, obj_id=wfr_uuid ,connection=ff)\n",
    "        success += 1\n",
    "    except Exception as e:\n",
    "        print e\n",
    "        print\n",
    "        patch_problem += 1\n",
    "        break\n",
    "                \n",
    "\n",
    "\n",
    "    \n",
    "print success\n",
    "print patch_problem\n",
    "    \n",
    "\n",
    "\n",
    "# ff = ff_utils.fdn_connection(key=tibanna.ff_keys)\n",
    "# all_aws = ff_utils.get_metadata('workflow-runs-awsem', connection=ff)['@graph']"
   ]
  },
  {
   "cell_type": "code",
   "execution_count": null,
   "metadata": {
    "collapsed": true
   },
   "outputs": [],
   "source": []
  },
  {
   "cell_type": "code",
   "execution_count": null,
   "metadata": {
    "collapsed": true
   },
   "outputs": [],
   "source": []
  }
 ],
 "metadata": {
  "anaconda-cloud": {},
  "kernelspec": {
   "display_name": "Python 2",
   "language": "python",
   "name": "python2"
  },
  "language_info": {
   "codemirror_mode": {
    "name": "ipython",
    "version": 2
   },
   "file_extension": ".py",
   "mimetype": "text/x-python",
   "name": "python",
   "nbconvert_exporter": "python",
   "pygments_lexer": "ipython2",
   "version": "2.7.10"
  }
 },
 "nbformat": 4,
 "nbformat_minor": 2
}
