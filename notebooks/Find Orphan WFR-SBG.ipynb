{
 "cells": [
  {
   "cell_type": "code",
   "execution_count": 1,
   "metadata": {},
   "outputs": [
    {
     "name": "stdout",
     "output_type": "stream",
     "text": [
      "{u'default': {u'secret': u'rpubayj7nip2leb4', u'key': u'KNGVGF6N', u'server': u'https://testportal.4dnucleome.org'}}\n",
      "{u'workflow_argument_name': u'fastq1', u'value': u'/files-fastq/4DNFIO53ESDG/'}\n",
      "{u'workflow_argument_name': u'fastq2', u'value': u'/files-fastq/4DNFIRZC3E2S/'}\n",
      "{u'workflow_argument_name': u'bwa_index', u'value': u'/files-reference/4DNFIZQZ39L9/'}\n",
      "{u'workflow_argument_name': u'chrsizes', u'value': u'/files-reference/4DNFI823LSII/'}\n",
      "{u'workflow_argument_name': u'reference_fasta', u'value': u'/files-reference/4DNFI823L888/'}\n",
      "{u'workflow_argument_name': u'restriction_file', u'value': u'/files-reference/4DNFI823L811/'}\n",
      "c0bcbff9-cbe3-4495-ba80-5815ecfeb187 hi-c-processing-parta-juicer/5 run 2017-06-05 18:04:03.558499 in review by lab [u'uploaded', u'uploaded', u'uploaded', u'uploading', u'uploaded', u'uploaded']\n"
     ]
    }
   ],
   "source": [
    "# This script is looking at the given enviroment and going through all the workflow runs\n",
    "# to see if any of then have a mising/deleted/obsolete input file.\n",
    "# The first part is only reporting, and the second part is if you want to change the status\n",
    "# to deleted and also delete output files.\n",
    "\n",
    "from core.utils import Tibanna\n",
    "from core import ff_utils\n",
    "\n",
    "# set enviroment and key/connection\n",
    "env = 'fourfront-webdev' #test portal\n",
    "tibanna = Tibanna(env=env)\n",
    "ff = ff_utils.fdn_connection(key=tibanna.ff_keys)\n",
    "\n",
    "print tibanna.ff_keys\n",
    "# get all wfr\n",
    "wfr_report = []\n",
    "wfrs = ff_utils.get_metadata('workflow-runs-sbg', connection=ff)['@graph']\n",
    "for wfr in wfrs:\n",
    "    wfr_status = wfr['status']\n",
    "    uuid = wfr['uuid']\n",
    "    title = wfr['display_title']\n",
    "    inputs = wfr.get('input_files')\n",
    "    inp_statuses = []\n",
    "    for input_file in inputs:\n",
    "        print input_file\n",
    "        input_status = ff_utils.get_metadata(input_file['value'],connection = ff)['status']\n",
    "        inp_statuses.append(input_status)\n",
    "    print uuid, title, wfr_status, inp_statuses\n",
    "    break\n",
    "\n",
    "    \n",
    "dekker_sets = ['dekker-lab:ExperimentSet_Encode_RPMI-7951-FA-HindIII',\n",
    "'dekker-lab:ExperimentSet_Encode_G401-FA-HindIII',\n",
    "'dekker-lab:ExperimentSet_Encode_NCI-H460-FA-HindIII',\n",
    "'dekker-lab:ExperimentSet_Encode_SK-MEL-5-FA-HindIII',\n",
    "'dekker-lab:ExperimentSet_Encode_Panc1-FA-HindIII',\n",
    "'dekker-lab:ExperimentSet_Encode_SJCRH30-FA-HindIII',\n",
    "'dekker-lab:ExperimentSet_Encode_Caki2-FA-HindIII',\n",
    "'dekker-lab:ExperimentSet_Encode_SK-N-MC-FA-HindIII',\n",
    "'dekker-lab:ExperimentSet_Encode_LNCaPcloneFGC-FA-HindIII',\n",
    "'dekker-lab:ExperimentSet_Encode_T47D-FA-HindIII',\n",
    "'dekker-lab:ExperimentSet_Encode_A549-FA-HindIII',\n",
    "'dekker-lab:ExperimentSet_Encode_SK-N-DZ-FA-HindIII',\n",
    "'dekker-lab:ExperimentSet_Encode_SK-N-DZ-FA-HindIII-dimethylsulfoxide',\n",
    "'dekker-lab:ExperimentSet_U54_HFFc6-FA-DpnII']"
   ]
  },
  {
   "cell_type": "code",
   "execution_count": null,
   "metadata": {
    "collapsed": true
   },
   "outputs": [],
   "source": []
  }
 ],
 "metadata": {
  "kernelspec": {
   "display_name": "Python 2",
   "language": "python",
   "name": "python2"
  },
  "language_info": {
   "codemirror_mode": {
    "name": "ipython",
    "version": 2
   },
   "file_extension": ".py",
   "mimetype": "text/x-python",
   "name": "python",
   "nbconvert_exporter": "python",
   "pygments_lexer": "ipython2",
   "version": "2.7.10"
  }
 },
 "nbformat": 4,
 "nbformat_minor": 2
}
