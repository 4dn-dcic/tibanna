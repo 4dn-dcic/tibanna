{
 "cells": [
  {
   "cell_type": "code",
   "execution_count": null,
   "metadata": {},
   "outputs": [],
   "source": [
    "# This script is looking at the given enviroment and going through all the workflow runs\n",
    "# to see if any of then have a mising/deleted/obsolete input file.\n",
    "# The first part is only reporting, and the second part is if you want to change the status\n",
    "# to deleted and also delete output files.\n",
    "\n",
    "from core.utils import Tibanna\n",
    "from core import ff_utils\n",
    "\n",
    "# set enviroment and key/connection\n",
    "env = 'fourfront-webdev' #test portal\n",
    "tibanna = Tibanna(env=env)\n",
    "ff = ff_utils.fdn_connection(key=tibanna.ff_keys)\n",
    "\n",
    "print tibanna.ff_keys\n",
    "# get all wfr\n",
    "wfr_report = []\n",
    "wfrs = ff_utils.get_metadata('workflow-runs-sbg', connection=ff)['@graph']\n",
    "for wfr in wfrs:\n",
    "    wfr_status = wfr['status']\n",
    "    uuid = wfr['uuid']\n",
    "    title = wfr['display_title']\n",
    "    inputs = wfr.get('input_files')\n",
    "    inp_statuses = []\n",
    "    for input_file in inputs:\n",
    "        print input_file\n",
    "        input_status = ff_utils.get_metadata(input_file['value'],connection = ff)['status']\n",
    "        inp_statuses.append(input_status)\n",
    "    print uuid, title, wfr_status, inp_statuses\n",
    "    break\n"
   ]
  },
  {
   "cell_type": "code",
   "execution_count": null,
   "metadata": {
    "collapsed": true
   },
   "outputs": [],
   "source": []
  }
 ],
 "metadata": {
  "kernelspec": {
   "display_name": "Python 2",
   "language": "python",
   "name": "python2"
  },
  "language_info": {
   "codemirror_mode": {
    "name": "ipython",
    "version": 2
   },
   "file_extension": ".py",
   "mimetype": "text/x-python",
   "name": "python",
   "nbconvert_exporter": "python",
   "pygments_lexer": "ipython2",
   "version": "2.7.10"
  }
 },
 "nbformat": 4,
 "nbformat_minor": 2
}
