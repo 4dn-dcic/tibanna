{
 "cells": [
  {
   "cell_type": "markdown",
   "metadata": {},
   "source": [
    "# Triage Workflow Run Error\n",
    "\n",
    "This notebook will look through Tibanna's StepFunction interface on AWS, shows some graphs, then determine the last failed execution and show you what the error for the last execution was.\n"
   ]
  },
  {
   "cell_type": "code",
   "execution_count": 1,
   "metadata": {},
   "outputs": [
    {
     "name": "stderr",
     "output_type": "stream",
     "text": [
      "/Users/j1z0/.virtualenvs/27wranglers/lib/python2.7/site-packages/matplotlib/__init__.py:913: UserWarning: axes.color_cycle is deprecated and replaced with axes.prop_cycle; please use the latter.\n",
      "  warnings.warn(self.msg_depr % (key, alt_key))\n"
     ]
    }
   ],
   "source": [
    "# first we just load up some stuff\n",
    "# %load init.py\n",
    "%load_ext autoreload\n",
    "%autoreload 2\n",
    "import pandas as pd\n",
    "import numpy as np\n",
    "import matplotlib.pyplot as plt\n",
    "from core import utils\n",
    "import boto3\n",
    "import json\n",
    "pd.set_option('display.max_columns',100);pd.set_option('display.max_rows',1000)\n",
    "%matplotlib inline\n"
   ]
  },
  {
   "cell_type": "code",
   "execution_count": 2,
   "metadata": {
    "scrolled": true
   },
   "outputs": [
    {
     "data": {
      "text/html": [
       "<div>\n",
       "<style>\n",
       "    .dataframe thead tr:only-child th {\n",
       "        text-align: right;\n",
       "    }\n",
       "\n",
       "    .dataframe thead th {\n",
       "        text-align: left;\n",
       "    }\n",
       "\n",
       "    .dataframe tbody tr th {\n",
       "        vertical-align: top;\n",
       "    }\n",
       "</style>\n",
       "<table border=\"1\" class=\"dataframe\">\n",
       "  <thead>\n",
       "    <tr style=\"text-align: right;\">\n",
       "      <th></th>\n",
       "      <th>executionArn</th>\n",
       "      <th>name</th>\n",
       "      <th>startDate</th>\n",
       "      <th>stateMachineArn</th>\n",
       "      <th>status</th>\n",
       "      <th>stopDate</th>\n",
       "    </tr>\n",
       "  </thead>\n",
       "  <tbody>\n",
       "    <tr>\n",
       "      <th>0</th>\n",
       "      <td>arn:aws:states:us-east-1:643366669028:executio...</td>\n",
       "      <td>testrun_20170609112231067592</td>\n",
       "      <td>2017-06-09 11:22:30.181000-04:00</td>\n",
       "      <td>arn:aws:states:us-east-1:643366669028:stateMac...</td>\n",
       "      <td>ABORTED</td>\n",
       "      <td>2017-06-09 11:22:30.409000-04:00</td>\n",
       "    </tr>\n",
       "    <tr>\n",
       "      <th>1</th>\n",
       "      <td>arn:aws:states:us-east-1:643366669028:executio...</td>\n",
       "      <td>testrun_20170609110241952411</td>\n",
       "      <td>2017-06-09 11:02:41.069000-04:00</td>\n",
       "      <td>arn:aws:states:us-east-1:643366669028:stateMac...</td>\n",
       "      <td>ABORTED</td>\n",
       "      <td>2017-06-09 11:02:41.292000-04:00</td>\n",
       "    </tr>\n",
       "    <tr>\n",
       "      <th>2</th>\n",
       "      <td>arn:aws:states:us-east-1:643366669028:executio...</td>\n",
       "      <td>generic_d98ee6a1-b8ea-4648-a79c-9576e94f555e</td>\n",
       "      <td>2017-06-09 10:59:05.742000-04:00</td>\n",
       "      <td>arn:aws:states:us-east-1:643366669028:stateMac...</td>\n",
       "      <td>FAILED</td>\n",
       "      <td>2017-06-09 10:59:15.738000-04:00</td>\n",
       "    </tr>\n",
       "    <tr>\n",
       "      <th>3</th>\n",
       "      <td>arn:aws:states:us-east-1:643366669028:executio...</td>\n",
       "      <td>generic_b7f84af4-96b9-4d67-a19c-be8c0281fdb5</td>\n",
       "      <td>2017-06-09 10:55:11.561000-04:00</td>\n",
       "      <td>arn:aws:states:us-east-1:643366669028:stateMac...</td>\n",
       "      <td>FAILED</td>\n",
       "      <td>2017-06-09 10:55:22.481000-04:00</td>\n",
       "    </tr>\n",
       "    <tr>\n",
       "      <th>4</th>\n",
       "      <td>arn:aws:states:us-east-1:643366669028:executio...</td>\n",
       "      <td>generic_7ae2acf9-73e6-47af-85f2-115d54fdb5da</td>\n",
       "      <td>2017-06-09 10:49:26.431000-04:00</td>\n",
       "      <td>arn:aws:states:us-east-1:643366669028:stateMac...</td>\n",
       "      <td>FAILED</td>\n",
       "      <td>2017-06-09 10:49:46.812000-04:00</td>\n",
       "    </tr>\n",
       "  </tbody>\n",
       "</table>\n",
       "</div>"
      ],
      "text/plain": [
       "                                        executionArn  \\\n",
       "0  arn:aws:states:us-east-1:643366669028:executio...   \n",
       "1  arn:aws:states:us-east-1:643366669028:executio...   \n",
       "2  arn:aws:states:us-east-1:643366669028:executio...   \n",
       "3  arn:aws:states:us-east-1:643366669028:executio...   \n",
       "4  arn:aws:states:us-east-1:643366669028:executio...   \n",
       "\n",
       "                                           name  \\\n",
       "0                  testrun_20170609112231067592   \n",
       "1                  testrun_20170609110241952411   \n",
       "2  generic_d98ee6a1-b8ea-4648-a79c-9576e94f555e   \n",
       "3  generic_b7f84af4-96b9-4d67-a19c-be8c0281fdb5   \n",
       "4  generic_7ae2acf9-73e6-47af-85f2-115d54fdb5da   \n",
       "\n",
       "                         startDate  \\\n",
       "0 2017-06-09 11:22:30.181000-04:00   \n",
       "1 2017-06-09 11:02:41.069000-04:00   \n",
       "2 2017-06-09 10:59:05.742000-04:00   \n",
       "3 2017-06-09 10:55:11.561000-04:00   \n",
       "4 2017-06-09 10:49:26.431000-04:00   \n",
       "\n",
       "                                     stateMachineArn   status  \\\n",
       "0  arn:aws:states:us-east-1:643366669028:stateMac...  ABORTED   \n",
       "1  arn:aws:states:us-east-1:643366669028:stateMac...  ABORTED   \n",
       "2  arn:aws:states:us-east-1:643366669028:stateMac...   FAILED   \n",
       "3  arn:aws:states:us-east-1:643366669028:stateMac...   FAILED   \n",
       "4  arn:aws:states:us-east-1:643366669028:stateMac...   FAILED   \n",
       "\n",
       "                          stopDate  \n",
       "0 2017-06-09 11:22:30.409000-04:00  \n",
       "1 2017-06-09 11:02:41.292000-04:00  \n",
       "2 2017-06-09 10:59:15.738000-04:00  \n",
       "3 2017-06-09 10:55:22.481000-04:00  \n",
       "4 2017-06-09 10:49:46.812000-04:00  "
      ]
     },
     "execution_count": 2,
     "metadata": {},
     "output_type": "execute_result"
    }
   ],
   "source": [
    "# Connect to AWS and see what's going on\n",
    "client = boto3.client('stepfunctions', region_name='us-east-1')\n",
    "base_arn = 'arn:aws:states:us-east-1:643366669028:%s:%s'\n",
    "STEP_FUNCTION_ARN = base_arn % ('stateMachine', 'run_sbg_workflow_3')\n",
    "\n",
    "executions = client.list_executions(stateMachineArn=STEP_FUNCTION_ARN, maxResults=1000)\n",
    "exec_df = pd.DataFrame(executions.get('executions'))\n",
    "exec_df.sort_values(by='startDate', ascending=False, inplace=True)\n",
    "exec_df.head()\n",
    "\n",
    "\n",
    "\n",
    "\n"
   ]
  },
  {
   "cell_type": "code",
   "execution_count": 3,
   "metadata": {
    "scrolled": true
   },
   "outputs": [
    {
     "data": {
      "text/plain": [
       "<matplotlib.axes._subplots.AxesSubplot at 0x113afa710>"
      ]
     },
     "execution_count": 3,
     "metadata": {},
     "output_type": "execute_result"
    },
    {
     "data": {
      "image/png": "[encoded data removed]",
      "text/plain": [
       "<matplotlib.figure.Figure at 0x113a51690>"
      ]
     },
     "metadata": {},
     "output_type": "display_data"
    }
   ],
   "source": [
    "#clean up the names of runs so we can better group things for graphing\n",
    "\n",
    "to_replace = ['fastqc*', 'validate*', 'test*']\n",
    "value = ['fastqc', 'validate', 'testing']\n",
    "exec_df['type'] = exec_df.name.replace(to_replace='[-,_].*$', value='', regex=True, inplace=False)\n",
    "\n",
    "\n",
    "fig, axs = plt.subplots(1,2, figsize=(15,3))\n",
    "\n",
    "group_by_status = exec_df.groupby(['type', 'status'])\n",
    "group_by_status.size().unstack().plot(kind='bar', stacked=True, ax=axs[0])\n",
    "\n",
    "overview = exec_df.groupby(['status'])\n",
    "overview.size().plot(kind='bar', stacked=True, ax=axs[1])\n"
   ]
  },
  {
   "cell_type": "markdown",
   "metadata": {},
   "source": [
    "Now onto the diagnostics.  Below you can use num_days to shorten the length of the query which will show you all the errors found in that time period."
   ]
  },
  {
   "cell_type": "code",
   "execution_count": 4,
   "metadata": {},
   "outputs": [
    {
     "name": "stdout",
     "output_type": "stream",
     "text": [
      "67 errors found for all step functions since 2017-05-30\n"
     ]
    }
   ],
   "source": [
    "# Failures in last num_days\n",
    "num_days = 10\n",
    "import datetime\n",
    "cutoff = datetime.datetime.today() - datetime.timedelta(days=10) \n",
    "latest = exec_df.loc[(exec_df.startDate > cutoff) & (exec_df.status.apply(lambda x: x in ['FAILED',]))]\n",
    "print(\"%s errors found for all step functions since %s\" % \n",
    "      (len(latest), cutoff.date()))"
   ]
  },
  {
   "cell_type": "markdown",
   "metadata": {},
   "source": [
    "By default we will get the most recent error, but you can set exec_name if you want to look at a particular execution."
   ]
  },
  {
   "cell_type": "code",
   "execution_count": 5,
   "metadata": {},
   "outputs": [
    {
     "name": "stdout",
     "output_type": "stream",
     "text": [
      "you can view the url for the failing run by clicking on the link below:\n",
      "\n",
      "https://console.aws.amazon.com/states/home?region=us-east-1#/executions/details/arn:aws:states:us-east-1:643366669028:execution:run_sbg_workflow_3:generic_d98ee6a1-b8ea-4648-a79c-9576e94f555e\n"
     ]
    }
   ],
   "source": [
    "# by default though we get the most recent errror\n",
    "exec_name = latest.iloc[0]['name']\n",
    "\n",
    "# use to view errors for a specific step-function run result\n",
    "# exec_name = 'hicpartb-test-4DNFIN232ZZZ_3'\n",
    "\n",
    "def get_exec_arn(name):\n",
    "    try:\n",
    "        return latest.loc[latest.name == name, 'executionArn'].iloc[0]\n",
    "    except:\n",
    "        print(\"run %s not found \" % name)\n",
    "        print(latest)\n",
    "        return ''\n",
    "       \n",
    "def get_exec_url(name):\n",
    "    try:\n",
    "        arn = latest.loc[latest.name == name, 'executionArn'].iloc[0]\n",
    "        baseurl = 'https://console.aws.amazon.com/states/home?region=us-east-1#/executions/details/'\n",
    "        return '%s%s' % (baseurl, arn)\n",
    "    except:\n",
    "        print(\"run %s not found\" % name)\n",
    "        return ''\n",
    "    \n",
    "url = get_exec_url(exec_name)\n",
    "arn = get_exec_arn(exec_name)\n",
    "print(\"you can view the url for the failing run by clicking on the link below:\\n\")\n",
    "print(url)"
   ]
  },
  {
   "cell_type": "code",
   "execution_count": 6,
   "metadata": {},
   "outputs": [
    {
     "name": "stdout",
     "output_type": "stream",
     "text": [
      "lambda arn:aws:lambda:us-east-1:643366669028:function:run_task_sbg \n",
      "Running at 2017-06-09 10:59:14.876000-04:00 failed \n",
      "Failure is {u'cause': u'{\"stackTrace\": [[\"/var/task/service.py\", 24, \"handler\", \"create_resp = sbg.create_task(sbg.task_input)\"], [\"/var/task/core/sbg_utils.py\", 265, \"create_task\", \"raise Exception(\\\\\"task not created succesfully, resp is %s\\\\\" % resp.json())\"]], \"errorType\": \"Exception\", \"errorMessage\": \"task not created succesfully, resp is {u\\'status\\': 400, u\\'message\\': u\\'Bad Request.\\', u\\'code\\': 90000, u\\'more_info\\': u\\'http://docs.sevenbridges.com/docs/api-status-codes#90000\\'}\"}', u'error': u'Exception'}\n",
      "\n",
      "\n",
      "input json for the lambda was:\n",
      "\n",
      "{u'input': u'{\"pf_meta\": [{\"status\": \"to be uploaded by workflow\", \"uuid\": \"5781b253-29a9-4d6d-9e5b-c88a1056ccc7\", \"file_format\": \"pairs_px2\", \"accession\": \"4DNFI68UTIOG\", \"lab\": \"4dn-dcic-lab\", \"award\": \"1U01CA200059-01\"}, {\"status\": \"to be uploaded by workflow\", \"uuid\": \"7fbfb235-3070-403e-8400-ced895b5fa50\", \"file_format\": \"pairs\", \"accession\": \"4DNFIIB5IP5D\", \"lab\": \"4dn-dcic-lab\", \"award\": \"1U01CA200059-01\"}, {\"status\": \"to be uploaded by workflow\", \"uuid\": \"8d3528e3-e0ee-4382-93d4-8f539210b2ce\", \"file_format\": \"cool\", \"accession\": \"4DNFIQY0GXNU\", \"lab\": \"4dn-dcic-lab\", \"award\": \"1U01CA200059-01\"}, {\"status\": \"to be uploaded by workflow\", \"uuid\": \"c2033cff-5262-4fee-9f7f-7c6446f1f64a\", \"file_format\": \"hic\", \"accession\": \"4DNFID9JJY1N\", \"lab\": \"4dn-dcic-lab\", \"award\": \"1U01CA200059-01\"}, {\"status\": \"to be uploaded by workflow\", \"uuid\": \"b6820f01-f95d-437d-b910-f6f89a4b80f3\", \"file_format\": \"mcool\", \"accession\": \"4DNFI1OF56LV\", \"lab\": \"4dn-dcic-lab\", \"award\": \"1U01CA200059-01\"}], \"ff_meta\": {\"run_platform\": \"SBG\", \"uuid\": \"e396d69b-2e8b-48a4-91e3-e49342a6eaee\", \"parameters\": [{\"workflow_argument_name\": \"ncores\", \"value\": \"8\"}, {\"workflow_argument_name\": \"min_res\", \"value\": \"5000\"}, {\"workflow_argument_name\": \"normalization_type\", \"value\": \"KR\"}, {\"workflow_argument_name\": \"binsize\", \"value\": \"5000\"}], \"workflow\": \"b9829418-49e5-4c33-afab-9ec90d65faf3\", \"title\": \"hi-c-processing-partb/19 run 2017-06-09 14:59:07.556375\", \"sbg_import_ids\": [\"4DNFIN232ZZZ.pairs.txt.gz\", \"4DNFI823LSII.chrom.sizes\"], \"award\": \"1U01CA200059-01\", \"sbg_task_id\": \"\", \"run_url\": \"https://console.aws.amazon.com/states/home?region=us-east-1#/executions/details/arn:aws:states:us-east-1:643366669028:execution:run_sbg_workflow_3:generic_d98ee6a1-b8ea-4648-a79c-9576e94f555e\", \"lab\": \"4dn-dcic-lab\", \"sbg_mounted_volume_ids\": [\"4dn_s3ebj6a8ki\", \"4dn_s38ntyhccr\", \"4dn_s3fzplealv\", \"4dn_s3qnfnimk6\"], \"run_status\": \"started\", \"output_files\": [{\"extension\": \".pairs.txt.gz.px2\", \"format\": \"pairs_px2\", \"workflow_argument_name\": \"output_pairs_index\", \"value\": \"5781b253-29a9-4d6d-9e5b-c88a1056ccc7\", \"upload_key\": \"5781b253-29a9-4d6d-9e5b-c88a1056ccc7/4DNFI68UTIOG.pairs.txt.gz.px2\", \"type\": \"Output processed file\"}, {\"extension\": \".pairs.txt.gz\", \"format\": \"pairs\", \"workflow_argument_name\": \"output_pairs\", \"value\": \"7fbfb235-3070-403e-8400-ced895b5fa50\", \"upload_key\": \"7fbfb235-3070-403e-8400-ced895b5fa50/4DNFIIB5IP5D.pairs.txt.gz\", \"type\": \"Output processed file\"}, {\"extension\": \".cool\", \"format\": \"cool\", \"workflow_argument_name\": \"out_cool\", \"value\": \"8d3528e3-e0ee-4382-93d4-8f539210b2ce\", \"upload_key\": \"8d3528e3-e0ee-4382-93d4-8f539210b2ce/4DNFIQY0GXNU.cool\", \"type\": \"Output processed file\"}, {\"extension\": \".hic\", \"format\": \"hic\", \"workflow_argument_name\": \"output_hic\", \"value\": \"c2033cff-5262-4fee-9f7f-7c6446f1f64a\", \"upload_key\": \"c2033cff-5262-4fee-9f7f-7c6446f1f64a/4DNFID9JJY1N.hic\", \"type\": \"Output processed file\"}, {\"extension\": \".mcool\", \"format\": \"mcool\", \"workflow_argument_name\": \"out_mcool\", \"value\": \"b6820f01-f95d-437d-b910-f6f89a4b80f3\", \"upload_key\": \"b6820f01-f95d-437d-b910-f6f89a4b80f3/4DNFI1OF56LV.mcool\", \"type\": \"Output processed file\"}], \"sbg_export_ids\": [], \"input_files\": [{\"ordinal\": 1, \"workflow_argument_name\": \"input_pairs\", \"value\": \"0048955c-7cb6-4e56-a4d8-56fad52f9999\"}, {\"ordinal\": 2, \"workflow_argument_name\": \"input_pairs\", \"value\": \"0048955c-7cb6-4e56-a4d8-56fad52f9999\"}, {\"ordinal\": 1, \"workflow_argument_name\": \"chrsizes\", \"value\": \"4a6d10ee-2edb-4402-a98f-0edb1d58f5e9\"}]}, \"_tibanna\": {\"env\": \"fourfront-webprod\", \"settings\": {\"url\": \"https://console.aws.amazon.com/states/home?region=us-east-1#/executions/details/arn:aws:states:us-east-1:643366669028:execution:run_sbg_workflow_3:generic_d98ee6a1-b8ea-4648-a79c-9576e94f555e\", \"run_type\": \"generic\", \"run_name\": \"generic_d98ee6a1-b8ea-4648-a79c-9576e94f555e\", \"env\": \"fourfront-webprod\", \"run_id\": \"d98ee6a1-b8ea-4648-a79c-9576e94f555e\"}}, \"workflow\": {\"import_id_list\": [\"4DNFIN232ZZZ.pairs.txt.gz\", \"4DNFI823LSII.chrom.sizes\"], \"app_name\": \"hi-c-processing-partb/19\", \"task_id\": \"\", \"task_input\": {\"project\": \"4dn-dcic/dev\", \"inputs\": {\"min_res\": 5000, \"normalization_type\": \"KR\", \"input_pairs\": [{\"path\": \"592e9e04e4b09a1f078e5793\", \"class\": \"File\", \"name\": \"4DNFIN232ZZZ.pairs.txt.gz\"}], \"ncores\": 8, \"chrsizes\": {\"path\": \"59305cb6e4b01337c803e724\", \"class\": \"File\", \"name\": \"4DNFI823LSII.chrom.sizes\"}, \"binsize\": 5000}, \"app\": \"4dn-dcic/dev/hi-c-processing-partb/19\", \"name\": \"generic_d98ee6a1-b8ea-4648-a79c-9576e94f555e\"}, \"volume_list\": [{\"id\": \"4dn-labor/4dn_s3ebj6a8ki\", \"name\": \"4dn_s3ebj6a8ki\"}, {\"id\": \"4dn-labor/4dn_s38ntyhccr\", \"name\": \"4dn_s38ntyhccr\"}, {\"id\": \"4dn-labor/4dn_s3fzplealv\", \"name\": \"4dn_s3fzplealv\"}, {\"id\": \"4dn-labor/4dn_s3qnfnimk6\", \"name\": \"4dn_s3qnfnimk6\"}], \"output_volume_id\": \"4dn-labor/4dn_s3qnfnimk6\", \"export_report\": [], \"project_id\": \"4dn-dcic/dev\", \"export_id_list\": []}}', u'resource': u'arn:aws:lambda:us-east-1:643366669028:function:run_task_sbg'}\n"
     ]
    }
   ],
   "source": [
    "# now let's see which lambda for the run failed\n",
    "resp = client.get_execution_history(executionArn=arn, reverseOrder=True)\n",
    "\n",
    "# find the failing lambda\n",
    "for i, event in enumerate(resp.get('events')):\n",
    "    if event.get('type') == 'LambdaFunctionScheduled':\n",
    "        break\n",
    "        \n",
    "failing_lambda = resp.get('events')[:i+1]\n",
    "lambda_arn = failing_lambda[-1]['lambdaFunctionScheduledEventDetails']['resource']\n",
    "input_json = failing_lambda[-1]['lambdaFunctionScheduledEventDetails']\n",
    "lambda_time = failing_lambda[-1]['timestamp']\n",
    "failure = failing_lambda[0].get('executionFailedEventDetails')\n",
    "if failure is None:\n",
    "    failure = failing_lambda[0].get('executionAbortedEventDetails')\n",
    "\n",
    "print(\"lambda %s \\nRunning at %s failed \\nFailure is %s\" % \n",
    "      (lambda_arn, str(lambda_time), failure))\n",
    "print\n",
    "print\n",
    "print(\"input json for the lambda was:\") \n",
    "print\n",
    "print(input_json)\n"
   ]
  },
  {
   "cell_type": "code",
   "execution_count": 7,
   "metadata": {},
   "outputs": [
    {
     "data": {
      "text/plain": [
       "u\"task not created succesfully, resp is {u'status': 400, u'message': u'Bad Request.', u'code': 90000, u'more_info': u'http://docs.sevenbridges.com/docs/api-status-codes#90000'}\""
      ]
     },
     "execution_count": 7,
     "metadata": {},
     "output_type": "execute_result"
    }
   ],
   "source": [
    "json.loads(failure['cause'])['errorMessage']"
   ]
  },
  {
   "cell_type": "markdown",
   "metadata": {},
   "source": [
    "And what follows is the cloudwatch logs if we can find any"
   ]
  },
  {
   "cell_type": "code",
   "execution_count": 8,
   "metadata": {},
   "outputs": [
    {
     "name": "stdout",
     "output_type": "stream",
     "text": [
      "lambda was last updated 2017-06-09T10:25:08.501+0000 UTC time\n"
     ]
    },
    {
     "data": {
      "text/plain": [
       "{'ResponseMetadata': {'HTTPHeaders': {'content-length': '505',\n",
       "   'content-type': 'application/x-amz-json-1.1',\n",
       "   'date': 'Fri, 09 Jun 2017 15:28:47 GMT',\n",
       "   'x-amzn-requestid': '548cbe9e-4d28-11e7-b214-8b7dba819a62'},\n",
       "  'HTTPStatusCode': 200,\n",
       "  'RequestId': '548cbe9e-4d28-11e7-b214-8b7dba819a62',\n",
       "  'RetryAttempts': 0},\n",
       " u'events': [{u'eventId': u'33384669493177535834368353456172737392879104997558452224',\n",
       "   u'ingestionTime': 1497020355175,\n",
       "   u'logStreamName': u'2017/06/09/[$LATEST]3844dbc8f9cf4bf3b6a6ddd9b13df237',\n",
       "   u'message': u'START RequestId: 344703f1-4d24-11e7-aaf2-71ccd1fa8292 Version: $LATEST\\n',\n",
       "   u'timestamp': 1497020354969}],\n",
       " u'searchedLogStreams': [{u'logStreamName': u'2017/06/09/[$LATEST]3844dbc8f9cf4bf3b6a6ddd9b13df237',\n",
       "   u'searchedCompletely': True}]}"
      ]
     },
     "execution_count": 8,
     "metadata": {},
     "output_type": "execute_result"
    }
   ],
   "source": [
    "awslambda = boto3.client('lambda', region_name='us-east-1')\n",
    "lambda_details = awslambda.get_function_configuration(FunctionName=lambda_arn)\n",
    "print(\"lambda was last updated %s UTC time\" % \n",
    "      lambda_details['LastModified'])\n",
    "\n",
    "\n",
    "# need to conver to format aws likes\n",
    "import datetime\n",
    "import pytz\n",
    "\n",
    "epoch = pytz.utc.localize(datetime.datetime.utcfromtimestamp(0))\n",
    "\n",
    "def unix_time_millis(dt):\n",
    "    return int((dt - epoch).total_seconds()) * 1000\n",
    "\n",
    "log_stream = \"/aws/lambda/%s\" % lambda_details['FunctionName']\n",
    "\n",
    "cloudwatch = boto3.client('logs', region_name='us-east-1')\n",
    "end_time_local = failing_lambda[0]['timestamp']\n",
    "\n",
    "end_time = unix_time_millis(end_time_local.astimezone(pytz.utc))\n",
    "\n",
    "start_time_local = failing_lambda[-1]['timestamp']\n",
    "start_time = unix_time_millis(start_time_local.astimezone(pytz.utc))\n",
    "cloudwatch.filter_log_events(logGroupName=log_stream,\n",
    "                            startTime=start_time,\n",
    "                            endTime=end_time)\n",
    "\n",
    "\n",
    "\n"
   ]
  },
  {
   "cell_type": "markdown",
   "metadata": {
    "collapsed": true
   },
   "source": [
    "Some of the checks below should help identify common problems, such as file doesn't exist..."
   ]
  },
  {
   "cell_type": "code",
   "execution_count": 9,
   "metadata": {
    "collapsed": true
   },
   "outputs": [],
   "source": [
    "# TODO: ensure workflow exists on target server\n",
    "\n",
    "# TODO: check the input files exists on s3\n",
    "\n",
    "# TODO: validate input for step\n"
   ]
  },
  {
   "cell_type": "code",
   "execution_count": 18,
   "metadata": {},
   "outputs": [
    {
     "data": {
      "text/plain": [
       "{'app': '4dn-dcic/dev/generic_d98ee6a1-b8ea-4648-a79c-9576e94f555e',\n",
       " 'inputs': {'binsize': 5000,\n",
       "  'chrsizes': {'class': 'File',\n",
       "   'name': '4DNFI823LSII.chrom.sizes',\n",
       "   'path': '59305cb6e4b01337c803e724'},\n",
       "  'input_pairs': [{'class': 'File',\n",
       "    'name': '4DNFIN232ZZZ.pairs.txt.gz',\n",
       "    'path': '592e9e04e4b09a1f078e5793'}],\n",
       "  'min_res': 5000,\n",
       "  'ncores': 8,\n",
       "  'normalization_type': 'KR'},\n",
       " 'name': 'generic_d98ee6a1-b8ea-4648-a79c-9576e94f555e',\n",
       " 'project': '4dn-dcic/dev'}"
      ]
     },
     "execution_count": 18,
     "metadata": {},
     "output_type": "execute_result"
    }
   ],
   "source": [
    "from core import sbg_utils, ff_utils, utils\n",
    "tib = {\n",
    "    \"env\": \"fourfront-webprod\",\n",
    "    \"settings\": {\n",
    "      \"url\": \"https://console.aws.amazon.com/states/home?region=us-east-1#/executions/details/arn:aws:states:us-east-1:643366669028:execution:run_sbg_workflow_3:generic_d98ee6a1-b8ea-4648-a79c-9576e94f555e\",\n",
    "      \"run_type\": \"generic\",\n",
    "      \"run_name\": \"generic_d98ee6a1-b8ea-4648-a79c-9576e94f555e\",\n",
    "      \"env\": \"fourfront-webprod\",\n",
    "      \"run_id\": \"d98ee6a1-b8ea-4648-a79c-9576e94f555e\"\n",
    "    }}\n",
    "workflow = {\n",
    "    \"import_id_list\": [\n",
    "      \"4DNFIN232ZZZ.pairs.txt.gz\",\n",
    "      \"4DNFI823LSII.chrom.sizes\"\n",
    "    ],\n",
    "    \"app_name\": \"hi-c-processing-partb/19\",\n",
    "    \"task_id\": \"\",\n",
    "    \"task_input\": {\n",
    "      \"project\": \"4dn-dcic/dev\",\n",
    "      \"inputs\": {\n",
    "        \"min_res\": 5000,\n",
    "        \"normalization_type\": \"KR\",\n",
    "        \"input_pairs\": [\n",
    "          {\n",
    "            \"path\": \"592e9e04e4b09a1f078e5793\",\n",
    "            \"class\": \"File\",\n",
    "            \"name\": \"4DNFIN232ZZZ.pairs.txt.gz\"\n",
    "          }\n",
    "        ],\n",
    "        \"ncores\": 8,\n",
    "        \"chrsizes\": {\n",
    "          \"path\": \"59305cb6e4b01337c803e724\",\n",
    "          \"class\": \"File\",\n",
    "          \"name\": \"4DNFI823LSII.chrom.sizes\"\n",
    "        },\n",
    "        \"binsize\": 5000\n",
    "      },\n",
    "      \"app\": \"4dn-dcic/dev/hi-c-processing-partb/19\",\n",
    "      \"name\": \"generic_d98ee6a1-b8ea-4648-a79c-9576e94f555e\"\n",
    "    },\n",
    "    \"volume_list\": [\n",
    "      {\n",
    "        \"id\": \"4dn-labor/4dn_s3ebj6a8ki\",\n",
    "        \"name\": \"4dn_s3ebj6a8ki\"\n",
    "      },\n",
    "      {\n",
    "        \"id\": \"4dn-labor/4dn_s38ntyhccr\",\n",
    "        \"name\": \"4dn_s38ntyhccr\"\n",
    "      },\n",
    "      {\n",
    "        \"id\": \"4dn-labor/4dn_s3fzplealv\",\n",
    "        \"name\": \"4dn_s3fzplealv\"\n",
    "      },\n",
    "      {\n",
    "        \"id\": \"4dn-labor/4dn_s3qnfnimk6\",\n",
    "        \"name\": \"4dn_s3qnfnimk6\"\n",
    "      }\n",
    "    ],\n",
    "    \"output_volume_id\": \"4dn-labor/4dn_s3qnfnimk6\",\n",
    "    \"export_report\": [],\n",
    "    \"project_id\": \"4dn-dcic/dev\",\n",
    "    \"export_id_list\": []\n",
    "  }\n",
    "tibanna = utils.Tibanna(**tib)\n",
    "sbg = sbg_utils.create_sbg_workflow(token=tibanna.sbg_keys, **workflow)\n",
    "sbg.task_input.__dict__"
   ]
  },
  {
   "cell_type": "code",
   "execution_count": null,
   "metadata": {
    "collapsed": true
   },
   "outputs": [],
   "source": []
  }
 ],
 "metadata": {
  "kernelspec": {
   "display_name": "Python 2",
   "language": "python",
   "name": "python2"
  },
  "language_info": {
   "codemirror_mode": {
    "name": "ipython",
    "version": 2
   },
   "file_extension": ".py",
   "mimetype": "text/x-python",
   "name": "python",
   "nbconvert_exporter": "python",
   "pygments_lexer": "ipython2",
   "version": "2.7.10"
  }
 },
 "nbformat": 4,
 "nbformat_minor": 2
}
