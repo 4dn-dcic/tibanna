{
 "cells": [
  {
   "cell_type": "markdown",
   "metadata": {},
   "source": [
    "# Triage Workflow Run Error\n",
    "\n",
    "This notebook will look through Tibanna's StepFunction interface on AWS, shows some graphs, then determine the last failed execution and show you what the error for the last execution was.\n"
   ]
  },
  {
   "cell_type": "code",
   "execution_count": 1,
   "metadata": {},
   "outputs": [
    {
     "name": "stderr",
     "output_type": "stream",
     "text": [
      "/Users/j1z0/.virtualenvs/27wranglers/lib/python2.7/site-packages/matplotlib/__init__.py:913: UserWarning: axes.color_cycle is deprecated and replaced with axes.prop_cycle; please use the latter.\n",
      "  warnings.warn(self.msg_depr % (key, alt_key))\n"
     ]
    }
   ],
   "source": [
    "# first we just load up some stuff\n",
    "# %load init.py\n",
    "%load_ext autoreload\n",
    "%autoreload 2\n",
    "import pandas as pd\n",
    "import numpy as np\n",
    "import matplotlib.pyplot as plt\n",
    "from core import utils\n",
    "import boto3\n",
    "import json\n",
    "pd.set_option('display.max_columns',100);pd.set_option('display.max_rows',1000)\n",
    "%matplotlib inline\n"
   ]
  },
  {
   "cell_type": "code",
   "execution_count": 2,
   "metadata": {
    "scrolled": true
   },
   "outputs": [
    {
     "data": {
      "text/html": [
       "<div>\n",
       "<style>\n",
       "    .dataframe thead tr:only-child th {\n",
       "        text-align: right;\n",
       "    }\n",
       "\n",
       "    .dataframe thead th {\n",
       "        text-align: left;\n",
       "    }\n",
       "\n",
       "    .dataframe tbody tr th {\n",
       "        vertical-align: top;\n",
       "    }\n",
       "</style>\n",
       "<table border=\"1\" class=\"dataframe\">\n",
       "  <thead>\n",
       "    <tr style=\"text-align: right;\">\n",
       "      <th></th>\n",
       "      <th>executionArn</th>\n",
       "      <th>name</th>\n",
       "      <th>startDate</th>\n",
       "      <th>stateMachineArn</th>\n",
       "      <th>status</th>\n",
       "      <th>stopDate</th>\n",
       "    </tr>\n",
       "  </thead>\n",
       "  <tbody>\n",
       "    <tr>\n",
       "      <th>0</th>\n",
       "      <td>arn:aws:states:us-east-1:643366669028:executio...</td>\n",
       "      <td>testrun_20170530194102641115</td>\n",
       "      <td>2017-05-30 15:41:03.679000-04:00</td>\n",
       "      <td>arn:aws:states:us-east-1:643366669028:stateMac...</td>\n",
       "      <td>ABORTED</td>\n",
       "      <td>2017-05-30 15:41:03.853000-04:00</td>\n",
       "    </tr>\n",
       "    <tr>\n",
       "      <th>1</th>\n",
       "      <td>arn:aws:states:us-east-1:643366669028:executio...</td>\n",
       "      <td>testrun_20170530194033719491</td>\n",
       "      <td>2017-05-30 15:40:34.589000-04:00</td>\n",
       "      <td>arn:aws:states:us-east-1:643366669028:stateMac...</td>\n",
       "      <td>ABORTED</td>\n",
       "      <td>2017-05-30 15:40:34.736000-04:00</td>\n",
       "    </tr>\n",
       "    <tr>\n",
       "      <th>2</th>\n",
       "      <td>arn:aws:states:us-east-1:643366669028:executio...</td>\n",
       "      <td>testrun_20170530192214351795</td>\n",
       "      <td>2017-05-30 15:22:14.935000-04:00</td>\n",
       "      <td>arn:aws:states:us-east-1:643366669028:stateMac...</td>\n",
       "      <td>ABORTED</td>\n",
       "      <td>2017-05-30 15:22:15.094000-04:00</td>\n",
       "    </tr>\n",
       "    <tr>\n",
       "      <th>3</th>\n",
       "      <td>arn:aws:states:us-east-1:643366669028:executio...</td>\n",
       "      <td>testrun_20170530192054724451</td>\n",
       "      <td>2017-05-30 15:20:56.080000-04:00</td>\n",
       "      <td>arn:aws:states:us-east-1:643366669028:stateMac...</td>\n",
       "      <td>ABORTED</td>\n",
       "      <td>2017-05-30 15:20:56.226000-04:00</td>\n",
       "    </tr>\n",
       "    <tr>\n",
       "      <th>4</th>\n",
       "      <td>arn:aws:states:us-east-1:643366669028:executio...</td>\n",
       "      <td>testrun_20170530191951661675</td>\n",
       "      <td>2017-05-30 15:19:52.875000-04:00</td>\n",
       "      <td>arn:aws:states:us-east-1:643366669028:stateMac...</td>\n",
       "      <td>ABORTED</td>\n",
       "      <td>2017-05-30 15:19:53.015000-04:00</td>\n",
       "    </tr>\n",
       "  </tbody>\n",
       "</table>\n",
       "</div>"
      ],
      "text/plain": [
       "                                        executionArn  \\\n",
       "0  arn:aws:states:us-east-1:643366669028:executio...   \n",
       "1  arn:aws:states:us-east-1:643366669028:executio...   \n",
       "2  arn:aws:states:us-east-1:643366669028:executio...   \n",
       "3  arn:aws:states:us-east-1:643366669028:executio...   \n",
       "4  arn:aws:states:us-east-1:643366669028:executio...   \n",
       "\n",
       "                           name                        startDate  \\\n",
       "0  testrun_20170530194102641115 2017-05-30 15:41:03.679000-04:00   \n",
       "1  testrun_20170530194033719491 2017-05-30 15:40:34.589000-04:00   \n",
       "2  testrun_20170530192214351795 2017-05-30 15:22:14.935000-04:00   \n",
       "3  testrun_20170530192054724451 2017-05-30 15:20:56.080000-04:00   \n",
       "4  testrun_20170530191951661675 2017-05-30 15:19:52.875000-04:00   \n",
       "\n",
       "                                     stateMachineArn   status  \\\n",
       "0  arn:aws:states:us-east-1:643366669028:stateMac...  ABORTED   \n",
       "1  arn:aws:states:us-east-1:643366669028:stateMac...  ABORTED   \n",
       "2  arn:aws:states:us-east-1:643366669028:stateMac...  ABORTED   \n",
       "3  arn:aws:states:us-east-1:643366669028:stateMac...  ABORTED   \n",
       "4  arn:aws:states:us-east-1:643366669028:stateMac...  ABORTED   \n",
       "\n",
       "                          stopDate  \n",
       "0 2017-05-30 15:41:03.853000-04:00  \n",
       "1 2017-05-30 15:40:34.736000-04:00  \n",
       "2 2017-05-30 15:22:15.094000-04:00  \n",
       "3 2017-05-30 15:20:56.226000-04:00  \n",
       "4 2017-05-30 15:19:53.015000-04:00  "
      ]
     },
     "execution_count": 2,
     "metadata": {},
     "output_type": "execute_result"
    }
   ],
   "source": [
    "# Connect to AWS and see what's going on\n",
    "client = boto3.client('stepfunctions', region_name='us-east-1')\n",
    "base_arn = 'arn:aws:states:us-east-1:643366669028:%s:%s'\n",
    "STEP_FUNCTION_ARN = base_arn % ('stateMachine', 'run_sbg_workflow_2')\n",
    "\n",
    "executions = client.list_executions(stateMachineArn=STEP_FUNCTION_ARN, maxResults=1000)\n",
    "exec_df = pd.DataFrame(executions.get('executions'))\n",
    "exec_df.sort_values(by='startDate', ascending=False, inplace=True)\n",
    "exec_df.head()\n",
    "\n",
    "\n",
    "\n",
    "\n"
   ]
  },
  {
   "cell_type": "code",
   "execution_count": 3,
   "metadata": {
    "scrolled": true
   },
   "outputs": [
    {
     "data": {
      "text/plain": [
       "<matplotlib.axes._subplots.AxesSubplot at 0x11016df10>"
      ]
     },
     "execution_count": 3,
     "metadata": {},
     "output_type": "execute_result"
    },
    {
     "data": {
      "image/png": "[encoded data removed]",
      "text/plain": [
       "<matplotlib.figure.Figure at 0x10fedfe10>"
      ]
     },
     "metadata": {},
     "output_type": "display_data"
    }
   ],
   "source": [
    "#clean up the names of runs so we can better group things for graphing\n",
    "\n",
    "to_replace = ['fastqc*', 'validate*', 'test*']\n",
    "value = ['fastqc', 'validate', 'testing']\n",
    "exec_df['type'] = exec_df.name.replace(to_replace='[-,_].*$', value='', regex=True, inplace=False)\n",
    "\n",
    "\n",
    "fig, axs = plt.subplots(1,2, figsize=(15,3))\n",
    "\n",
    "group_by_status = exec_df.groupby(['type', 'status'])\n",
    "group_by_status.size().unstack().plot(kind='bar', stacked=True, ax=axs[0])\n",
    "\n",
    "overview = exec_df.groupby(['status'])\n",
    "overview.size().plot(kind='bar', stacked=True, ax=axs[1])\n"
   ]
  },
  {
   "cell_type": "markdown",
   "metadata": {},
   "source": [
    "Now onto the diagnostics.  Below you can use num_days to shorten the length of the query which will show you all the errors found in that time period."
   ]
  },
  {
   "cell_type": "code",
   "execution_count": 4,
   "metadata": {},
   "outputs": [
    {
     "name": "stdout",
     "output_type": "stream",
     "text": [
      "27 errors found for all step functions since 2017-05-20\n"
     ]
    }
   ],
   "source": [
    "# Failures in last num_days\n",
    "num_days = 10\n",
    "import datetime\n",
    "cutoff = datetime.datetime.today() - datetime.timedelta(days=10) \n",
    "latest = exec_df.loc[(exec_df.startDate > cutoff) & (exec_df.status.apply(lambda x: x in ['FAILED',]))]\n",
    "print(\"%s errors found for all step functions since %s\" % \n",
    "      (len(latest), cutoff.date()))"
   ]
  },
  {
   "cell_type": "markdown",
   "metadata": {},
   "source": [
    "By default we will get the most recent error, but you can set exec_name if you want to look at a particular execution."
   ]
  },
  {
   "cell_type": "code",
   "execution_count": 5,
   "metadata": {},
   "outputs": [
    {
     "name": "stdout",
     "output_type": "stream",
     "text": [
      "you can view the url for the failing run by clicking on the link below:\n",
      "\n",
      "https://console.aws.amazon.com/states/home?region=us-east-1#/executions/details/arn:aws:states:us-east-1:643366669028:execution:run_sbg_workflow_2:fastqc-0-11-4-1-1_4DNFIWJZJ6JS.fastq.gz\n"
     ]
    }
   ],
   "source": [
    "# by default though we get the most recent errror\n",
    "exec_name = latest.iloc[0]['name']\n",
    "\n",
    "# use to view errors for a specific step-function run result\n",
    "# exec_name = 'fastqc-0-11-4-1-1_4DNFIWJZJ6JS.fastq.gz'\n",
    "\n",
    "def get_exec_arn(name):\n",
    "    try:\n",
    "        return latest.loc[latest.name == name, 'executionArn'].iloc[0]\n",
    "    except:\n",
    "        print(\"run %s not found \" % name)\n",
    "        return ''\n",
    "       \n",
    "def get_exec_url(name):\n",
    "    try:\n",
    "        arn = latest.loc[latest.name == name, 'executionArn'].iloc[0]\n",
    "        baseurl = 'https://console.aws.amazon.com/states/home?region=us-east-1#/executions/details/'\n",
    "        return '%s%s' % (baseurl, arn)\n",
    "    except:\n",
    "        print(\"run %s not found\" % name)\n",
    "        return ''\n",
    "    \n",
    "url = get_exec_url(exec_name)\n",
    "arn = get_exec_arn(exec_name)\n",
    "print(\"you can view the url for the failing run by clicking on the link below:\\n\")\n",
    "print(url)"
   ]
  },
  {
   "cell_type": "code",
   "execution_count": 7,
   "metadata": {},
   "outputs": [
    {
     "name": "stdout",
     "output_type": "stream",
     "text": [
      "lambda arn:aws:lambda:us-east-1:643366669028:function:start_run_sbg \n",
      "Running at 2017-05-25 10:40:18.830000-04:00 failed \n",
      "Failure is {u'cause': u'{\"stackTrace\": [[\"/var/task/service.py\", 116, \"handler\", \"raise Exception(\\\\\"Unable to mount output volume, error is %s \\\\\" % res)\"]], \"errorType\": \"Exception\", \"errorMessage\": \"Unable to mount output volume, error is {u\\'status\\': 403, u\\'message\\': u\\'Could not obtain cross-write access on the service. Check the documentation.\\', u\\'code\\': 9002, u\\'more_info\\': u\\'http://docs.sevenbridges.com/docs/api-status-codes#9002\\'} \"}', u'error': u'Exception'}\n",
      "\n",
      "\n",
      "input json for the lambda was:\n",
      "\n",
      "{u'input': u'{\"app_name\": \"fastqc-0-11-4-1/1\", \"parameters\": {}, \"_tibanna\": {\"run_type\": \"fastqc-0-11-4-1/1\", \"run_id\": \"4DNFIWJZJ6JS.fastq.gz\", \"url\": \"https://console.aws.amazon.com/states/home?region=us-east-1#/executions/details/arn:aws:states:us-east-1:643366669028:execution:run_sbg_workflow_2:fastqc-0-11-4-1-1_4DNFIWJZJ6JS.fastq.gz\", \"env\": \"fourfront-webdev\", \"run_name\": \"fastqc-0-11-4-1-1_4DNFIWJZJ6JS.fastq.gz\"}, \"output_bucket\": \"elasticbeanstalk-fourfront-webdev-wfoutput\", \"workflow_uuid\": \"2324ad76-ff37-4157-8bcc-3ce72b7dace9\", \"input_files\": [{\"object_key\": \"4DNFIWJZJ6JS.fastq.gz\", \"bucket_name\": \"elasticbeanstalk-fourfront-webdev-files\", \"workflow_argument_name\": \"input_fastq\", \"uuid\": \"0e2f7172-83b8-4f79-9a3b-7a6291c41e21\"}]}', u'resource': u'arn:aws:lambda:us-east-1:643366669028:function:start_run_sbg'}\n"
     ]
    }
   ],
   "source": [
    "# now let's see which lambda for the run failed\n",
    "resp = client.get_execution_history(executionArn=arn, reverseOrder=True)\n",
    "\n",
    "# find the failing lambda\n",
    "for i, event in enumerate(resp.get('events')):\n",
    "    if event.get('type') == 'LambdaFunctionScheduled':\n",
    "        break\n",
    "        \n",
    "failing_lambda = resp.get('events')[:i+1]\n",
    "lambda_arn = failing_lambda[-1]['lambdaFunctionScheduledEventDetails']['resource']\n",
    "input_json = failing_lambda[-1]['lambdaFunctionScheduledEventDetails']\n",
    "lambda_time = failing_lambda[-1]['timestamp']\n",
    "failure = failing_lambda[0].get('executionFailedEventDetails')\n",
    "if failure is None:\n",
    "    failure = failing_lambda[0].get('executionAbortedEventDetails')\n",
    "\n",
    "print(\"lambda %s \\nRunning at %s failed \\nFailure is %s\" % \n",
    "      (lambda_arn, str(lambda_time), failure))\n",
    "print\n",
    "print\n",
    "print(\"input json for the lambda was:\") \n",
    "print\n",
    "print(input_json)\n"
   ]
  },
  {
   "cell_type": "code",
   "execution_count": 8,
   "metadata": {},
   "outputs": [
    {
     "data": {
      "text/plain": [
       "u\"Unable to mount output volume, error is {u'status': 403, u'message': u'Could not obtain cross-write access on the service. Check the documentation.', u'code': 9002, u'more_info': u'http://docs.sevenbridges.com/docs/api-status-codes#9002'} \""
      ]
     },
     "execution_count": 8,
     "metadata": {},
     "output_type": "execute_result"
    }
   ],
   "source": [
    "json.loads(failure['cause'])['errorMessage']"
   ]
  },
  {
   "cell_type": "markdown",
   "metadata": {},
   "source": [
    "And what follows is the cloudwatch logs if we can find any"
   ]
  },
  {
   "cell_type": "code",
   "execution_count": 9,
   "metadata": {},
   "outputs": [
    {
     "name": "stdout",
     "output_type": "stream",
     "text": [
      "lambda was last updated 2017-05-25T04:53:43.121+0000 UTC time\n"
     ]
    },
    {
     "data": {
      "text/plain": [
       "{'ResponseMetadata': {'HTTPHeaders': {'content-length': '14627',\n",
       "   'content-type': 'application/x-amz-json-1.1',\n",
       "   'date': 'Tue, 30 May 2017 20:39:15 GMT',\n",
       "   'x-amzn-requestid': '0c182330-4578-11e7-9796-1196919c9a73'},\n",
       "  'HTTPStatusCode': 200,\n",
       "  'RequestId': '0c182330-4578-11e7-9796-1196919c9a73',\n",
       "  'RetryAttempts': 0},\n",
       " u'events': [{u'eventId': u'33355742373995234370089334134791449040964303103728746496',\n",
       "   u'ingestionTime': 1495723218082,\n",
       "   u'logStreamName': u'2017/05/25/[$LATEST]01450d44f5e44463b6a2a644613f2623',\n",
       "   u'message': u\"[WARNING]\\t2017-05-25T14:40:18.83Z\\t122c4cbc-4158-11e7-853b-450c7efbfdbb\\tinput_files is [{'workflow_argument_name': u'input_fastq', 'value': u'd4a55476-b80f-41a5-9e2f-f488dd17081f'}]\\n\",\n",
       "   u'timestamp': 1495723218083},\n",
       "  {u'eventId': u'33355742387397982234406238643586906675054630846843256832',\n",
       "   u'ingestionTime': 1495723218688,\n",
       "   u'logStreamName': u'2017/05/25/[$LATEST]b5d9172e0a3447c389f660901991bee3',\n",
       "   u'message': u'START RequestId: 12bd41f0-4158-11e7-85b4-e12c7622ccd6 Version: $LATEST\\n',\n",
       "   u'timestamp': 1495723218684},\n",
       "  {u'eventId': u'33355742389561154518663709088430797339029875485032251392',\n",
       "   u'ingestionTime': 1495723218783,\n",
       "   u'logStreamName': u'2017/05/25/[$LATEST]b5d9172e0a3447c389f660901991bee3',\n",
       "   u'message': u\"[WARNING]\\t2017-05-25T14:40:18.781Z\\t12bd41f0-4158-11e7-85b4-e12c7622ccd6\\tsbg is {'import_id_list': [], 'app_name': u'fastqc-0-11-4-1/1', 'task_id': '', 'task_input': None, 'volume_list': [], 'output_volume_id': None, 'header': {'X-SBG-Auth-Token': '8246fc01a92c400da9f66352743759e2', 'Content-type': 'application/json'}, 'export_report': [], 'project_id': '4dn-dcic/dev', 'export_id_list': []}\\n\",\n",
       "   u'timestamp': 1495723218781},\n",
       "  {u'eventId': u'33355742392883965553244771936701850938115501978393575424',\n",
       "   u'ingestionTime': 1495723218934,\n",
       "   u'logStreamName': u'2017/05/25/[$LATEST]b5d9172e0a3447c389f660901991bee3',\n",
       "   u'message': u\"[WARNING]\\t2017-05-25T14:40:18.930Z\\t12bd41f0-4158-11e7-85b4-e12c7622ccd6\\tworkflow info  {u'cwl_pointer': u'https://igor.sbgenomics.com/raw/4dn-dcic/dev/fastqc-0-11-4/0', u'display_title': u'FastQC', u'accession': u'4DNWFAW5VTA5', u'link_id': u'~workflows~2324ad76-ff37-4157-8bcc-3ce72b7dace9~', u'alternate_accessions': [], u'external_references': [], u'documents': [], u'uuid': u'2324ad76-ff37-4157-8bcc-3ce72b7dace9', u'title': u'FastQC', u'schema_version': u'1', u'arguments': [{u'argument_mapping': [{u'workflow_step': u'/analysis-steps/FastQC/', u'step_argument_name': u'limits_file', u'step_argument_type': u'Input file'}], u'argument_type': u'Input file', u'workflow_argument_name': u'limits_file'}, {u'argument_mapping': [{u'workflow_step': u'/analysis-steps/FastQC/', u'step_argument_name': u'input_fastq', u'step_argument_type': u'Input file'}], u'argument_type': u'Input file', u'argument_format': u'fastq', u'workflow_argument_name': u'input_fastq'}, {u'argument_mapping': [{u'workflow_step': u'/analysis-steps/FastQC/', u'step_argument_name': u'contaminants_file', u'step_argument_type': u'Input file'}], u'argument_type': u'Input file', u'workflow_argument_name': u'contaminants_file'}, {u'argument_mapping': [{u'workflow_step': u'/analysis-steps/FastQC/', u'step_argument_name': u'adapters_file', u'step_argument_type': u'Input file'}], u'argument_type': u'Input file', u'workflow_argument_name': u'adapters_file'}, {u'argument_mapping': [{u'workflow_step': u'/analysis-steps/FastQC/', u'step_argument_name': u'report_zip', u'step_argument_type': u'Output file'}], u'argument_type': u'Output QC file', u'workflow_argument_name': u'report_zip'}], u'workflow_steps': [{u'step': u'/analysis-steps/FastQC/', u'step_name': u'FastQC'}], u'aliases': [], u'status': u'in review by lab', u'description': u'FastQC quality control step for fastq files', u'award': u'/awards/1U01CA200059-01/', u'lab': u'/labs/4dn-dcic-lab/', u'@id': u'/workflows/2324ad76-ff37-4157-8bcc-3ce72b7dace9/', u'name': u'fastqc-0-11-4-1', u'workflow_type': u'Data QC', u'date_created': u'2017-05-09T07:21:37.091916+00:00', u'@type': [u'Workflow', u'Item']}\\n\",\n",
       "   u'timestamp': 1495723218930},\n",
       "  {u'eventId': u'33355742393530687164002160007841539074235751642341310464',\n",
       "   u'ingestionTime': 1495723218963,\n",
       "   u'logStreamName': u'2017/05/25/[$LATEST]9c19ffc4e2d74f368de4a6faa4891351',\n",
       "   u'message': u'END RequestId: 11a0d623-4158-11e7-a533-c3f1c33c5fd8\\n',\n",
       "   u'timestamp': 1495723218959},\n",
       "  {u'eventId': u'33355742393530687164002160026080530840889458641799479296',\n",
       "   u'ingestionTime': 1495723234050,\n",
       "   u'logStreamName': u'2017/05/25/[$LATEST]9c19ffc4e2d74f368de4a6faa4891351',\n",
       "   u'message': u'REPORT RequestId: 11a0d623-4158-11e7-a533-c3f1c33c5fd8\\tDuration: 2204.76 ms\\tBilled Duration: 2300 ms \\tMemory Size: 512 MB\\tMax Memory Used: 50 MB\\t\\n',\n",
       "   u'timestamp': 1495723218959},\n",
       "  {u'eventId': u'33355742394199709519958078720326602389068909486978891777',\n",
       "   u'ingestionTime': 1495723234050,\n",
       "   u'logStreamName': u'2017/05/25/[$LATEST]9c19ffc4e2d74f368de4a6faa4891351',\n",
       "   u'message': u'START RequestId: 12f05ff4-4158-11e7-96d0-bd2f35821cf7 Version: $LATEST\\n',\n",
       "   u'timestamp': 1495723218989},\n",
       "  {u'eventId': u'33355742395537754231869916108818745485427811177337716738',\n",
       "   u'ingestionTime': 1495723234050,\n",
       "   u'logStreamName': u'2017/05/25/[$LATEST]9c19ffc4e2d74f368de4a6faa4891351',\n",
       "   u'message': u\"[WARNING]\\t2017-05-25T14:40:19.49Z\\t12f05ff4-4158-11e7-96d0-bd2f35821cf7\\tsbg is {'import_id_list': [], 'app_name': u'fastqc-0-11-4-1/1', 'task_id': '', 'task_input': None, 'volume_list': [], 'output_volume_id': None, 'header': {'X-SBG-Auth-Token': '8246fc01a92c400da9f66352743759e2', 'Content-type': 'application/json'}, 'export_report': [], 'project_id': '4dn-dcic/dev', 'export_id_list': []}\\n\",\n",
       "   u'timestamp': 1495723219049},\n",
       "  {u'eventId': u'33355742396875798943781753479253499641332635151952052224',\n",
       "   u'ingestionTime': 1495723219113,\n",
       "   u'logStreamName': u'2017/05/25/[$LATEST]b5d9172e0a3447c389f660901991bee3',\n",
       "   u'message': u\"[WARNING]\\t2017-05-25T14:40:19.109Z\\t12bd41f0-4158-11e7-85b4-e12c7622ccd6\\tinput_files is [{'workflow_argument_name': u'input_fastq', 'value': u'f89fa00b-2f3d-4880-874a-1ae8ec08c66d'}]\\n\",\n",
       "   u'timestamp': 1495723219109},\n",
       "  {u'eventId': u'33355742398860565266450978956907567508052417041728798723',\n",
       "   u'ingestionTime': 1495723234050,\n",
       "   u'logStreamName': u'2017/05/25/[$LATEST]9c19ffc4e2d74f368de4a6faa4891351',\n",
       "   u'message': u\"[WARNING]\\t2017-05-25T14:40:19.198Z\\t12f05ff4-4158-11e7-96d0-bd2f35821cf7\\tworkflow info  {u'cwl_pointer': u'https://igor.sbgenomics.com/raw/4dn-dcic/dev/fastqc-0-11-4/0', u'display_title': u'FastQC', u'accession': u'4DNWFAW5VTA5', u'link_id': u'~workflows~2324ad76-ff37-4157-8bcc-3ce72b7dace9~', u'alternate_accessions': [], u'external_references': [], u'documents': [], u'uuid': u'2324ad76-ff37-4157-8bcc-3ce72b7dace9', u'title': u'FastQC', u'schema_version': u'1', u'arguments': [{u'argument_mapping': [{u'workflow_step': u'/analysis-steps/FastQC/', u'step_argument_name': u'limits_file', u'step_argument_type': u'Input file'}], u'argument_type': u'Input file', u'workflow_argument_name': u'limits_file'}, {u'argument_mapping': [{u'workflow_step': u'/analysis-steps/FastQC/', u'step_argument_name': u'input_fastq', u'step_argument_type': u'Input file'}], u'argument_type': u'Input file', u'argument_format': u'fastq', u'workflow_argument_name': u'input_fastq'}, {u'argument_mapping': [{u'workflow_step': u'/analysis-steps/FastQC/', u'step_argument_name': u'contaminants_file', u'step_argument_type': u'Input file'}], u'argument_type': u'Input file', u'workflow_argument_name': u'contaminants_file'}, {u'argument_mapping': [{u'workflow_step': u'/analysis-steps/FastQC/', u'step_argument_name': u'adapters_file', u'step_argument_type': u'Input file'}], u'argument_type': u'Input file', u'workflow_argument_name': u'adapters_file'}, {u'argument_mapping': [{u'workflow_step': u'/analysis-steps/FastQC/', u'step_argument_name': u'report_zip', u'step_argument_type': u'Output file'}], u'argument_type': u'Output QC file', u'workflow_argument_name': u'report_zip'}], u'workflow_steps': [{u'step': u'/analysis-steps/FastQC/', u'step_name': u'FastQC'}], u'aliases': [], u'status': u'in review by lab', u'description': u'FastQC quality control step for fastq files', u'award': u'/awards/1U01CA200059-01/', u'lab': u'/labs/4dn-dcic-lab/', u'@id': u'/workflows/2324ad76-ff37-4157-8bcc-3ce72b7dace9/', u'name': u'fastqc-0-11-4-1', u'workflow_type': u'Data QC', u'date_created': u'2017-05-09T07:21:37.091916+00:00', u'@type': [u'Workflow', u'Item']}\\n\",\n",
       "   u'timestamp': 1495723219198},\n",
       "  {u'eventId': u'33355742402094173320237919312430246657586429460095959044',\n",
       "   u'ingestionTime': 1495723234050,\n",
       "   u'logStreamName': u'2017/05/25/[$LATEST]9c19ffc4e2d74f368de4a6faa4891351',\n",
       "   u'message': u\"[WARNING]\\t2017-05-25T14:40:19.343Z\\t12f05ff4-4158-11e7-96d0-bd2f35821cf7\\tinput_files is [{'workflow_argument_name': u'input_fastq', 'value': u'0e2f7172-83b8-4f79-9a3b-7a6291c41e21'}]\\n\",\n",
       "   u'timestamp': 1495723219343},\n",
       "  {u'eventId': u'33355742420737596306209520241986565106668349951153733632',\n",
       "   u'ingestionTime': 1495723220180,\n",
       "   u'logStreamName': u'2017/05/25/[$LATEST]01450d44f5e44463b6a2a644613f2623',\n",
       "   u'message': u'END RequestId: 122c4cbc-4158-11e7-853b-450c7efbfdbb\\n',\n",
       "   u'timestamp': 1495723220179},\n",
       "  {u'eventId': u'33355742420737596306209520241986565106668349951153733633',\n",
       "   u'ingestionTime': 1495723220180,\n",
       "   u'logStreamName': u'2017/05/25/[$LATEST]01450d44f5e44463b6a2a644613f2623',\n",
       "   u'message': u'REPORT RequestId: 122c4cbc-4158-11e7-853b-450c7efbfdbb\\tDuration: 2514.18 ms\\tBilled Duration: 2600 ms \\tMemory Size: 512 MB\\tMax Memory Used: 41 MB\\t\\n',\n",
       "   u'timestamp': 1495723220179},\n",
       "  {u'eventId': u'33355742424751730441945032407677883526430365737116237824',\n",
       "   u'ingestionTime': 1495723220358,\n",
       "   u'logStreamName': u'2017/05/25/[$LATEST]01450d44f5e44463b6a2a644613f2623',\n",
       "   u'message': u'START RequestId: 13c31957-4158-11e7-9676-7379c10d22e6 Version: $LATEST\\n',\n",
       "   u'timestamp': 1495723220359},\n",
       "  {u'eventId': u'33355742426959504216599564098809940587087289554847989760',\n",
       "   u'ingestionTime': 1495723220457,\n",
       "   u'logStreamName': u'2017/05/25/[$LATEST]01450d44f5e44463b6a2a644613f2623',\n",
       "   u'message': u\"[WARNING]\\t2017-05-25T14:40:20.458Z\\t13c31957-4158-11e7-9676-7379c10d22e6\\tsbg is {'import_id_list': [], 'app_name': u'fastqc-0-11-4-1/1', 'task_id': '', 'task_input': None, 'volume_list': [], 'output_volume_id': None, 'header': {'X-SBG-Auth-Token': '8246fc01a92c400da9f66352743759e2', 'Content-type': 'application/json'}, 'export_report': [], 'project_id': '4dn-dcic/dev', 'export_id_list': []}\\n\",\n",
       "   u'timestamp': 1495723220458},\n",
       "  {u'eventId': u'33355742430527623448364463801645117939623304600101257216',\n",
       "   u'ingestionTime': 1495723220614,\n",
       "   u'logStreamName': u'2017/05/25/[$LATEST]01450d44f5e44463b6a2a644613f2623',\n",
       "   u'message': u\"[WARNING]\\t2017-05-25T14:40:20.618Z\\t13c31957-4158-11e7-9676-7379c10d22e6\\tworkflow info  {u'cwl_pointer': u'https://igor.sbgenomics.com/raw/4dn-dcic/dev/fastqc-0-11-4/0', u'display_title': u'FastQC', u'accession': u'4DNWFAW5VTA5', u'link_id': u'~workflows~2324ad76-ff37-4157-8bcc-3ce72b7dace9~', u'alternate_accessions': [], u'external_references': [], u'documents': [], u'uuid': u'2324ad76-ff37-4157-8bcc-3ce72b7dace9', u'title': u'FastQC', u'schema_version': u'1', u'arguments': [{u'argument_mapping': [{u'workflow_step': u'/analysis-steps/FastQC/', u'step_argument_name': u'limits_file', u'step_argument_type': u'Input file'}], u'argument_type': u'Input file', u'workflow_argument_name': u'limits_file'}, {u'argument_mapping': [{u'workflow_step': u'/analysis-steps/FastQC/', u'step_argument_name': u'input_fastq', u'step_argument_type': u'Input file'}], u'argument_type': u'Input file', u'argument_format': u'fastq', u'workflow_argument_name': u'input_fastq'}, {u'argument_mapping': [{u'workflow_step': u'/analysis-steps/FastQC/', u'step_argument_name': u'contaminants_file', u'step_argument_type': u'Input file'}], u'argument_type': u'Input file', u'workflow_argument_name': u'contaminants_file'}, {u'argument_mapping': [{u'workflow_step': u'/analysis-steps/FastQC/', u'step_argument_name': u'adapters_file', u'step_argument_type': u'Input file'}], u'argument_type': u'Input file', u'workflow_argument_name': u'adapters_file'}, {u'argument_mapping': [{u'workflow_step': u'/analysis-steps/FastQC/', u'step_argument_name': u'report_zip', u'step_argument_type': u'Output file'}], u'argument_type': u'Output QC file', u'workflow_argument_name': u'report_zip'}], u'workflow_steps': [{u'step': u'/analysis-steps/FastQC/', u'step_name': u'FastQC'}], u'aliases': [], u'status': u'in review by lab', u'description': u'FastQC quality control step for fastq files', u'award': u'/awards/1U01CA200059-01/', u'lab': u'/labs/4dn-dcic-lab/', u'@id': u'/workflows/2324ad76-ff37-4157-8bcc-3ce72b7dace9/', u'name': u'fastqc-0-11-4-1', u'workflow_type': u'Data QC', u'date_created': u'2017-05-09T07:21:37.091916+00:00', u'@type': [u'Workflow', u'Item']}\\n\",\n",
       "   u'timestamp': 1495723220618},\n",
       "  {u'eventId': u'33355742433382118833776383563917929476160824722494980096',\n",
       "   u'ingestionTime': 1495723220743,\n",
       "   u'logStreamName': u'2017/05/25/[$LATEST]01450d44f5e44463b6a2a644613f2623',\n",
       "   u'message': u\"[WARNING]\\t2017-05-25T14:40:20.746Z\\t13c31957-4158-11e7-9676-7379c10d22e6\\tinput_files is [{'workflow_argument_name': u'input_fastq', 'value': u'c7bce211-ccc4-478f-8f26-1f4137fa25c0'}]\\n\",\n",
       "   u'timestamp': 1495723220746},\n",
       "  {u'eventId': u'33355742444376386216651980773302966462697415771508637696',\n",
       "   u'ingestionTime': 1495723221246,\n",
       "   u'logStreamName': u'2017/05/25/[$LATEST]b5d9172e0a3447c389f660901991bee3',\n",
       "   u'message': u'END RequestId: 12bd41f0-4158-11e7-85b4-e12c7622ccd6\\n',\n",
       "   u'timestamp': 1495723221239},\n",
       "  {u'eventId': u'33355742444376386216651980773302966462697415771508637697',\n",
       "   u'ingestionTime': 1495723221246,\n",
       "   u'logStreamName': u'2017/05/25/[$LATEST]b5d9172e0a3447c389f660901991bee3',\n",
       "   u'message': u'REPORT RequestId: 12bd41f0-4158-11e7-85b4-e12c7622ccd6\\tDuration: 2544.40 ms\\tBilled Duration: 2600 ms \\tMemory Size: 512 MB\\tMax Memory Used: 41 MB\\t\\n',\n",
       "   u'timestamp': 1495723221239},\n",
       "  {u'eventId': u'33355742489067079594507349551363285659214911371967660032',\n",
       "   u'ingestionTime': 1495723223250,\n",
       "   u'logStreamName': u'2017/05/25/[$LATEST]01450d44f5e44463b6a2a644613f2623',\n",
       "   u'message': u'END RequestId: 13c31957-4158-11e7-9676-7379c10d22e6\\n',\n",
       "   u'timestamp': 1495723223243},\n",
       "  {u'eventId': u'33355742489067079594507349551363285659214911371967660033',\n",
       "   u'ingestionTime': 1495723223250,\n",
       "   u'logStreamName': u'2017/05/25/[$LATEST]01450d44f5e44463b6a2a644613f2623',\n",
       "   u'message': u'REPORT RequestId: 13c31957-4158-11e7-9676-7379c10d22e6\\tDuration: 2882.63 ms\\tBilled Duration: 2900 ms \\tMemory Size: 512 MB\\tMax Memory Used: 41 MB\\t\\n',\n",
       "   u'timestamp': 1495723223243}],\n",
       " u'searchedLogStreams': [{u'logStreamName': u'2017/05/25/[$LATEST]01450d44f5e44463b6a2a644613f2623',\n",
       "   u'searchedCompletely': True},\n",
       "  {u'logStreamName': u'2017/05/25/[$LATEST]308c57fe4bee453daeac7fc90fa3d7fb',\n",
       "   u'searchedCompletely': True},\n",
       "  {u'logStreamName': u'2017/05/25/[$LATEST]9c19ffc4e2d74f368de4a6faa4891351',\n",
       "   u'searchedCompletely': True},\n",
       "  {u'logStreamName': u'2017/05/25/[$LATEST]a08d2e0f6e754dd39039599374d327ce',\n",
       "   u'searchedCompletely': True},\n",
       "  {u'logStreamName': u'2017/05/25/[$LATEST]ada1efca6fb846f3995ce11d55274f94',\n",
       "   u'searchedCompletely': True},\n",
       "  {u'logStreamName': u'2017/05/25/[$LATEST]b5d9172e0a3447c389f660901991bee3',\n",
       "   u'searchedCompletely': True}]}"
      ]
     },
     "execution_count": 9,
     "metadata": {},
     "output_type": "execute_result"
    }
   ],
   "source": [
    "awslambda = boto3.client('lambda', region_name='us-east-1')\n",
    "lambda_details = awslambda.get_function_configuration(FunctionName=lambda_arn)\n",
    "print(\"lambda was last updated %s UTC time\" % \n",
    "      lambda_details['LastModified'])\n",
    "\n",
    "\n",
    "# need to conver to format aws likes\n",
    "import datetime\n",
    "import pytz\n",
    "\n",
    "epoch = pytz.utc.localize(datetime.datetime.utcfromtimestamp(0))\n",
    "\n",
    "def unix_time_millis(dt):\n",
    "    return int((dt - epoch).total_seconds()) * 1000\n",
    "\n",
    "log_stream = \"/aws/lambda/%s\" % lambda_details['FunctionName']\n",
    "\n",
    "cloudwatch = boto3.client('logs', region_name='us-east-1')\n",
    "end_time_local = failing_lambda[0]['timestamp']\n",
    "\n",
    "end_time = unix_time_millis(end_time_local.astimezone(pytz.utc))\n",
    "\n",
    "start_time_local = failing_lambda[-1]['timestamp']\n",
    "start_time = unix_time_millis(start_time_local.astimezone(pytz.utc))\n",
    "cloudwatch.filter_log_events(logGroupName=log_stream,\n",
    "                            startTime=start_time,\n",
    "                            endTime=end_time)\n",
    "\n",
    "\n",
    "\n"
   ]
  },
  {
   "cell_type": "markdown",
   "metadata": {
    "collapsed": true
   },
   "source": [
    "Some of the checks below should help identify common problems, such as file doesn't exist..."
   ]
  },
  {
   "cell_type": "code",
   "execution_count": 10,
   "metadata": {
    "collapsed": true
   },
   "outputs": [],
   "source": [
    "# TODO: ensure workflow exists on target server\n",
    "\n",
    "# TODO: check the input files exists on s3\n",
    "\n",
    "# TODO: validate input for step\n"
   ]
  },
  {
   "cell_type": "code",
   "execution_count": null,
   "metadata": {
    "collapsed": true
   },
   "outputs": [],
   "source": []
  }
 ],
 "metadata": {
  "kernelspec": {
   "display_name": "Python 2",
   "language": "python",
   "name": "python2"
  },
  "language_info": {
   "codemirror_mode": {
    "name": "ipython",
    "version": 2
   },
   "file_extension": ".py",
   "mimetype": "text/x-python",
   "name": "python",
   "nbconvert_exporter": "python",
   "pygments_lexer": "ipython2",
   "version": "2.7.12"
  }
 },
 "nbformat": 4,
 "nbformat_minor": 2
}
