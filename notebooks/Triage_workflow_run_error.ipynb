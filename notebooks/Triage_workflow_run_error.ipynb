{
 "cells": [
  {
   "cell_type": "code",
   "execution_count": null,
   "metadata": {},
   "outputs": [],
   "source": [
    "# %load init.py\n",
    "%load_ext autoreload\n",
    "%autoreload 2\n",
    "import pandas as pd\n",
    "import numpy as np\n",
    "import matplotlib.pyplot as plt\n",
    "from core import utils\n",
    "import boto3\n",
    "pd.set_option('display.max_columns',100);pd.set_option('display.max_rows',1000)\n",
    "%matplotlib inline\n"
   ]
  },
  {
   "cell_type": "code",
   "execution_count": null,
   "metadata": {
    "scrolled": true
   },
   "outputs": [],
   "source": [
    "# Connect to AWS and see what's going on\n",
    "client = boto3.client('stepfunctions', region_name='us-east-1')\n",
    "base_arn = 'arn:aws:states:us-east-1:643366669028:%s:%s'\n",
    "STEP_FUNCTION_ARN = base_arn % ('stateMachine', 'run_sbg_workflow_2')\n",
    "\n",
    "executions = client.list_executions(stateMachineArn=STEP_FUNCTION_ARN, maxResults=1000)\n",
    "print(len(executions.get('executions')))\n",
    "\n",
    "\n",
    "\n",
    "\n"
   ]
  },
  {
   "cell_type": "code",
   "execution_count": null,
   "metadata": {},
   "outputs": [],
   "source": [
    "exec_df = pd.DataFrame(executions.get('executions'))\n",
    "exec_df.sort_values(by='startDate', ascending=False, inplace=True)\n",
    "exec_df.head()"
   ]
  },
  {
   "cell_type": "code",
   "execution_count": null,
   "metadata": {},
   "outputs": [],
   "source": [
    "#clean up the names\n",
    "to_replace = ['fastqc*', 'validate*', 'test*']\n",
    "value = ['fastqc', 'validate', 'testing']\n",
    "exec_df['type'] = exec_df.name.replace(to_replace='[-,_].*$', value='', regex=True, inplace=False)\n",
    "exec_df.head()\n",
    "\n",
    "\n",
    "\n"
   ]
  },
  {
   "cell_type": "code",
   "execution_count": null,
   "metadata": {
    "scrolled": true
   },
   "outputs": [],
   "source": [
    "group_by_status = exec_df.groupby(['type', 'status'])\n",
    "group_by_status.size().unstack().plot(kind='bar', stacked=True)\n"
   ]
  },
  {
   "cell_type": "code",
   "execution_count": null,
   "metadata": {},
   "outputs": [],
   "source": [
    "#Failures in last couple of day\n",
    "import datetime\n",
    "cutoff = datetime.datetime.today() - datetime.timedelta(days=1) \n",
    "latest = exec_df.loc[(exec_df.startDate > cutoff) & (exec_df.status.apply(lambda x: x in ['FAILED', 'ABORTED']))]"
   ]
  },
  {
   "cell_type": "code",
   "execution_count": null,
   "metadata": {},
   "outputs": [],
   "source": [
    "# get the url to view the result\n",
    "exec_name = 'fastqc-0-11-4-1-1_4DNFIWJZJ6JS.fastq.gz'\n",
    "\n",
    "def get_exec_arn(name):\n",
    "    return latest.loc[latest.name == name, 'executionArn'].iloc[0]\n",
    "    \n",
    "    \n",
    "def get_exec_url(name):\n",
    "\n",
    "    #arn = latest.iloc[0]['executionArn']\n",
    "    arn = latest.loc[latest.name == name, 'executionArn'].iloc[0]\n",
    "    baseurl = 'https://console.aws.amazon.com/states/home?region=us-east-1#/executions/details/'\n",
    "    return '%s%s' % (baseurl, arn)\n",
    "\n",
    "url = get_exec_url(exec_name)\n",
    "arn = get_exec_arn(exec_name)\n",
    "print(url, arn)"
   ]
  },
  {
   "cell_type": "code",
   "execution_count": null,
   "metadata": {},
   "outputs": [],
   "source": [
    "resp = client.get_execution_history(executionArn=arn, reverseOrder=True)\n",
    "\n",
    "for i, event in enumerate(resp.get('events')):\n",
    "    if event.get('type') == 'LambdaFunctionScheduled':\n",
    "        break\n",
    "failing_lambda = resp.get('events')[:i+1]\n",
    "lambda_arn = failing_lambda[-1]['lambdaFunctionScheduledEventDetails']['resource']\n",
    "lambda_time = failing_lambda[-1]['timestamp']\n",
    "failure = failing_lambda[0].get('executionFailedEventDetails')\n",
    "\n",
    "print(\"lambda %s \\nRunning at %s failed \\nFailure is %s\" % (lambda_arn, str(lambda_time), failure))"
   ]
  },
  {
   "cell_type": "code",
   "execution_count": null,
   "metadata": {
    "collapsed": true
   },
   "outputs": [],
   "source": [
    "#TODO: get logGroupName and LogStreamName so I can get associated cloud watch logs"
   ]
  }
 ],
 "metadata": {
  "kernelspec": {
   "display_name": "Python 2",
   "language": "python",
   "name": "python2"
  },
  "language_info": {
   "codemirror_mode": {
    "name": "ipython",
    "version": 2
   },
   "file_extension": ".py",
   "mimetype": "text/x-python",
   "name": "python",
   "nbconvert_exporter": "python",
   "pygments_lexer": "ipython2",
   "version": "2.7.12"
  }
 },
 "nbformat": 4,
 "nbformat_minor": 2
}
