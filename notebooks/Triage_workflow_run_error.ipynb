{
 "cells": [
  {
   "cell_type": "markdown",
   "metadata": {},
   "source": [
    "# Triage Workflow Run Error\n",
    "\n",
    "This notebook will look through Tibanna's StepFunction interface on AWS, shows some graphs, then determine the last failed execution and show you what the error for the last execution was.\n"
   ]
  },
  {
   "cell_type": "code",
   "execution_count": 1,
   "metadata": {},
   "outputs": [
    {
     "name": "stderr",
     "output_type": "stream",
     "text": [
      "/Users/j1z0/.virtualenvs/27wranglers/lib/python2.7/site-packages/matplotlib/__init__.py:913: UserWarning: axes.color_cycle is deprecated and replaced with axes.prop_cycle; please use the latter.\n",
      "  warnings.warn(self.msg_depr % (key, alt_key))\n"
     ]
    }
   ],
   "source": [
    "# first we just load up some stuff\n",
    "# %load init.py\n",
    "%load_ext autoreload\n",
    "%autoreload 2\n",
    "import pandas as pd\n",
    "import numpy as np\n",
    "import matplotlib.pyplot as plt\n",
    "from core import utils\n",
    "import boto3\n",
    "import json\n",
    "pd.set_option('display.max_columns',100);pd.set_option('display.max_rows',1000)\n",
    "%matplotlib inline\n"
   ]
  },
  {
   "cell_type": "code",
   "execution_count": 2,
   "metadata": {
    "scrolled": true
   },
   "outputs": [
    {
     "data": {
      "text/html": [
       "<div>\n",
       "<style>\n",
       "    .dataframe thead tr:only-child th {\n",
       "        text-align: right;\n",
       "    }\n",
       "\n",
       "    .dataframe thead th {\n",
       "        text-align: left;\n",
       "    }\n",
       "\n",
       "    .dataframe tbody tr th {\n",
       "        vertical-align: top;\n",
       "    }\n",
       "</style>\n",
       "<table border=\"1\" class=\"dataframe\">\n",
       "  <thead>\n",
       "    <tr style=\"text-align: right;\">\n",
       "      <th></th>\n",
       "      <th>executionArn</th>\n",
       "      <th>name</th>\n",
       "      <th>startDate</th>\n",
       "      <th>stateMachineArn</th>\n",
       "      <th>status</th>\n",
       "      <th>stopDate</th>\n",
       "    </tr>\n",
       "  </thead>\n",
       "  <tbody>\n",
       "    <tr>\n",
       "      <th>0</th>\n",
       "      <td>arn:aws:states:us-east-1:643366669028:executio...</td>\n",
       "      <td>hicpartb-test-4DNFIN232ZZZ_3</td>\n",
       "      <td>2017-06-07 22:37:56.045000-04:00</td>\n",
       "      <td>arn:aws:states:us-east-1:643366669028:stateMac...</td>\n",
       "      <td>FAILED</td>\n",
       "      <td>2017-06-07 22:38:14.783000-04:00</td>\n",
       "    </tr>\n",
       "    <tr>\n",
       "      <th>1</th>\n",
       "      <td>arn:aws:states:us-east-1:643366669028:executio...</td>\n",
       "      <td>testrun_20170607213439365436</td>\n",
       "      <td>2017-06-07 21:34:39.895000-04:00</td>\n",
       "      <td>arn:aws:states:us-east-1:643366669028:stateMac...</td>\n",
       "      <td>ABORTED</td>\n",
       "      <td>2017-06-07 21:34:40.171000-04:00</td>\n",
       "    </tr>\n",
       "    <tr>\n",
       "      <th>2</th>\n",
       "      <td>arn:aws:states:us-east-1:643366669028:executio...</td>\n",
       "      <td>testrun_20170607213124904763</td>\n",
       "      <td>2017-06-07 21:31:25.435000-04:00</td>\n",
       "      <td>arn:aws:states:us-east-1:643366669028:stateMac...</td>\n",
       "      <td>ABORTED</td>\n",
       "      <td>2017-06-07 21:31:25.707000-04:00</td>\n",
       "    </tr>\n",
       "    <tr>\n",
       "      <th>3</th>\n",
       "      <td>arn:aws:states:us-east-1:643366669028:executio...</td>\n",
       "      <td>hicpartb-test-4DNFIN232ZZZ__2</td>\n",
       "      <td>2017-06-07 20:56:54.687000-04:00</td>\n",
       "      <td>arn:aws:states:us-east-1:643366669028:stateMac...</td>\n",
       "      <td>FAILED</td>\n",
       "      <td>2017-06-07 20:56:58.605000-04:00</td>\n",
       "    </tr>\n",
       "    <tr>\n",
       "      <th>4</th>\n",
       "      <td>arn:aws:states:us-east-1:643366669028:executio...</td>\n",
       "      <td>testrun_20170607204455171809</td>\n",
       "      <td>2017-06-07 20:44:56.042000-04:00</td>\n",
       "      <td>arn:aws:states:us-east-1:643366669028:stateMac...</td>\n",
       "      <td>ABORTED</td>\n",
       "      <td>2017-06-07 20:44:56.314000-04:00</td>\n",
       "    </tr>\n",
       "  </tbody>\n",
       "</table>\n",
       "</div>"
      ],
      "text/plain": [
       "                                        executionArn  \\\n",
       "0  arn:aws:states:us-east-1:643366669028:executio...   \n",
       "1  arn:aws:states:us-east-1:643366669028:executio...   \n",
       "2  arn:aws:states:us-east-1:643366669028:executio...   \n",
       "3  arn:aws:states:us-east-1:643366669028:executio...   \n",
       "4  arn:aws:states:us-east-1:643366669028:executio...   \n",
       "\n",
       "                            name                        startDate  \\\n",
       "0   hicpartb-test-4DNFIN232ZZZ_3 2017-06-07 22:37:56.045000-04:00   \n",
       "1   testrun_20170607213439365436 2017-06-07 21:34:39.895000-04:00   \n",
       "2   testrun_20170607213124904763 2017-06-07 21:31:25.435000-04:00   \n",
       "3  hicpartb-test-4DNFIN232ZZZ__2 2017-06-07 20:56:54.687000-04:00   \n",
       "4   testrun_20170607204455171809 2017-06-07 20:44:56.042000-04:00   \n",
       "\n",
       "                                     stateMachineArn   status  \\\n",
       "0  arn:aws:states:us-east-1:643366669028:stateMac...   FAILED   \n",
       "1  arn:aws:states:us-east-1:643366669028:stateMac...  ABORTED   \n",
       "2  arn:aws:states:us-east-1:643366669028:stateMac...  ABORTED   \n",
       "3  arn:aws:states:us-east-1:643366669028:stateMac...   FAILED   \n",
       "4  arn:aws:states:us-east-1:643366669028:stateMac...  ABORTED   \n",
       "\n",
       "                          stopDate  \n",
       "0 2017-06-07 22:38:14.783000-04:00  \n",
       "1 2017-06-07 21:34:40.171000-04:00  \n",
       "2 2017-06-07 21:31:25.707000-04:00  \n",
       "3 2017-06-07 20:56:58.605000-04:00  \n",
       "4 2017-06-07 20:44:56.314000-04:00  "
      ]
     },
     "execution_count": 2,
     "metadata": {},
     "output_type": "execute_result"
    }
   ],
   "source": [
    "# Connect to AWS and see what's going on\n",
    "client = boto3.client('stepfunctions', region_name='us-east-1')\n",
    "base_arn = 'arn:aws:states:us-east-1:643366669028:%s:%s'\n",
    "STEP_FUNCTION_ARN = base_arn % ('stateMachine', 'run_sbg_workflow_3')\n",
    "\n",
    "executions = client.list_executions(stateMachineArn=STEP_FUNCTION_ARN, maxResults=1000)\n",
    "exec_df = pd.DataFrame(executions.get('executions'))\n",
    "exec_df.sort_values(by='startDate', ascending=False, inplace=True)\n",
    "exec_df.head()\n",
    "\n",
    "\n",
    "\n",
    "\n"
   ]
  },
  {
   "cell_type": "code",
   "execution_count": 3,
   "metadata": {
    "scrolled": true
   },
   "outputs": [
    {
     "data": {
      "text/plain": [
       "<matplotlib.axes._subplots.AxesSubplot at 0x109291e10>"
      ]
     },
     "execution_count": 3,
     "metadata": {},
     "output_type": "execute_result"
    },
    {
     "data": {
      "image/png": "[encoded data removed]",
      "text/plain": [
       "<matplotlib.figure.Figure at 0x1091cefd0>"
      ]
     },
     "metadata": {},
     "output_type": "display_data"
    }
   ],
   "source": [
    "#clean up the names of runs so we can better group things for graphing\n",
    "\n",
    "to_replace = ['fastqc*', 'validate*', 'test*']\n",
    "value = ['fastqc', 'validate', 'testing']\n",
    "exec_df['type'] = exec_df.name.replace(to_replace='[-,_].*$', value='', regex=True, inplace=False)\n",
    "\n",
    "\n",
    "fig, axs = plt.subplots(1,2, figsize=(15,3))\n",
    "\n",
    "group_by_status = exec_df.groupby(['type', 'status'])\n",
    "group_by_status.size().unstack().plot(kind='bar', stacked=True, ax=axs[0])\n",
    "\n",
    "overview = exec_df.groupby(['status'])\n",
    "overview.size().plot(kind='bar', stacked=True, ax=axs[1])\n"
   ]
  },
  {
   "cell_type": "markdown",
   "metadata": {},
   "source": [
    "Now onto the diagnostics.  Below you can use num_days to shorten the length of the query which will show you all the errors found in that time period."
   ]
  },
  {
   "cell_type": "code",
   "execution_count": 4,
   "metadata": {},
   "outputs": [
    {
     "name": "stdout",
     "output_type": "stream",
     "text": [
      "62 errors found for all step functions since 2017-05-29\n"
     ]
    }
   ],
   "source": [
    "# Failures in last num_days\n",
    "num_days = 10\n",
    "import datetime\n",
    "cutoff = datetime.datetime.today() - datetime.timedelta(days=10) \n",
    "latest = exec_df.loc[(exec_df.startDate > cutoff) & (exec_df.status.apply(lambda x: x in ['FAILED',]))]\n",
    "print(\"%s errors found for all step functions since %s\" % \n",
    "      (len(latest), cutoff.date()))"
   ]
  },
  {
   "cell_type": "markdown",
   "metadata": {},
   "source": [
    "By default we will get the most recent error, but you can set exec_name if you want to look at a particular execution."
   ]
  },
  {
   "cell_type": "code",
   "execution_count": 5,
   "metadata": {},
   "outputs": [
    {
     "name": "stdout",
     "output_type": "stream",
     "text": [
      "you can view the url for the failing run by clicking on the link below:\n",
      "\n",
      "https://console.aws.amazon.com/states/home?region=us-east-1#/executions/details/arn:aws:states:us-east-1:643366669028:execution:run_sbg_workflow_3:hicpartb-test-4DNFIN232ZZZ_3\n"
     ]
    }
   ],
   "source": [
    "# by default though we get the most recent errror\n",
    "exec_name = latest.iloc[0]['name']\n",
    "\n",
    "# use to view errors for a specific step-function run result\n",
    "exec_name = 'hicpartb-test-4DNFIN232ZZZ_3'\n",
    "\n",
    "def get_exec_arn(name):\n",
    "    try:\n",
    "        return latest.loc[latest.name == name, 'executionArn'].iloc[0]\n",
    "    except:\n",
    "        print(\"run %s not found \" % name)\n",
    "        print(latest)\n",
    "        return ''\n",
    "       \n",
    "def get_exec_url(name):\n",
    "    try:\n",
    "        arn = latest.loc[latest.name == name, 'executionArn'].iloc[0]\n",
    "        baseurl = 'https://console.aws.amazon.com/states/home?region=us-east-1#/executions/details/'\n",
    "        return '%s%s' % (baseurl, arn)\n",
    "    except:\n",
    "        print(\"run %s not found\" % name)\n",
    "        return ''\n",
    "    \n",
    "url = get_exec_url(exec_name)\n",
    "arn = get_exec_arn(exec_name)\n",
    "print(\"you can view the url for the failing run by clicking on the link below:\\n\")\n",
    "print(url)"
   ]
  },
  {
   "cell_type": "code",
   "execution_count": 6,
   "metadata": {},
   "outputs": [
    {
     "name": "stdout",
     "output_type": "stream",
     "text": [
      "lambda arn:aws:lambda:us-east-1:643366669028:function:run_task_sbg \n",
      "Running at 2017-06-07 22:38:10.193000-04:00 failed \n",
      "Failure is {u'cause': u'{\"stackTrace\": [[\"/var/task/service.py\", 27, \"handler\", \"(sbg.task_input, run_response))\"]], \"errorType\": \"Exception\", \"errorMessage\": \"Failed to create task with input <core.sbg_utils.SBGTaskInput object at 0x7fe89a59d4d0>\\\\n detailed info is {u\\'status\\': 400, u\\'message\\': u\\'Task can not be started due to validation errors.\\', u\\'code\\': 7024, u\\'more_info\\': u\\'http://docs.sevenbridges.com/docs/api-status-codes#7024\\'}\"}', u'error': u'Exception'}\n",
      "\n",
      "\n",
      "input json for the lambda was:\n",
      "\n",
      "{u'input': u'{\"pf_meta\": [{\"status\": \"to be uploaded by workflow\", \"uuid\": \"2ae8fbc9-7f73-44a5-9b78-f430451e7ceb\", \"file_format\": \"pairs_px2\", \"accession\": \"4DNFIFUTEI3K\", \"lab\": \"4dn-dcic-lab\", \"award\": \"1U01CA200059-01\"}, {\"status\": \"to be uploaded by workflow\", \"uuid\": \"0051ce0d-9747-4ba6-834b-7e008ee42731\", \"file_format\": \"pairs\", \"accession\": \"4DNFIQFRVJT6\", \"lab\": \"4dn-dcic-lab\", \"award\": \"1U01CA200059-01\"}, {\"status\": \"to be uploaded by workflow\", \"uuid\": \"8f8866e4-aa4a-45e3-84f7-3c21b1d86b46\", \"file_format\": \"cool\", \"accession\": \"4DNFIS0ZO1RB\", \"lab\": \"4dn-dcic-lab\", \"award\": \"1U01CA200059-01\"}, {\"status\": \"to be uploaded by workflow\", \"uuid\": \"5bb3a85f-e15a-47d3-a116-e54c2c325894\", \"file_format\": \"hic\", \"accession\": \"4DNFIYTJBRBN\", \"lab\": \"4dn-dcic-lab\", \"award\": \"1U01CA200059-01\"}, {\"status\": \"to be uploaded by workflow\", \"uuid\": \"0ddc9209-ef33-4836-b4b2-3f5ac65740f2\", \"file_format\": \"mcool\", \"accession\": \"4DNFI7WIOST8\", \"lab\": \"4dn-dcic-lab\", \"award\": \"1U01CA200059-01\"}], \"ff_meta\": {\"run_platform\": \"SBG\", \"uuid\": \"14bbfede-c365-47b8-9a2a-ac70d649e47b\", \"parameters\": [{\"workflow_argument_name\": \"ncores\", \"value\": \"8\"}, {\"workflow_argument_name\": \"min_res\", \"value\": \"5000\"}, {\"workflow_argument_name\": \"normalization_type\", \"value\": \"KR\"}, {\"workflow_argument_name\": \"binsize\", \"value\": \"5000\"}], \"workflow\": \"b9829418-49e5-4c33-afab-9ec90d65faf3\", \"title\": \"hi-c-processing-partb/19 run 2017-06-08 02:38:00.894235\", \"sbg_import_ids\": [\"4DNFIN232ZZZ.pairs.txt.gz\", \"4DNFI823LSII.chrom.sizes\"], \"award\": \"1U01CA200059-01\", \"sbg_task_id\": \"\", \"lab\": \"4dn-dcic-lab\", \"sbg_mounted_volume_ids\": [\"4dn_s3ifx3hhu5\", \"4dn_s3fe8zoa2p\", \"4dn_s3jt2qw61x\", \"4dn_s37go2t53f\"], \"run_status\": \"started\", \"output_files\": [{\"extension\": \".pairs.txt.gz.px2\", \"format\": \"pairs_px2\", \"workflow_argument_name\": \"output_pairs_index\", \"value\": \"2ae8fbc9-7f73-44a5-9b78-f430451e7ceb\", \"upload_key\": \"2ae8fbc9-7f73-44a5-9b78-f430451e7ceb/4DNFIFUTEI3K.pairs.txt.gz.px2\", \"type\": \"Output processed file\"}, {\"extension\": \".pairs.txt.gz\", \"format\": \"pairs\", \"workflow_argument_name\": \"output_pairs\", \"value\": \"0051ce0d-9747-4ba6-834b-7e008ee42731\", \"upload_key\": \"0051ce0d-9747-4ba6-834b-7e008ee42731/4DNFIQFRVJT6.pairs.txt.gz\", \"type\": \"Output processed file\"}, {\"extension\": \".cool\", \"format\": \"cool\", \"workflow_argument_name\": \"out_cool\", \"value\": \"8f8866e4-aa4a-45e3-84f7-3c21b1d86b46\", \"upload_key\": \"8f8866e4-aa4a-45e3-84f7-3c21b1d86b46/4DNFIS0ZO1RB.cool\", \"type\": \"Output processed file\"}, {\"extension\": \".hic\", \"format\": \"hic\", \"workflow_argument_name\": \"output_hic\", \"value\": \"5bb3a85f-e15a-47d3-a116-e54c2c325894\", \"upload_key\": \"5bb3a85f-e15a-47d3-a116-e54c2c325894/4DNFIYTJBRBN.hic\", \"type\": \"Output processed file\"}, {\"extension\": \".mcool\", \"format\": \"mcool\", \"workflow_argument_name\": \"out_mcool\", \"value\": \"0ddc9209-ef33-4836-b4b2-3f5ac65740f2\", \"upload_key\": \"0ddc9209-ef33-4836-b4b2-3f5ac65740f2/4DNFI7WIOST8.mcool\", \"type\": \"Output processed file\"}], \"sbg_export_ids\": [], \"input_files\": [{\"workflow_argument_name\": \"input_pairs\", \"value\": \"0048955c-7cb6-4e56-a4d8-56fad52f9999\"}, {\"workflow_argument_name\": \"input_pairs\", \"value\": \"0048955c-7cb6-4e56-a4d8-56fad52f9999\"}, {\"workflow_argument_name\": \"chrsizes\", \"value\": \"4a6d10ee-2edb-4402-a98f-0edb1d58f5e9\"}]}, \"_tibanna\": {\"env\": \"fourfront-webprod\", \"settings\": {\"env\": \"fourfront-webprod\"}}, \"workflow\": {\"import_id_list\": [\"4DNFIN232ZZZ.pairs.txt.gz\", \"4DNFI823LSII.chrom.sizes\"], \"app_name\": \"hi-c-processing-partb/19\", \"task_id\": \"\", \"task_input\": {\"project\": \"4dn-dcic/dev\", \"inputs\": {\"min_res\": 5000, \"normalization_type\": \"KR\", \"input_pairs\": {\"path\": \"592e9e04e4b09a1f078e5793\", \"class\": \"File\", \"name\": \"4DNFIN232ZZZ.pairs.txt.gz\"}, \"ncores\": 8, \"chrsizes\": {\"path\": \"59305cb6e4b01337c803e724\", \"class\": \"File\", \"name\": \"4DNFI823LSII.chrom.sizes\"}, \"binsize\": 5000}, \"app\": \"4dn-dcic/dev/hi-c-processing-partb/19\", \"name\": \"hi-c-processing-partb/19\"}, \"volume_list\": [{\"id\": \"4dn-labor/4dn_s3ifx3hhu5\", \"name\": \"4dn_s3ifx3hhu5\"}, {\"id\": \"4dn-labor/4dn_s3fe8zoa2p\", \"name\": \"4dn_s3fe8zoa2p\"}, {\"id\": \"4dn-labor/4dn_s3jt2qw61x\", \"name\": \"4dn_s3jt2qw61x\"}, {\"id\": \"4dn-labor/4dn_s37go2t53f\", \"name\": \"4dn_s37go2t53f\"}], \"output_volume_id\": \"4dn-labor/4dn_s37go2t53f\", \"export_report\": [], \"project_id\": \"4dn-dcic/dev\", \"export_id_list\": []}}', u'resource': u'arn:aws:lambda:us-east-1:643366669028:function:run_task_sbg'}\n"
     ]
    }
   ],
   "source": [
    "# now let's see which lambda for the run failed\n",
    "resp = client.get_execution_history(executionArn=arn, reverseOrder=True)\n",
    "\n",
    "# find the failing lambda\n",
    "for i, event in enumerate(resp.get('events')):\n",
    "    if event.get('type') == 'LambdaFunctionScheduled':\n",
    "        break\n",
    "        \n",
    "failing_lambda = resp.get('events')[:i+1]\n",
    "lambda_arn = failing_lambda[-1]['lambdaFunctionScheduledEventDetails']['resource']\n",
    "input_json = failing_lambda[-1]['lambdaFunctionScheduledEventDetails']\n",
    "lambda_time = failing_lambda[-1]['timestamp']\n",
    "failure = failing_lambda[0].get('executionFailedEventDetails')\n",
    "if failure is None:\n",
    "    failure = failing_lambda[0].get('executionAbortedEventDetails')\n",
    "\n",
    "print(\"lambda %s \\nRunning at %s failed \\nFailure is %s\" % \n",
    "      (lambda_arn, str(lambda_time), failure))\n",
    "print\n",
    "print\n",
    "print(\"input json for the lambda was:\") \n",
    "print\n",
    "print(input_json)\n"
   ]
  },
  {
   "cell_type": "code",
   "execution_count": 7,
   "metadata": {},
   "outputs": [
    {
     "data": {
      "text/plain": [
       "u\"Failed to create task with input <core.sbg_utils.SBGTaskInput object at 0x7fe89a59d4d0>\\n detailed info is {u'status': 400, u'message': u'Task can not be started due to validation errors.', u'code': 7024, u'more_info': u'http://docs.sevenbridges.com/docs/api-status-codes#7024'}\""
      ]
     },
     "execution_count": 7,
     "metadata": {},
     "output_type": "execute_result"
    }
   ],
   "source": [
    "json.loads(failure['cause'])['errorMessage']"
   ]
  },
  {
   "cell_type": "markdown",
   "metadata": {},
   "source": [
    "And what follows is the cloudwatch logs if we can find any"
   ]
  },
  {
   "cell_type": "code",
   "execution_count": 8,
   "metadata": {},
   "outputs": [
    {
     "name": "stdout",
     "output_type": "stream",
     "text": [
      "lambda was last updated 2017-06-06T15:08:13.771+0000 UTC time\n"
     ]
    },
    {
     "data": {
      "text/plain": [
       "{'ResponseMetadata': {'HTTPHeaders': {'content-length': '505',\n",
       "   'content-type': 'application/x-amz-json-1.1',\n",
       "   'date': 'Thu, 08 Jun 2017 14:17:00 GMT',\n",
       "   'x-amzn-requestid': '22de143e-4c55-11e7-93c0-2b2df3a42357'},\n",
       "  'HTTPStatusCode': 200,\n",
       "  'RequestId': '22de143e-4c55-11e7-93c0-2b2df3a42357',\n",
       "  'RetryAttempts': 0},\n",
       " u'events': [{u'eventId': u'33381751154884258383160189744984732063370779896838291456',\n",
       "   u'ingestionTime': 1496889492165,\n",
       "   u'logStreamName': u'2017/06/08/[$LATEST]95ca6b4b75fe4f619a1950b2bab84ec8',\n",
       "   u'message': u'START RequestId: 82d877c9-4bf3-11e7-875e-7577afa14a1e Version: $LATEST\\n',\n",
       "   u'timestamp': 1496889492154}],\n",
       " u'searchedLogStreams': [{u'logStreamName': u'2017/06/08/[$LATEST]95ca6b4b75fe4f619a1950b2bab84ec8',\n",
       "   u'searchedCompletely': True}]}"
      ]
     },
     "execution_count": 8,
     "metadata": {},
     "output_type": "execute_result"
    }
   ],
   "source": [
    "awslambda = boto3.client('lambda', region_name='us-east-1')\n",
    "lambda_details = awslambda.get_function_configuration(FunctionName=lambda_arn)\n",
    "print(\"lambda was last updated %s UTC time\" % \n",
    "      lambda_details['LastModified'])\n",
    "\n",
    "\n",
    "# need to conver to format aws likes\n",
    "import datetime\n",
    "import pytz\n",
    "\n",
    "epoch = pytz.utc.localize(datetime.datetime.utcfromtimestamp(0))\n",
    "\n",
    "def unix_time_millis(dt):\n",
    "    return int((dt - epoch).total_seconds()) * 1000\n",
    "\n",
    "log_stream = \"/aws/lambda/%s\" % lambda_details['FunctionName']\n",
    "\n",
    "cloudwatch = boto3.client('logs', region_name='us-east-1')\n",
    "end_time_local = failing_lambda[0]['timestamp']\n",
    "\n",
    "end_time = unix_time_millis(end_time_local.astimezone(pytz.utc))\n",
    "\n",
    "start_time_local = failing_lambda[-1]['timestamp']\n",
    "start_time = unix_time_millis(start_time_local.astimezone(pytz.utc))\n",
    "cloudwatch.filter_log_events(logGroupName=log_stream,\n",
    "                            startTime=start_time,\n",
    "                            endTime=end_time)\n",
    "\n",
    "\n",
    "\n"
   ]
  },
  {
   "cell_type": "markdown",
   "metadata": {
    "collapsed": true
   },
   "source": [
    "Some of the checks below should help identify common problems, such as file doesn't exist..."
   ]
  },
  {
   "cell_type": "code",
   "execution_count": 9,
   "metadata": {
    "collapsed": true
   },
   "outputs": [],
   "source": [
    "# TODO: ensure workflow exists on target server\n",
    "\n",
    "# TODO: check the input files exists on s3\n",
    "\n",
    "# TODO: validate input for step\n"
   ]
  },
  {
   "cell_type": "code",
   "execution_count": null,
   "metadata": {
    "collapsed": true
   },
   "outputs": [],
   "source": []
  }
 ],
 "metadata": {
  "kernelspec": {
   "display_name": "Python 2",
   "language": "python",
   "name": "python2"
  },
  "language_info": {
   "codemirror_mode": {
    "name": "ipython",
    "version": 2
   },
   "file_extension": ".py",
   "mimetype": "text/x-python",
   "name": "python",
   "nbconvert_exporter": "python",
   "pygments_lexer": "ipython2",
   "version": "2.7.12"
  }
 },
 "nbformat": 4,
 "nbformat_minor": 2
}
