{
 "cells": [
  {
   "cell_type": "markdown",
   "metadata": {},
   "source": [
    "# Triage Workflow Run Error\n",
    "\n",
    "This notebook will look through Tibanna's StepFunction interface on AWS, shows some graphs, then determine the last failed execution and show you what the error for the last execution was.\n"
   ]
  },
  {
   "cell_type": "code",
   "execution_count": 1,
   "metadata": {},
   "outputs": [
    {
     "name": "stderr",
     "output_type": "stream",
     "text": [
      "/Users/j1z0/.virtualenvs/27wranglers/lib/python2.7/site-packages/matplotlib/__init__.py:913: UserWarning: axes.color_cycle is deprecated and replaced with axes.prop_cycle; please use the latter.\n",
      "  warnings.warn(self.msg_depr % (key, alt_key))\n"
     ]
    }
   ],
   "source": [
    "# first we just load up some stuff\n",
    "# %load init.py\n",
    "%load_ext autoreload\n",
    "%autoreload 2\n",
    "import pandas as pd\n",
    "import numpy as np\n",
    "import matplotlib.pyplot as plt\n",
    "from core import utils\n",
    "import boto3\n",
    "import json\n",
    "pd.set_option('display.max_columns',100);pd.set_option('display.max_rows',1000)\n",
    "%matplotlib inline\n"
   ]
  },
  {
   "cell_type": "code",
   "execution_count": 2,
   "metadata": {
    "scrolled": true
   },
   "outputs": [
    {
     "data": {
      "text/html": [
       "<div>\n",
       "<style>\n",
       "    .dataframe thead tr:only-child th {\n",
       "        text-align: right;\n",
       "    }\n",
       "\n",
       "    .dataframe thead th {\n",
       "        text-align: left;\n",
       "    }\n",
       "\n",
       "    .dataframe tbody tr th {\n",
       "        vertical-align: top;\n",
       "    }\n",
       "</style>\n",
       "<table border=\"1\" class=\"dataframe\">\n",
       "  <thead>\n",
       "    <tr style=\"text-align: right;\">\n",
       "      <th></th>\n",
       "      <th>executionArn</th>\n",
       "      <th>name</th>\n",
       "      <th>startDate</th>\n",
       "      <th>stateMachineArn</th>\n",
       "      <th>status</th>\n",
       "      <th>stopDate</th>\n",
       "    </tr>\n",
       "  </thead>\n",
       "  <tbody>\n",
       "    <tr>\n",
       "      <th>0</th>\n",
       "      <td>arn:aws:states:us-east-1:643366669028:executio...</td>\n",
       "      <td>testrun_20170526153220732809</td>\n",
       "      <td>2017-05-26 15:32:20.886000-04:00</td>\n",
       "      <td>arn:aws:states:us-east-1:643366669028:stateMac...</td>\n",
       "      <td>ABORTED</td>\n",
       "      <td>2017-05-26 15:32:21.156000-04:00</td>\n",
       "    </tr>\n",
       "    <tr>\n",
       "      <th>1</th>\n",
       "      <td>arn:aws:states:us-east-1:643366669028:executio...</td>\n",
       "      <td>testrun_20170526152854658288</td>\n",
       "      <td>2017-05-26 15:28:54.841000-04:00</td>\n",
       "      <td>arn:aws:states:us-east-1:643366669028:stateMac...</td>\n",
       "      <td>ABORTED</td>\n",
       "      <td>2017-05-26 15:28:55.071000-04:00</td>\n",
       "    </tr>\n",
       "    <tr>\n",
       "      <th>2</th>\n",
       "      <td>arn:aws:states:us-east-1:643366669028:executio...</td>\n",
       "      <td>generic_bdaaaff5-6ecf-42fe-b3f4-065915be8a43</td>\n",
       "      <td>2017-05-26 15:23:26.317000-04:00</td>\n",
       "      <td>arn:aws:states:us-east-1:643366669028:stateMac...</td>\n",
       "      <td>RUNNING</td>\n",
       "      <td>NaT</td>\n",
       "    </tr>\n",
       "    <tr>\n",
       "      <th>9</th>\n",
       "      <td>arn:aws:states:us-east-1:643366669028:executio...</td>\n",
       "      <td>fastqc-0-11-4-1-1_4DNFIX2YOM48.fastq.gza33f09d...</td>\n",
       "      <td>2017-05-26 10:40:10.283000-04:00</td>\n",
       "      <td>arn:aws:states:us-east-1:643366669028:stateMac...</td>\n",
       "      <td>SUCCEEDED</td>\n",
       "      <td>2017-05-26 11:11:32.918000-04:00</td>\n",
       "    </tr>\n",
       "    <tr>\n",
       "      <th>51</th>\n",
       "      <td>arn:aws:states:us-east-1:643366669028:executio...</td>\n",
       "      <td>fastqc-0-11-4-1-1_4DNFI7JKBOM7.fastq.gz</td>\n",
       "      <td>2017-05-26 10:40:04.584000-04:00</td>\n",
       "      <td>arn:aws:states:us-east-1:643366669028:stateMac...</td>\n",
       "      <td>RUNNING</td>\n",
       "      <td>NaT</td>\n",
       "    </tr>\n",
       "  </tbody>\n",
       "</table>\n",
       "</div>"
      ],
      "text/plain": [
       "                                         executionArn  \\\n",
       "0   arn:aws:states:us-east-1:643366669028:executio...   \n",
       "1   arn:aws:states:us-east-1:643366669028:executio...   \n",
       "2   arn:aws:states:us-east-1:643366669028:executio...   \n",
       "9   arn:aws:states:us-east-1:643366669028:executio...   \n",
       "51  arn:aws:states:us-east-1:643366669028:executio...   \n",
       "\n",
       "                                                 name  \\\n",
       "0                        testrun_20170526153220732809   \n",
       "1                        testrun_20170526152854658288   \n",
       "2        generic_bdaaaff5-6ecf-42fe-b3f4-065915be8a43   \n",
       "9   fastqc-0-11-4-1-1_4DNFIX2YOM48.fastq.gza33f09d...   \n",
       "51            fastqc-0-11-4-1-1_4DNFI7JKBOM7.fastq.gz   \n",
       "\n",
       "                          startDate  \\\n",
       "0  2017-05-26 15:32:20.886000-04:00   \n",
       "1  2017-05-26 15:28:54.841000-04:00   \n",
       "2  2017-05-26 15:23:26.317000-04:00   \n",
       "9  2017-05-26 10:40:10.283000-04:00   \n",
       "51 2017-05-26 10:40:04.584000-04:00   \n",
       "\n",
       "                                      stateMachineArn     status  \\\n",
       "0   arn:aws:states:us-east-1:643366669028:stateMac...    ABORTED   \n",
       "1   arn:aws:states:us-east-1:643366669028:stateMac...    ABORTED   \n",
       "2   arn:aws:states:us-east-1:643366669028:stateMac...    RUNNING   \n",
       "9   arn:aws:states:us-east-1:643366669028:stateMac...  SUCCEEDED   \n",
       "51  arn:aws:states:us-east-1:643366669028:stateMac...    RUNNING   \n",
       "\n",
       "                           stopDate  \n",
       "0  2017-05-26 15:32:21.156000-04:00  \n",
       "1  2017-05-26 15:28:55.071000-04:00  \n",
       "2                               NaT  \n",
       "9  2017-05-26 11:11:32.918000-04:00  \n",
       "51                              NaT  "
      ]
     },
     "execution_count": 2,
     "metadata": {},
     "output_type": "execute_result"
    }
   ],
   "source": [
    "# Connect to AWS and see what's going on\n",
    "client = boto3.client('stepfunctions', region_name='us-east-1')\n",
    "base_arn = 'arn:aws:states:us-east-1:643366669028:%s:%s'\n",
    "STEP_FUNCTION_ARN = base_arn % ('stateMachine', 'run_sbg_workflow_2')\n",
    "\n",
    "executions = client.list_executions(stateMachineArn=STEP_FUNCTION_ARN, maxResults=1000)\n",
    "exec_df = pd.DataFrame(executions.get('executions'))\n",
    "exec_df.sort_values(by='startDate', ascending=False, inplace=True)\n",
    "exec_df.head()\n",
    "\n",
    "\n",
    "\n",
    "\n"
   ]
  },
  {
   "cell_type": "code",
   "execution_count": 3,
   "metadata": {
    "scrolled": true
   },
   "outputs": [
    {
     "data": {
      "text/plain": [
       "<matplotlib.axes._subplots.AxesSubplot at 0x10fcbd310>"
      ]
     },
     "execution_count": 3,
     "metadata": {},
     "output_type": "execute_result"
    },
    {
     "data": {
      "image/png": "[encoded data removed]",
      "text/plain": [
       "<matplotlib.figure.Figure at 0x10e9c61d0>"
      ]
     },
     "metadata": {},
     "output_type": "display_data"
    }
   ],
   "source": [
    "#clean up the names of runs so we can better group things for graphing\n",
    "\n",
    "to_replace = ['fastqc*', 'validate*', 'test*']\n",
    "value = ['fastqc', 'validate', 'testing']\n",
    "exec_df['type'] = exec_df.name.replace(to_replace='[-,_].*$', value='', regex=True, inplace=False)\n",
    "\n",
    "\n",
    "fig, axs = plt.subplots(1,2, figsize=(15,3))\n",
    "\n",
    "group_by_status = exec_df.groupby(['type', 'status'])\n",
    "group_by_status.size().unstack().plot(kind='bar', stacked=True, ax=axs[0])\n",
    "\n",
    "overview = exec_df.groupby(['status'])\n",
    "overview.size().plot(kind='bar', stacked=True, ax=axs[1])\n"
   ]
  },
  {
   "cell_type": "markdown",
   "metadata": {},
   "source": [
    "Now onto the diagnostics.  Below you can use num_days to shorten the length of the query which will show you all the errors found in that time period."
   ]
  },
  {
   "cell_type": "code",
   "execution_count": 4,
   "metadata": {},
   "outputs": [
    {
     "name": "stdout",
     "output_type": "stream",
     "text": [
      "27 errors found for all step functions since 2017-05-20\n"
     ]
    }
   ],
   "source": [
    "# Failures in last num_days\n",
    "num_days = 10\n",
    "import datetime\n",
    "cutoff = datetime.datetime.today() - datetime.timedelta(days=10) \n",
    "latest = exec_df.loc[(exec_df.startDate > cutoff) & (exec_df.status.apply(lambda x: x in ['FAILED',]))]\n",
    "print(\"%s errors found for all step functions since %s\" % \n",
    "      (len(latest), cutoff.date()))"
   ]
  },
  {
   "cell_type": "markdown",
   "metadata": {},
   "source": [
    "By default we will get the most recent error, but you can set exec_name if you want to look at a particular execution."
   ]
  },
  {
   "cell_type": "code",
   "execution_count": 5,
   "metadata": {},
   "outputs": [
    {
     "name": "stdout",
     "output_type": "stream",
     "text": [
      "you can view the url for the failing run by clicking on the link below:\n",
      "\n",
      "https://console.aws.amazon.com/states/home?region=us-east-1#/executions/details/arn:aws:states:us-east-1:643366669028:execution:run_sbg_workflow_2:fastqc-0-11-4-1-1_4DNFIWJZJ6JS.fastq.gz\n"
     ]
    }
   ],
   "source": [
    "# by default though we get the most recent errror\n",
    "exec_name = latest.iloc[0]['name']\n",
    "\n",
    "# use to view errors for a specific step-function run result\n",
    "# exec_name = 'fastqc-0-11-4-1-1_4DNFIWJZJ6JS.fastq.gz'\n",
    "\n",
    "def get_exec_arn(name):\n",
    "    try:\n",
    "        return latest.loc[latest.name == name, 'executionArn'].iloc[0]\n",
    "    except:\n",
    "        print(\"run %s not found \" % name)\n",
    "        return ''\n",
    "       \n",
    "def get_exec_url(name):\n",
    "    try:\n",
    "        arn = latest.loc[latest.name == name, 'executionArn'].iloc[0]\n",
    "        baseurl = 'https://console.aws.amazon.com/states/home?region=us-east-1#/executions/details/'\n",
    "        return '%s%s' % (baseurl, arn)\n",
    "    except:\n",
    "        print(\"run %s not found\" % name)\n",
    "        return ''\n",
    "    \n",
    "url = get_exec_url(exec_name)\n",
    "arn = get_exec_arn(exec_name)\n",
    "print(\"you can view the url for the failing run by clicking on the link below:\\n\")\n",
    "print(url)"
   ]
  },
  {
   "cell_type": "code",
   "execution_count": 6,
   "metadata": {},
   "outputs": [
    {
     "name": "stdout",
     "output_type": "stream",
     "text": [
      "lambda arn:aws:lambda:us-east-1:643366669028:function:start_run_sbg \n",
      "Running at 2017-05-25 10:40:18.830000-04:00 failed \n",
      "Failure is {u'cause': u'{\"stackTrace\": [[\"/var/task/service.py\", 116, \"handler\", \"raise Exception(\\\\\"Unable to mount output volume, error is %s \\\\\" % res)\"]], \"errorType\": \"Exception\", \"errorMessage\": \"Unable to mount output volume, error is {u\\'status\\': 403, u\\'message\\': u\\'Could not obtain cross-write access on the service. Check the documentation.\\', u\\'code\\': 9002, u\\'more_info\\': u\\'http://docs.sevenbridges.com/docs/api-status-codes#9002\\'} \"}', u'error': u'Exception'}\n",
      "\n",
      "\n",
      "input json for the lambda was:\n",
      "\n",
      "{u'input': u'{\"app_name\": \"fastqc-0-11-4-1/1\", \"parameters\": {}, \"_tibanna\": {\"run_type\": \"fastqc-0-11-4-1/1\", \"run_id\": \"4DNFIWJZJ6JS.fastq.gz\", \"url\": \"https://console.aws.amazon.com/states/home?region=us-east-1#/executions/details/arn:aws:states:us-east-1:643366669028:execution:run_sbg_workflow_2:fastqc-0-11-4-1-1_4DNFIWJZJ6JS.fastq.gz\", \"env\": \"fourfront-webdev\", \"run_name\": \"fastqc-0-11-4-1-1_4DNFIWJZJ6JS.fastq.gz\"}, \"output_bucket\": \"elasticbeanstalk-fourfront-webdev-wfoutput\", \"workflow_uuid\": \"2324ad76-ff37-4157-8bcc-3ce72b7dace9\", \"input_files\": [{\"object_key\": \"4DNFIWJZJ6JS.fastq.gz\", \"bucket_name\": \"elasticbeanstalk-fourfront-webdev-files\", \"workflow_argument_name\": \"input_fastq\", \"uuid\": \"0e2f7172-83b8-4f79-9a3b-7a6291c41e21\"}]}', u'resource': u'arn:aws:lambda:us-east-1:643366669028:function:start_run_sbg'}\n"
     ]
    }
   ],
   "source": [
    "# now let's see which lambda for the run failed\n",
    "resp = client.get_execution_history(executionArn=arn, reverseOrder=True)\n",
    "\n",
    "for i, event in enumerate(resp.get('events')):\n",
    "    if event.get('type') == 'LambdaFunctionScheduled':\n",
    "        break\n",
    "failing_lambda = resp.get('events')[:i+1]\n",
    "lambda_arn = failing_lambda[-1]['lambdaFunctionScheduledEventDetails']['resource']\n",
    "input_json = failing_lambda[-1]['lambdaFunctionScheduledEventDetails']\n",
    "lambda_time = failing_lambda[-1]['timestamp']\n",
    "failure = failing_lambda[0].get('executionFailedEventDetails')\n",
    "if failure is None:\n",
    "    failure = failing_lambda[0].get('executionAbortedEventDetails')\n",
    "\n",
    "print(\"lambda %s \\nRunning at %s failed \\nFailure is %s\" % \n",
    "      (lambda_arn, str(lambda_time), failure))\n",
    "print\n",
    "print\n",
    "print(\"input json for the lambda was:\") \n",
    "print\n",
    "print(input_json)\n"
   ]
  },
  {
   "cell_type": "code",
   "execution_count": 7,
   "metadata": {},
   "outputs": [
    {
     "data": {
      "text/plain": [
       "u\"Unable to mount output volume, error is {u'status': 403, u'message': u'Could not obtain cross-write access on the service. Check the documentation.', u'code': 9002, u'more_info': u'http://docs.sevenbridges.com/docs/api-status-codes#9002'} \""
      ]
     },
     "execution_count": 7,
     "metadata": {},
     "output_type": "execute_result"
    }
   ],
   "source": [
    "json.loads(failure['cause'])['errorMessage']"
   ]
  },
  {
   "cell_type": "markdown",
   "metadata": {
    "collapsed": true
   },
   "source": [
    "Some of the checks below should help identify common problems, such as file doesn't exist..."
   ]
  },
  {
   "cell_type": "code",
   "execution_count": 8,
   "metadata": {
    "collapsed": true
   },
   "outputs": [],
   "source": [
    "# TODO: ensure workflow exists on target server\n",
    "\n",
    "# TODO: check the input files exists on s3\n",
    "\n",
    "# TODO: validate input for step\n"
   ]
  }
 ],
 "metadata": {
  "kernelspec": {
   "display_name": "Python 2",
   "language": "python",
   "name": "python2"
  },
  "language_info": {
   "codemirror_mode": {
    "name": "ipython",
    "version": 2
   },
   "file_extension": ".py",
   "mimetype": "text/x-python",
   "name": "python",
   "nbconvert_exporter": "python",
   "pygments_lexer": "ipython2",
   "version": "2.7.12"
  }
 },
 "nbformat": 4,
 "nbformat_minor": 2
}
