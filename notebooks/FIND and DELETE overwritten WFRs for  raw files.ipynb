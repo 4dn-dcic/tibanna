{
 "cells": [
  {
   "cell_type": "code",
   "execution_count": 54,
   "metadata": {},
   "outputs": [
    {
     "name": "stdout",
     "output_type": "stream",
     "text": [
      "md5\n",
      "fastqc-0-11-4-1/1\n",
      "fastqc-0-11-4-1/1\n"
     ]
    }
   ],
   "source": [
    "# This script is looking at the given enviroment and going through all the input files\n",
    "# to see if any of then have a mising/deleted/obsolete input file.\n",
    "# The first part is only reporting, and the second part is if you want to change the status\n",
    "# to deleted and also delete output files.\n",
    "\n",
    "from core.utils import Tibanna\n",
    "from core import ff_utils\n",
    "from datetime import datetime\n",
    "\n",
    "\n",
    "\n",
    "# set enviroment and key/connection\n",
    "env = 'fourfront-webdev'\n",
    "tibanna = Tibanna(env=env)\n",
    "ff = ff_utils.fdn_connection(key=tibanna.ff_keys)\n",
    "\n",
    "# what kind of files should be searched for worflow run inputs, use url compatible naming\n",
    "raw_file_types = ['files-fastq']\n",
    "\n",
    "# checked workflows\n",
    "workflow_names = ['md5', 'fastqc-0-11-4-1/1', 'hi-c-processing-parta-juicer/5']\n",
    "\n",
    "\n",
    "# get all wfr\n",
    "for raw_file_type in raw_file_types:\n",
    "    files = ff_utils.get_metadata(raw_file_type , connection=ff)['@graph']\n",
    "    for raw_file in files:\n",
    "#         for keyx in raw_file.keys():\n",
    "#             print keyx, ';', raw_file[keyx] \n",
    "        wfr_report = []\n",
    "        wfrs = raw_file.get('workflow_run_inputs')  \n",
    "        if wfrs:\n",
    "            for wfr in wfrs:\n",
    "                wfr_data= ff_utils.get_metadata(wfr , connection=ff)\n",
    "                \n",
    "                wfr_uuid = wfr_data['uuid']\n",
    "                wfr_status = wfr_data['run_status']\n",
    "                wfr_name = wfr_data['title'].split(' run ')[0]\n",
    "                wfr_time = datetime.strptime(wfr_data['date_created'],'%Y-%m-%dT%H:%M:%S.%f+00:00')\n",
    "                run_hours = int((datetime.now()-wfr_time).total_seconds()/3600)\n",
    "                wfr_report.append({'wfr_uuid': wfr_data['uuid'],\n",
    "                                   'wfr_status': wfr_data['run_status'],\n",
    "                                   'wfr_name': wfr_data['title'].split(' run ')[0]},\n",
    "                                   'wfr_date': wfr_time,\n",
    "                                   'run_time')\n",
    "                \n",
    "                   \n",
    "        break\n",
    "    break\n",
    "        "
   ]
  },
  {
   "cell_type": "code",
   "execution_count": null,
   "metadata": {
    "collapsed": true
   },
   "outputs": [],
   "source": []
  }
 ],
 "metadata": {
  "kernelspec": {
   "display_name": "Python 2",
   "language": "python",
   "name": "python2"
  },
  "language_info": {
   "codemirror_mode": {
    "name": "ipython",
    "version": 2
   },
   "file_extension": ".py",
   "mimetype": "text/x-python",
   "name": "python",
   "nbconvert_exporter": "python",
   "pygments_lexer": "ipython2",
   "version": "2.7.10"
  }
 },
 "nbformat": 4,
 "nbformat_minor": 2
}
