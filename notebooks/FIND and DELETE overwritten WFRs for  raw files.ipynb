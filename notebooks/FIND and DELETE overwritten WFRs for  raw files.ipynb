{
 "cells": [
  {
   "cell_type": "code",
   "execution_count": null,
   "metadata": {
    "collapsed": true
   },
   "outputs": [],
   "source": [
    "# This script is looking at the given enviroment and going through all the input files\n",
    "# to see if any of then have a mising/deleted/obsolete input file.\n",
    "# The first part is only reporting, and the second part is if you want to change the status\n",
    "# to deleted and also delete output files.\n",
    "\n",
    "from core.utils import Tibanna\n",
    "from core import ff_utils\n",
    "\n",
    "# set enviroment and key/connection\n",
    "env = 'fourfront-webdev'\n",
    "tibanna = Tibanna(env=env)\n",
    "ff = ff_utils.fdn_connection(key=tibanna.ff_keys)\n",
    "\n",
    "# what kind of files should be searched for worflow run inputs, use url compatible naming\n",
    "raw_file_types = ['files-fastq']\n",
    "\n",
    "# get all wfr\n",
    "for raw_file_type in raw_file_types:\n",
    "    files = ff_utils.get_metadata(raw_file_type , connection=ff)['@graph']\n",
    "    for raw_file in files:\n",
    "        "
   ]
  }
 ],
 "metadata": {
  "kernelspec": {
   "display_name": "Python 2",
   "language": "python",
   "name": "python2"
  },
  "language_info": {
   "codemirror_mode": {
    "name": "ipython",
    "version": 2
   },
   "file_extension": ".py",
   "mimetype": "text/x-python",
   "name": "python",
   "nbconvert_exporter": "python",
   "pygments_lexer": "ipython2",
   "version": "2.7.10"
  }
 },
 "nbformat": 4,
 "nbformat_minor": 2
}
